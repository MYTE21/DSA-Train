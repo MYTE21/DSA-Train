{
 "cells": [
  {
   "cell_type": "markdown",
   "source": [
    "# Stack\n",
    "A stack is a Last In First Out (LIFO) data structure, which means that the last element added to the stack will be the first one to be removed."
   ],
   "metadata": {
    "collapsed": false
   }
  },
  {
   "cell_type": "markdown",
   "source": [
    "## Python Implementation - Stack"
   ],
   "metadata": {
    "collapsed": false
   }
  },
  {
   "cell_type": "code",
   "execution_count": 1,
   "metadata": {
    "collapsed": true
   },
   "outputs": [],
   "source": [
    "# Stack class\n",
    "class Stack:\n",
    "    def __init__(self):\n",
    "        self.items = []\n",
    "\n",
    "    def push(self, item):\n",
    "        self.items.append(item)\n",
    "\n",
    "    def pop(self):\n",
    "        return self.items.pop()\n",
    "\n",
    "    def is_empty(self):\n",
    "        return True if self.items == [] else False"
   ]
  },
  {
   "cell_type": "code",
   "execution_count": 2,
   "outputs": [
    {
     "name": "stdout",
     "output_type": "stream",
     "text": [
      "3\n",
      "2\n",
      "1\n"
     ]
    }
   ],
   "source": [
    "if __name__ == \"__main__\":\n",
    "    stack = Stack()\n",
    "\n",
    "    stack.push(1)\n",
    "    stack.push(2)\n",
    "    stack.push(3)\n",
    "\n",
    "    while not stack.is_empty():\n",
    "        ele = stack.pop()\n",
    "        print(ele)"
   ],
   "metadata": {
    "collapsed": false
   }
  },
  {
   "cell_type": "markdown",
   "source": [
    "## Time Complexity"
   ],
   "metadata": {
    "collapsed": false
   }
  },
  {
   "cell_type": "markdown",
   "source": [
    "push() -> append() -> O(1)\n",
    "\n",
    "pop() -> O(1)\n",
    "\n",
    "peek() -> O(1)"
   ],
   "metadata": {
    "collapsed": false
   }
  },
  {
   "cell_type": "markdown",
   "source": [
    "## Problems"
   ],
   "metadata": {
    "collapsed": false
   }
  },
  {
   "cell_type": "markdown",
   "source": [
    "#### Parentheses Problem\n",
    "Input 1: (()\n",
    "\n",
    "Output 1: (() - is not balanced\n",
    "\n",
    "\n",
    "Input 2: (())()\n",
    "\n",
    "Output 2: (())() - is balanced\n",
    "\n",
    "Solution: [Parentheses Problem Solution](Problems/(1)%20Parentheses.py)"
   ],
   "metadata": {
    "collapsed": false
   }
  },
  {
   "cell_type": "markdown",
   "source": [
    "#### Brackets Problem"
   ],
   "metadata": {
    "collapsed": false
   }
  },
  {
   "cell_type": "markdown",
   "source": [
    "#### Browser Back and Forward Buttons Problem"
   ],
   "metadata": {
    "collapsed": false
   }
  }
 ],
 "metadata": {
  "kernelspec": {
   "display_name": "Python 3",
   "language": "python",
   "name": "python3"
  },
  "language_info": {
   "codemirror_mode": {
    "name": "ipython",
    "version": 2
   },
   "file_extension": ".py",
   "mimetype": "text/x-python",
   "name": "python",
   "nbconvert_exporter": "python",
   "pygments_lexer": "ipython2",
   "version": "2.7.6"
  }
 },
 "nbformat": 4,
 "nbformat_minor": 0
}
