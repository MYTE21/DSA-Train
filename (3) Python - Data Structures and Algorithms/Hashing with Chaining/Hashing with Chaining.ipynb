{
 "cells": [
  {
   "cell_type": "markdown",
   "source": [
    "# Hash Table\n",
    "\n",
    "Link: [ProgramIZ](https://www.programiz.com/dsa/hash-table)\n",
    "\n",
    "The Hash Table data structure stores elements in key-value pairs where -\n",
    "* **key** - unique integer that is used for indexing the values.\n",
    "* **value** - data that are associated with keys.\n",
    "\n",
    "![Key and Value in Hash Table](https://cdn.programiz.com/sites/tutorial2program/files/Hash-0.png)"
   ],
   "metadata": {
    "collapsed": false
   }
  },
  {
   "cell_type": "markdown",
   "source": [
    "## Hashing - Hash Function\n",
    "In a hash table, a new index is processed using the keys. And, the element corresponding to that key is stored in the index. This process is called **hashing**.\n",
    "\n",
    "Let `k` be a key and `h(x)` be a hash function.\n",
    "\n",
    "Here, `h(k)` will give us a new index to store the element linked with `k`."
   ],
   "metadata": {
    "collapsed": false
   }
  },
  {
   "cell_type": "markdown",
   "source": [
    "## Python Implementation - Hashing With Chaining"
   ],
   "metadata": {
    "collapsed": false
   }
  },
  {
   "cell_type": "code",
   "execution_count": 4,
   "metadata": {
    "collapsed": true
   },
   "outputs": [],
   "source": [
    "INITIAL_CAPACITY = 10"
   ]
  },
  {
   "cell_type": "code",
   "execution_count": 5,
   "outputs": [],
   "source": [
    "class HashTable:\n",
    "    def __init__(self):\n",
    "        self.capacity = INITIAL_CAPACITY\n",
    "        self.buckets = [[] for _ in range(self.capacity)]\n",
    "\n",
    "    def hash_function(self, key):\n",
    "        return key % self.capacity\n",
    "\n",
    "    def insert(self, key, value):\n",
    "        hash_index = self.hash_function(key)\n",
    "        self.buckets[hash_index].append([key, value])\n",
    "\n",
    "    def find(self, key):\n",
    "        hash_index = self.hash_function(key)\n",
    "\n",
    "        for ele_cell in self.buckets[hash_index]:\n",
    "            if ele_cell[0] == key:\n",
    "                return ele_cell[1]\n",
    "\n",
    "    def remove(self, key):\n",
    "        hash_index = self.hash_function(key)\n",
    "\n",
    "        for index, ele_cell in enumerate(self.buckets[hash_index]):\n",
    "            if ele_cell[0] == key:\n",
    "                print(\"Deleting ... (\", ele_cell, \")\")\n",
    "                del self.buckets[hash_index][index]\n",
    "\n",
    "    def display_hash_table(self):\n",
    "        for index, ele_cell in enumerate(self.buckets):\n",
    "            print(index, end=\" \")\n",
    "            for ele in ele_cell:\n",
    "                print(\"--> \", end=\" \")\n",
    "                print(ele[1], end=\" \")\n",
    "            print()"
   ],
   "metadata": {
    "collapsed": false
   }
  },
  {
   "cell_type": "code",
   "execution_count": 6,
   "outputs": [
    {
     "name": "stdout",
     "output_type": "stream",
     "text": [
      "The Hash Table: \n",
      "0 -->  Allahabad -->  Mathura \n",
      "1 -->  Punjab -->  Noida \n",
      "2 \n",
      "3 \n",
      "4 \n",
      "5 -->  Mumbai \n",
      "6 \n",
      "7 \n",
      "8 \n",
      "9 -->  Delhi \n",
      "Finding value of 20 key:  Mathura\n",
      "Deleting ... ( [9, 'Delhi'] )\n",
      "The Hash Table After Removing...\n",
      "0 -->  Allahabad -->  Mathura \n",
      "1 -->  Punjab -->  Noida \n",
      "2 \n",
      "3 \n",
      "4 \n",
      "5 -->  Mumbai \n",
      "6 \n",
      "7 \n",
      "8 \n",
      "9 \n"
     ]
    }
   ],
   "source": [
    "if __name__ == \"__main__\":\n",
    "    hash_table = HashTable()\n",
    "\n",
    "    hash_table.insert(10, \"Allahabad\")\n",
    "    hash_table.insert(25, \"Mumbai\")\n",
    "    hash_table.insert(20, \"Mathura\")\n",
    "    hash_table.insert(9, \"Delhi\")\n",
    "    hash_table.insert(21, \"Punjab\")\n",
    "    hash_table.insert(31, \"Noida\")\n",
    "\n",
    "    print(\"The Hash Table: \")\n",
    "    hash_table.display_hash_table()\n",
    "\n",
    "    print(\"Finding value of 20 key: \", hash_table.find(20))\n",
    "\n",
    "    hash_table.remove(9)\n",
    "\n",
    "    print(\"The Hash Table After Removing...\")\n",
    "    hash_table.display_hash_table()"
   ],
   "metadata": {
    "collapsed": false
   }
  },
  {
   "cell_type": "markdown",
   "source": [
    "## Time Complexity"
   ],
   "metadata": {
    "collapsed": false
   }
  },
  {
   "cell_type": "markdown",
   "source": [
    "## Applications of Hash Table"
   ],
   "metadata": {
    "collapsed": false
   }
  }
 ],
 "metadata": {
  "kernelspec": {
   "display_name": "Python 3",
   "language": "python",
   "name": "python3"
  },
  "language_info": {
   "codemirror_mode": {
    "name": "ipython",
    "version": 2
   },
   "file_extension": ".py",
   "mimetype": "text/x-python",
   "name": "python",
   "nbconvert_exporter": "python",
   "pygments_lexer": "ipython2",
   "version": "2.7.6"
  }
 },
 "nbformat": 4,
 "nbformat_minor": 0
}
