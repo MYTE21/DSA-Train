{
 "cells": [
  {
   "cell_type": "markdown",
   "source": [
    "# Basic of Bit Manipulation\n",
    "\n",
    "Basics of Bit Manipulation: [Link](https://www.hackerearth.com/practice/basic-programming/bit-manipulation/basics-of-bit-manipulation/tutorial/?)\n",
    "\n",
    "Python Bitwise Operators: [Link](https://www.geeksforgeeks.org/python-bitwise-operators/)\n",
    "\n",
    "\n",
    "We all know that `1 byte comprises 8 bits` and any integer or character can be represented using bits in computers, which we call its binary form(contains only 1 or 0) or in its base 2 form."
   ],
   "metadata": {
    "collapsed": false
   }
  },
  {
   "cell_type": "markdown",
   "source": [
    "1. How to check if a given number is a power of 2 ?\n",
    "[Bit Manipulation]"
   ],
   "metadata": {
    "collapsed": false
   }
  },
  {
   "cell_type": "code",
   "execution_count": 1,
   "metadata": {
    "collapsed": true
   },
   "outputs": [],
   "source": [
    "def is_power_of_two(num: int) -> bool:\n",
    "    return num and not (num & (num - 1))"
   ]
  },
  {
   "cell_type": "code",
   "execution_count": 2,
   "outputs": [
    {
     "name": "stdout",
     "output_type": "stream",
     "text": [
      "4:  True\n",
      "6:  False\n"
     ]
    }
   ],
   "source": [
    "if __name__ == '__main__':\n",
    "    print(\"4: \", is_power_of_two(4))\n",
    "    print(\"6: \", is_power_of_two(6))"
   ],
   "metadata": {
    "collapsed": false
   }
  },
  {
   "cell_type": "code",
   "execution_count": null,
   "outputs": [],
   "source": [],
   "metadata": {
    "collapsed": false
   }
  }
 ],
 "metadata": {
  "kernelspec": {
   "display_name": "Python 3",
   "language": "python",
   "name": "python3"
  },
  "language_info": {
   "codemirror_mode": {
    "name": "ipython",
    "version": 2
   },
   "file_extension": ".py",
   "mimetype": "text/x-python",
   "name": "python",
   "nbconvert_exporter": "python",
   "pygments_lexer": "ipython2",
   "version": "2.7.6"
  }
 },
 "nbformat": 4,
 "nbformat_minor": 0
}
