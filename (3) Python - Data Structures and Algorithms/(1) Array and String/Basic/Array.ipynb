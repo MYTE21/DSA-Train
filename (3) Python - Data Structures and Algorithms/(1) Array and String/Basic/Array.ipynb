{
 "cells": [
  {
   "cell_type": "markdown",
   "source": [
    "# Array\n",
    "Documentation: [Python Array Module](https://docs.python.org/3/library/array.html)\n",
    "\n",
    "A data type must be given at the beginning of the array's formation because an array can only support one data type at a time.\n",
    "\n",
    "```python\n",
    "# 'i' -> signed integer\n",
    "nums = array(\"i\", [1, 2, 3])\n",
    "```\n",
    "\n",
    "The `array` module in Python should be used when working with arrays.\n",
    "```python\n",
    "from array import array\n",
    "```\n",
    "\n",
    "`Like a list, the index of an array starts at 0.`"
   ],
   "metadata": {
    "collapsed": false
   }
  },
  {
   "cell_type": "markdown",
   "source": [
    "## Example of integer array"
   ],
   "metadata": {
    "collapsed": false
   }
  },
  {
   "cell_type": "code",
   "execution_count": 1,
   "metadata": {
    "collapsed": true
   },
   "outputs": [],
   "source": [
    "# Import array module\n",
    "from array import array"
   ]
  },
  {
   "cell_type": "code",
   "execution_count": 2,
   "outputs": [
    {
     "data": {
      "text/plain": "array('i', [1, 2, 3])"
     },
     "execution_count": 2,
     "metadata": {},
     "output_type": "execute_result"
    }
   ],
   "source": [
    "# Create a signed integer array named 'nums'\n",
    "nums = array(\"i\", [1, 2, 3])\n",
    "nums"
   ],
   "metadata": {
    "collapsed": false
   }
  },
  {
   "cell_type": "code",
   "execution_count": 3,
   "outputs": [
    {
     "name": "stdout",
     "output_type": "stream",
     "text": [
      "1\n",
      "2\n",
      "3\n"
     ]
    }
   ],
   "source": [
    "for i in nums:\n",
    "    print(i)"
   ],
   "metadata": {
    "collapsed": false
   }
  },
  {
   "cell_type": "code",
   "execution_count": 4,
   "outputs": [
    {
     "name": "stdout",
     "output_type": "stream",
     "text": [
      "index: 0 | number: 1\n",
      "index: 1 | number: 2\n",
      "index: 2 | number: 3\n"
     ]
    }
   ],
   "source": [
    "# Index of the array starts at 0\n",
    "for index, num in enumerate(nums):\n",
    "    print(f\"index: {index} | number: {num}\")"
   ],
   "metadata": {
    "collapsed": false
   }
  },
  {
   "cell_type": "markdown",
   "source": [],
   "metadata": {
    "collapsed": false
   }
  },
  {
   "cell_type": "markdown",
   "source": [
    "## Necessary Table of type codes\n",
    "The following type codes are defined:\n",
    "\n",
    "| Type code | C Type             | Python Type       | Minimum size in bytes |\n",
    "|-----------|--------------------|-------------------|-----------------------|\n",
    "| 'b'       | signed char        | int               | 1                     |\n",
    "| 'B'       | unsigned char      | int               | 1                     |\n",
    "| 'u'       | PY-UNICODE         | Unicode character | 2                     |\n",
    "| 'h'       | signed short       | int               | 2                     |\n",
    "| 'H'       | unsigned short     | int               | 2                     |\n",
    "| 'i'       | signed int         | int               | 2                     |\n",
    "| 'I'       | unsigned int       | int               | 2                     |\n",
    "| 'l'       | signed long        | int               | 4                     |\n",
    "| 'L'       | unsigned long      | int               | 4                     |\n",
    "| 'q'       | signed long long   | int               | 8                     |\n",
    "| 'Q'       | unsigned long long | int               | 8                     |\n",
    "| 'f'       | float              | float             | 4                     |\n",
    "| 'd'       | double             | float             | 8                     |"
   ],
   "metadata": {
    "collapsed": false
   }
  },
  {
   "cell_type": "markdown",
   "source": [
    "## Built-in Methods"
   ],
   "metadata": {
    "collapsed": false
   }
  },
  {
   "cell_type": "markdown",
   "source": [
    "#### array.append(x)\n",
    "Append a new item with value x to the end of the array."
   ],
   "metadata": {
    "collapsed": false
   }
  },
  {
   "cell_type": "code",
   "execution_count": 5,
   "outputs": [
    {
     "name": "stdout",
     "output_type": "stream",
     "text": [
      "array('i', [1, 3, 5, 7, 9, 10, 15, 100])\n"
     ]
    }
   ],
   "source": [
    "nums = array(\"i\", [1, 3, 5, 7, 9, 10, 15])\n",
    "nums.append(100)\n",
    "\n",
    "print(nums)"
   ],
   "metadata": {
    "collapsed": false
   }
  },
  {
   "cell_type": "markdown",
   "source": [
    "#### array.count(x)\n",
    "Return the number of occurrences of x in the array."
   ],
   "metadata": {
    "collapsed": false
   }
  },
  {
   "cell_type": "code",
   "execution_count": 6,
   "outputs": [
    {
     "data": {
      "text/plain": "2"
     },
     "execution_count": 6,
     "metadata": {},
     "output_type": "execute_result"
    }
   ],
   "source": [
    "nums = array(\"i\", [1, 3, 5,10,  7, 9, 10])\n",
    "nums.count(10)"
   ],
   "metadata": {
    "collapsed": false
   }
  },
  {
   "cell_type": "markdown",
   "source": [
    "#### array.extend(iterable)\n",
    "Append items from iterable to the end of the array. If iterable is another array, it must have exactly the same type code; if not, TypeError will be raised."
   ],
   "metadata": {
    "collapsed": false
   }
  },
  {
   "cell_type": "code",
   "execution_count": 7,
   "outputs": [
    {
     "name": "stdout",
     "output_type": "stream",
     "text": [
      "Original Array:  array('i', [1, 3, 5, 7, 9])\n",
      "Extended Array:  array('i', [1, 3, 5, 7, 9, 1, 3, 5, 7, 9])\n"
     ]
    }
   ],
   "source": [
    "nums = array(\"i\", [1, 3, 5, 7, 9])\n",
    "print(\"Original Array: \", nums)\n",
    "\n",
    "nums.extend(nums)\n",
    "print(\"Extended Array: \", nums)"
   ],
   "metadata": {
    "collapsed": false
   }
  },
  {
   "cell_type": "markdown",
   "source": [
    "#### array.index(x)\n",
    "Return the smallest i such that i is the index of the first occurrence of x in the array."
   ],
   "metadata": {
    "collapsed": false
   }
  },
  {
   "cell_type": "code",
   "execution_count": 8,
   "outputs": [
    {
     "name": "stdout",
     "output_type": "stream",
     "text": [
      "0\n",
      "1\n",
      "4\n"
     ]
    }
   ],
   "source": [
    "nums = array(\"i\", [1, 2, 1, 3, 20])\n",
    "\n",
    "print(nums.index(1))\n",
    "print(nums.index(2))\n",
    "print(nums.index(20))"
   ],
   "metadata": {
    "collapsed": false
   }
  },
  {
   "cell_type": "markdown",
   "source": [
    "#### array.insert(i, x)\n",
    "Insert a new item with value x in the array before position i. Negative values are treated as being relative\n",
    "to the end of the array."
   ],
   "metadata": {
    "collapsed": false
   }
  },
  {
   "cell_type": "code",
   "execution_count": 9,
   "outputs": [
    {
     "name": "stdout",
     "output_type": "stream",
     "text": [
      "array('i', [1, 2, 3, 4])\n"
     ]
    }
   ],
   "source": [
    "nums = array(\"i\", [1, 2, 4])\n",
    "\n",
    "nums.insert(2, 3)\n",
    "print( nums)"
   ],
   "metadata": {
    "collapsed": false
   }
  },
  {
   "cell_type": "markdown",
   "source": [
    "#### array.pop([i])\n",
    "Removes the item with the index i from the array and returns it. The optional argument defaults to -1,\n",
    "so that by default the last item is removed and returned."
   ],
   "metadata": {
    "collapsed": false
   }
  },
  {
   "cell_type": "code",
   "execution_count": 10,
   "outputs": [
    {
     "name": "stdout",
     "output_type": "stream",
     "text": [
      "Original Array:  array('i', [1, 3, 5, 7, 9, 10, 15, 10])\n",
      "Pop index 4:  9\n",
      "New array:  array('i', [1, 3, 5, 7, 10, 15, 10])\n"
     ]
    }
   ],
   "source": [
    "nums = array('i', [1, 3, 5, 7, 9, 10, 15, 10])\n",
    "print(\"Original Array: \", nums)\n",
    "\n",
    "print(\"Pop index 4: \", nums.pop(4))\n",
    "\n",
    "print(\"New array: \", nums)"
   ],
   "metadata": {
    "collapsed": false
   }
  },
  {
   "cell_type": "markdown",
   "source": [
    "#### array.remove(x)\n",
    "Remove the first occurrence of x from the array."
   ],
   "metadata": {
    "collapsed": false
   }
  },
  {
   "cell_type": "code",
   "execution_count": 11,
   "outputs": [
    {
     "name": "stdout",
     "output_type": "stream",
     "text": [
      "Original Array:  array('i', [1, 3, 5, 7, 9, 10, 15, 10])\n",
      "Remove the first occurrence of number 10 from the array...\n",
      "New array:  array('i', [1, 3, 5, 7, 9, 15, 10])\n"
     ]
    }
   ],
   "source": [
    "nums = array('i', [1, 3, 5, 7, 9, 10, 15, 10])\n",
    "print(\"Original Array: \", nums)\n",
    "\n",
    "print(\"Remove the first occurrence of number 10 from the array...\")\n",
    "nums.remove(10)\n",
    "\n",
    "print(\"New array: \", nums)"
   ],
   "metadata": {
    "collapsed": false
   }
  },
  {
   "cell_type": "markdown",
   "source": [
    "#### array.reverse()\n",
    "Reverse the order of the items in the array."
   ],
   "metadata": {
    "collapsed": false
   }
  },
  {
   "cell_type": "code",
   "execution_count": 12,
   "outputs": [
    {
     "name": "stdout",
     "output_type": "stream",
     "text": [
      "Original Array:  array('i', [1, 3, 5, 7, 9, 10, 15, 10])\n",
      "After reversing:  array('i', [10, 15, 10, 9, 7, 5, 3, 1])\n"
     ]
    }
   ],
   "source": [
    "nums = array('i', [1,3,5,7,9,10,15,10])\n",
    "print(\"Original Array: \", nums)\n",
    "\n",
    "nums.reverse()\n",
    "\n",
    "print(\"After reversing: \", nums)"
   ],
   "metadata": {
    "collapsed": false
   }
  }
 ],
 "metadata": {
  "kernelspec": {
   "display_name": "Python 3",
   "language": "python",
   "name": "python3"
  },
  "language_info": {
   "codemirror_mode": {
    "name": "ipython",
    "version": 2
   },
   "file_extension": ".py",
   "mimetype": "text/x-python",
   "name": "python",
   "nbconvert_exporter": "python",
   "pygments_lexer": "ipython2",
   "version": "2.7.6"
  }
 },
 "nbformat": 4,
 "nbformat_minor": 0
}
