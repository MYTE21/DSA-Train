{
 "cells": [
  {
   "cell_type": "markdown",
   "source": [
    "# Array\n",
    "A data type must be given at the beginning of the array's formation because an array can only support one data type at a time.\n",
    "\n",
    "```python\n",
    "# 'i' -> signed integer\n",
    "nums = array(\"i\", [1, 2, 3])\n",
    "```\n",
    "\n",
    "The `array` module in Python should be used when working with arrays.\n",
    "```python\n",
    "from array import array\n",
    "```"
   ],
   "metadata": {
    "collapsed": false
   }
  },
  {
   "cell_type": "code",
   "execution_count": null,
   "metadata": {
    "collapsed": true
   },
   "outputs": [],
   "source": []
  }
 ],
 "metadata": {
  "kernelspec": {
   "display_name": "Python 3",
   "language": "python",
   "name": "python3"
  },
  "language_info": {
   "codemirror_mode": {
    "name": "ipython",
    "version": 2
   },
   "file_extension": ".py",
   "mimetype": "text/x-python",
   "name": "python",
   "nbconvert_exporter": "python",
   "pygments_lexer": "ipython2",
   "version": "2.7.6"
  }
 },
 "nbformat": 4,
 "nbformat_minor": 0
}
