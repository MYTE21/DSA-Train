{
 "cells": [
  {
   "cell_type": "code",
   "execution_count": 1,
   "metadata": {
    "collapsed": true
   },
   "outputs": [
    {
     "name": "stdout",
     "output_type": "stream",
     "text": [
      "1\n"
     ]
    }
   ],
   "source": [
    "def do_operation(operand1, operand2, operator):\n",
    "    return eval(operand1 + operator + operand2)\n",
    "\n",
    "\n",
    "if __name__ == \"__main__\":\n",
    "    result = do_operation(\"3\", \"2\", \"-\")\n",
    "    print(result)"
   ]
  },
  {
   "cell_type": "code",
   "execution_count": 2,
   "outputs": [
    {
     "name": "stdout",
     "output_type": "stream",
     "text": [
      "1\n"
     ]
    }
   ],
   "source": [
    "def do_operation(operand1, operand2, operator):\n",
    "    if operator == \"+\":\n",
    "        return int(operand1) + int(operand2)\n",
    "    elif operator == \"-\":\n",
    "        return int(operand1) - int(operand2)\n",
    "    elif operator == \"*\":\n",
    "        return int(operand1) * int(operand2)\n",
    "    else:\n",
    "        return int(operand1) / int(operand2)\n",
    "\n",
    "\n",
    "if __name__ == \"__main__\":\n",
    "    result = do_operation(\"3\", \"2\", \"-\")\n",
    "    print(result)"
   ],
   "metadata": {
    "collapsed": false
   }
  },
  {
   "cell_type": "markdown",
   "source": [
    "## Postfix"
   ],
   "metadata": {
    "collapsed": false
   }
  },
  {
   "cell_type": "markdown",
   "source": [
    "### For only one digit numbers"
   ],
   "metadata": {
    "collapsed": false
   }
  },
  {
   "cell_type": "code",
   "execution_count": 3,
   "outputs": [],
   "source": [
    "def do_operation(operand1, operand2, operator):\n",
    "    return eval(operand1 + operator + operand2)"
   ],
   "metadata": {
    "collapsed": false
   }
  },
  {
   "cell_type": "code",
   "execution_count": 4,
   "outputs": [],
   "source": [
    "def postfix_evaluate(expression):\n",
    "    operands = []\n",
    "    operators = \"*/-+\"\n",
    "\n",
    "    for character in expression:\n",
    "        if character.isdigit():\n",
    "            operands.append(character)\n",
    "        elif character in operators:\n",
    "            operand_2 = operands.pop()\n",
    "            operand_1 = operands.pop()\n",
    "\n",
    "            result = do_operation(operand_1, operand_2, operator)\n",
    "            operands.append(str(result))\n",
    "\n",
    "    result = operands.pop()\n",
    "    return result"
   ],
   "metadata": {
    "collapsed": false
   }
  }
 ],
 "metadata": {
  "kernelspec": {
   "display_name": "Python 3",
   "language": "python",
   "name": "python3"
  },
  "language_info": {
   "codemirror_mode": {
    "name": "ipython",
    "version": 2
   },
   "file_extension": ".py",
   "mimetype": "text/x-python",
   "name": "python",
   "nbconvert_exporter": "python",
   "pygments_lexer": "ipython2",
   "version": "2.7.6"
  }
 },
 "nbformat": 4,
 "nbformat_minor": 0
}
