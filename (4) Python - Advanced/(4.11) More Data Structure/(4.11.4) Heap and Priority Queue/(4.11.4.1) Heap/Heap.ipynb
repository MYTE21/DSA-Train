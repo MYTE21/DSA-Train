{
 "cells": [
  {
   "cell_type": "code",
   "execution_count": 1,
   "outputs": [],
   "source": [
    "import heapq"
   ],
   "metadata": {
    "collapsed": false
   }
  },
  {
   "cell_type": "code",
   "execution_count": 2,
   "metadata": {
    "collapsed": true
   },
   "outputs": [
    {
     "data": {
      "text/plain": "[1, 3, 2, 4, 3, 4]"
     },
     "execution_count": 2,
     "metadata": {},
     "output_type": "execute_result"
    }
   ],
   "source": [
    "li = [3, 4, 2, 1, 3, 4]\n",
    "heapq.heapify(li)\n",
    "li"
   ]
  },
  {
   "cell_type": "code",
   "execution_count": 3,
   "outputs": [
    {
     "data": {
      "text/plain": "[1, 2, 3, 5, 3, 4]"
     },
     "execution_count": 3,
     "metadata": {},
     "output_type": "execute_result"
    }
   ],
   "source": [
    "li = [3, 5, 2, 1, 3, 4]\n",
    "h = []\n",
    "\n",
    "for ele in li:\n",
    "    heapq.heappush(h, ele)\n",
    "\n",
    "h"
   ],
   "metadata": {
    "collapsed": false
   }
  },
  {
   "cell_type": "code",
   "execution_count": 4,
   "outputs": [],
   "source": [
    "from typing import List\n",
    "import heapq\n",
    "\n",
    "\n",
    "def findKthLargest(nums: List[int], k: int) -> int:\n",
    "    h = []\n",
    "\n",
    "    for n in nums:\n",
    "        heapq.heappush(h, n * -1)\n",
    "\n",
    "    for _ in range(k - 1):\n",
    "        heapq.heappop(h)\n",
    "\n",
    "    return h[0] * -1"
   ],
   "metadata": {
    "collapsed": false
   }
  },
  {
   "cell_type": "markdown",
   "source": [
    "## Custom MaxHeap"
   ],
   "metadata": {
    "collapsed": false
   }
  },
  {
   "cell_type": "code",
   "execution_count": 5,
   "outputs": [],
   "source": [
    "import heapq"
   ],
   "metadata": {
    "collapsed": false
   }
  },
  {
   "cell_type": "code",
   "execution_count": 6,
   "outputs": [],
   "source": [
    "class MaxHeap:\n",
    "    def __init__(self, items=None):\n",
    "        if items is None:\n",
    "            items = []\n",
    "        self.h = [x * -1 for x in items]\n",
    "        if items:\n",
    "            heapq.heapify(self.h)\n",
    "\n",
    "    def __len__(self):\n",
    "        return len(self.h)\n",
    "\n",
    "    def push(self, item):\n",
    "        heapq.heappush(self.h, item * -1)\n",
    "\n",
    "    def pop(self):\n",
    "        return heapq.heappop(self.h) * -1\n",
    "\n",
    "    def look(self):\n",
    "        return -1 * self.h[0]"
   ],
   "metadata": {
    "collapsed": false
   }
  },
  {
   "cell_type": "code",
   "execution_count": 7,
   "outputs": [
    {
     "name": "stdout",
     "output_type": "stream",
     "text": [
      "[9, 8, 7, 6, 5, 4, 3, 2, 1, 0]\n"
     ]
    }
   ],
   "source": [
    "if __name__ == \"__main__\":\n",
    "    nums = [1, 3, 5, 7, 9, 2, 4, 6, 8, 0]\n",
    "\n",
    "    mx_heap = MaxHeap()\n",
    "\n",
    "    for num in nums:\n",
    "        mx_heap.push(num)\n",
    "\n",
    "    li = [mx_heap.pop() for _ in range(len(mx_heap))]\n",
    "    print(li)"
   ],
   "metadata": {
    "collapsed": false
   }
  }
 ],
 "metadata": {
  "kernelspec": {
   "display_name": "Python 3",
   "language": "python",
   "name": "python3"
  },
  "language_info": {
   "codemirror_mode": {
    "name": "ipython",
    "version": 2
   },
   "file_extension": ".py",
   "mimetype": "text/x-python",
   "name": "python",
   "nbconvert_exporter": "python",
   "pygments_lexer": "ipython2",
   "version": "2.7.6"
  }
 },
 "nbformat": 4,
 "nbformat_minor": 0
}
