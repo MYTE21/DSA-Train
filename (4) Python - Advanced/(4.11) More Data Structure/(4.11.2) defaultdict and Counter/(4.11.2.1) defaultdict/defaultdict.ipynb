{
 "cells": [
  {
   "cell_type": "code",
   "execution_count": 3,
   "outputs": [],
   "source": [
    "str_1 = \"listen\"\n",
    "str_2 = \"silent\"\n",
    "str_3 = \"binary\"\n",
    "str_4 = \"brainy\""
   ],
   "metadata": {
    "collapsed": false
   }
  },
  {
   "cell_type": "markdown",
   "source": [
    "# Anagram"
   ],
   "metadata": {
    "collapsed": false
   }
  },
  {
   "cell_type": "code",
   "execution_count": 1,
   "outputs": [],
   "source": [
    "def is_anagram(s1: str, s2: str) -> bool:\n",
    "    pass"
   ],
   "metadata": {
    "collapsed": false
   }
  },
  {
   "cell_type": "code",
   "execution_count": 2,
   "outputs": [],
   "source": [
    "def is_anagram(s1: str, s2: str) -> bool:\n",
    "    s1 = \"\".join(sorted(s1))\n",
    "    s2 = \"\".join(sorted(s2))\n",
    "\n",
    "    return True if s1 == s2 else False"
   ],
   "metadata": {
    "collapsed": false
   }
  },
  {
   "cell_type": "code",
   "execution_count": 4,
   "outputs": [
    {
     "name": "stdout",
     "output_type": "stream",
     "text": [
      "True\n",
      "False\n",
      "True\n"
     ]
    }
   ],
   "source": [
    "if __name__ == \"__main__\":\n",
    "    print(is_anagram(str_1, str_2))\n",
    "    print(is_anagram(str_2, str_3))\n",
    "    print(is_anagram(str_3, str_4))"
   ],
   "metadata": {
    "collapsed": false
   }
  },
  {
   "cell_type": "code",
   "execution_count": 5,
   "outputs": [
    {
     "data": {
      "text/plain": "{'l': 1, 'i': 1, 's': 1, 't': 1, 'e': 1, 'n': 1}"
     },
     "execution_count": 5,
     "metadata": {},
     "output_type": "execute_result"
    }
   ],
   "source": [
    "dt1 =dict()\n",
    "\n",
    "for c in str_1:\n",
    "    if c in dt1:\n",
    "        dt1[c] += 1\n",
    "    else:\n",
    "        dt1[c] = 1\n",
    "\n",
    "dt1"
   ],
   "metadata": {
    "collapsed": false
   }
  },
  {
   "cell_type": "code",
   "execution_count": 6,
   "outputs": [
    {
     "data": {
      "text/plain": "defaultdict(int, {'l': 1, 'i': 1, 's': 1, 't': 1, 'e': 1, 'n': 1})"
     },
     "execution_count": 6,
     "metadata": {},
     "output_type": "execute_result"
    }
   ],
   "source": [
    "from collections import defaultdict\n",
    "\n",
    "\n",
    "dt1 = defaultdict(int)\n",
    "\n",
    "for c in str_1:\n",
    "    dt1[c] += 1\n",
    "\n",
    "dt1"
   ],
   "metadata": {
    "collapsed": false
   }
  }
 ],
 "metadata": {
  "kernelspec": {
   "display_name": "Python 3",
   "language": "python",
   "name": "python3"
  },
  "language_info": {
   "codemirror_mode": {
    "name": "ipython",
    "version": 2
   },
   "file_extension": ".py",
   "mimetype": "text/x-python",
   "name": "python",
   "nbconvert_exporter": "python",
   "pygments_lexer": "ipython2",
   "version": "2.7.6"
  }
 },
 "nbformat": 4,
 "nbformat_minor": 0
}
