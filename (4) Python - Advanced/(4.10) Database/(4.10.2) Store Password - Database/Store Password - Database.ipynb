{
 "cells": [
  {
   "cell_type": "markdown",
   "source": [
    "# hashlib - module"
   ],
   "metadata": {
    "collapsed": false
   }
  },
  {
   "cell_type": "code",
   "execution_count": 1,
   "metadata": {
    "collapsed": true
   },
   "outputs": [
    {
     "name": "stdout",
     "output_type": "stream",
     "text": [
      "2bb80d537b1da3e38bd30361aa855686bde0eacd7162fef6a25fe97bf527a25b\n"
     ]
    }
   ],
   "source": [
    "import hashlib\n",
    "\n",
    "\n",
    "def encrypt_password(password):\n",
    "    m = hashlib.sha256()\n",
    "    m.update(password.encode())\n",
    "    return m.hexdigest()\n",
    "\n",
    "\n",
    "if __name__ == \"__main__\":\n",
    "    password = \"secret\"\n",
    "    encrypted_password = encrypt_password(password)\n",
    "    print(encrypted_password)"
   ]
  },
  {
   "cell_type": "markdown",
   "source": [
    "# salt and pbkdf2_hmac"
   ],
   "metadata": {
    "collapsed": false
   }
  },
  {
   "cell_type": "code",
   "execution_count": 2,
   "outputs": [
    {
     "data": {
      "text/plain": "'af169a74b0edf2bcb22d63c797457be655d8699423fb8fc86e74094ee906f0cb'"
     },
     "execution_count": 2,
     "metadata": {},
     "output_type": "execute_result"
    }
   ],
   "source": [
    "import hashlib\n",
    "\n",
    "\n",
    "password = \"secret\"\n",
    "salt = \"a1b2c3\"\n",
    "\n",
    "dk = hashlib.pbkdf2_hmac(\"sha256\", password.encode(), salt.encode(), 100000)\n",
    "dk.hex()"
   ],
   "metadata": {
    "collapsed": false
   }
  }
 ],
 "metadata": {
  "kernelspec": {
   "display_name": "Python 3",
   "language": "python",
   "name": "python3"
  },
  "language_info": {
   "codemirror_mode": {
    "name": "ipython",
    "version": 2
   },
   "file_extension": ".py",
   "mimetype": "text/x-python",
   "name": "python",
   "nbconvert_exporter": "python",
   "pygments_lexer": "ipython2",
   "version": "2.7.6"
  }
 },
 "nbformat": 4,
 "nbformat_minor": 0
}
