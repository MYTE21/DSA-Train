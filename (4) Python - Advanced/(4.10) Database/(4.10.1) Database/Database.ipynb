{
 "cells": [
  {
   "cell_type": "markdown",
   "source": [
    "# Create a table - sqlite"
   ],
   "metadata": {
    "collapsed": false
   }
  },
  {
   "cell_type": "code",
   "execution_count": 1,
   "metadata": {
    "collapsed": true
   },
   "outputs": [],
   "source": [
    "import sqlite3\n",
    "\n",
    "\n",
    "con = sqlite3.connect(\"dimik.db\")\n",
    "cur = con.cursor()"
   ]
  },
  {
   "cell_type": "code",
   "execution_count": 2,
   "outputs": [
    {
     "data": {
      "text/plain": "<sqlite3.Cursor at 0x215bcedbc40>"
     },
     "execution_count": 2,
     "metadata": {},
     "output_type": "execute_result"
    }
   ],
   "source": [
    "# Create table\n",
    "cur.execute(\"CREATE TABLE IF NOT EXISTS book(name TEXT, author TEXT, price REAL)\")"
   ],
   "metadata": {
    "collapsed": false
   }
  },
  {
   "cell_type": "code",
   "execution_count": 3,
   "outputs": [
    {
     "data": {
      "text/plain": "<sqlite3.Cursor at 0x215bcedbc40>"
     },
     "execution_count": 3,
     "metadata": {},
     "output_type": "execute_result"
    }
   ],
   "source": [
    "# Insert a single row\n",
    "cur.execute(\n",
    "    \"INSERT INTO book VALUES ('Compuer Programming Part 1', 'Tamim Shahriar', 260)\"\n",
    ")"
   ],
   "metadata": {
    "collapsed": false
   }
  },
  {
   "cell_type": "code",
   "execution_count": 4,
   "outputs": [],
   "source": [
    "book_list = [\n",
    "    (\"Computer Programming Part 2\", \"Tamim Shahriar\", 250),\n",
    "    (\"Computer Programming Part 3\", \"Tamim Shahriar\", 270),\n",
    "    (\"Programming Exercise\", \"Tamim Shahriar\", 140)\n",
    "]"
   ],
   "metadata": {
    "collapsed": false
   }
  },
  {
   "cell_type": "code",
   "execution_count": 5,
   "outputs": [
    {
     "data": {
      "text/plain": "<sqlite3.Cursor at 0x215bcedbc40>"
     },
     "execution_count": 5,
     "metadata": {},
     "output_type": "execute_result"
    }
   ],
   "source": [
    "# Insert multiple rows\n",
    "cur.executemany(\"INSERT INTO book VALUES (?, ?, ?)\", book_list)"
   ],
   "metadata": {
    "collapsed": false
   }
  },
  {
   "cell_type": "code",
   "execution_count": 6,
   "outputs": [],
   "source": [
    "cur.close()"
   ],
   "metadata": {
    "collapsed": false
   }
  },
  {
   "cell_type": "code",
   "execution_count": 7,
   "outputs": [],
   "source": [
    "con.commit()\n",
    "con.close()"
   ],
   "metadata": {
    "collapsed": false
   }
  },
  {
   "cell_type": "markdown",
   "source": [
    "# Read data from database"
   ],
   "metadata": {
    "collapsed": false
   }
  },
  {
   "cell_type": "code",
   "execution_count": 8,
   "outputs": [],
   "source": [
    "import sqlite3\n",
    "\n",
    "\n",
    "con = sqlite3.connect(\"dimik.db\")\n",
    "cur = con.cursor()"
   ],
   "metadata": {
    "collapsed": false
   }
  },
  {
   "cell_type": "code",
   "execution_count": 9,
   "outputs": [
    {
     "data": {
      "text/plain": "<sqlite3.Cursor at 0x215bcedbf40>"
     },
     "execution_count": 9,
     "metadata": {},
     "output_type": "execute_result"
    }
   ],
   "source": [
    "cur.execute(\"SELECT * FROM book\")"
   ],
   "metadata": {
    "collapsed": false
   }
  },
  {
   "cell_type": "code",
   "execution_count": 10,
   "outputs": [
    {
     "name": "stdout",
     "output_type": "stream",
     "text": [
      "('Compuer Programming Part 1', 'Tamim Shahriar', 260.0)\n",
      "('Computer Programming Part 2', 'Tamim Shahriar', 250.0)\n",
      "('Computer Programming Part 3', 'Tamim Shahriar', 270.0)\n",
      "('Programming Exercise', 'Tamim Shahriar', 140.0)\n"
     ]
    }
   ],
   "source": [
    "row = cur.fetchone()\n",
    "while row:\n",
    "    print(row)\n",
    "    row = cur.fetchone()"
   ],
   "metadata": {
    "collapsed": false
   }
  },
  {
   "cell_type": "code",
   "execution_count": 11,
   "outputs": [],
   "source": [
    "cur.close()"
   ],
   "metadata": {
    "collapsed": false
   }
  },
  {
   "cell_type": "code",
   "execution_count": 12,
   "outputs": [],
   "source": [
    "con.commit()\n",
    "con.close()"
   ],
   "metadata": {
    "collapsed": false
   }
  },
  {
   "cell_type": "markdown",
   "source": [
    "# Search by Book name and Author"
   ],
   "metadata": {
    "collapsed": false
   }
  },
  {
   "cell_type": "code",
   "execution_count": 40,
   "outputs": [],
   "source": [
    "import sqlite3\n",
    "\n",
    "\n",
    "con = sqlite3.connect(\"dimik.db\")\n",
    "cur = con.cursor()"
   ],
   "metadata": {
    "collapsed": false
   }
  },
  {
   "cell_type": "code",
   "execution_count": 41,
   "outputs": [],
   "source": [
    "def search_by_name(cursor, name):\n",
    "    query = \"SELECT * FROM book WHERE name LIKE ?\"\n",
    "    cursor.execute(query, ('%' + name + '%',))\n",
    "    return cursor.fetchall()"
   ],
   "metadata": {
    "collapsed": false
   }
  },
  {
   "cell_type": "code",
   "execution_count": 42,
   "outputs": [
    {
     "name": "stdout",
     "output_type": "stream",
     "text": [
      "[('Computer Programming Part 2', 'Tamim Shahriar', 250.0), ('Computer Programming Part 3', 'Tamim Shahriar', 270.0)]\n"
     ]
    }
   ],
   "source": [
    "print(search_by_name(cur, 'Computer Programming'))"
   ],
   "metadata": {
    "collapsed": false
   }
  },
  {
   "cell_type": "code",
   "execution_count": 43,
   "outputs": [],
   "source": [
    "def search_by_author(cursor, author):\n",
    "    query = \"SELECT * FROM book WHERE author=?\"\n",
    "    cursor.execute(query, (author,))\n",
    "    return cursor.fetchall()"
   ],
   "metadata": {
    "collapsed": false
   }
  },
  {
   "cell_type": "code",
   "execution_count": 44,
   "outputs": [
    {
     "name": "stdout",
     "output_type": "stream",
     "text": [
      "[('Compuer Programming Part 1', 'Tamim Shahriar', 260.0), ('Computer Programming Part 2', 'Tamim Shahriar', 250.0), ('Computer Programming Part 3', 'Tamim Shahriar', 270.0), ('Programming Exercise', 'Tamim Shahriar', 140.0)]\n"
     ]
    }
   ],
   "source": [
    "print(search_by_author(cur, 'Tamim Shahriar'))"
   ],
   "metadata": {
    "collapsed": false
   }
  },
  {
   "cell_type": "code",
   "execution_count": 45,
   "outputs": [],
   "source": [
    "cur.close()"
   ],
   "metadata": {
    "collapsed": false
   }
  },
  {
   "cell_type": "code",
   "execution_count": 46,
   "outputs": [],
   "source": [
    "con.commit()\n",
    "con.close()"
   ],
   "metadata": {
    "collapsed": false
   }
  },
  {
   "cell_type": "code",
   "execution_count": null,
   "outputs": [],
   "source": [],
   "metadata": {
    "collapsed": false
   }
  }
 ],
 "metadata": {
  "kernelspec": {
   "display_name": "Python 3",
   "language": "python",
   "name": "python3"
  },
  "language_info": {
   "codemirror_mode": {
    "name": "ipython",
    "version": 2
   },
   "file_extension": ".py",
   "mimetype": "text/x-python",
   "name": "python",
   "nbconvert_exporter": "python",
   "pygments_lexer": "ipython2",
   "version": "2.7.6"
  }
 },
 "nbformat": 4,
 "nbformat_minor": 0
}
