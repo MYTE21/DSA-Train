{
 "cells": [
  {
   "cell_type": "code",
   "execution_count": 1,
   "metadata": {
    "collapsed": true
   },
   "outputs": [
    {
     "name": "stdout",
     "output_type": "stream",
     "text": [
      "<function deco.<locals>.wrapper at 0x0000027A6ADE2950>\n",
      "Before\n",
      "Hello\n",
      "After\n"
     ]
    }
   ],
   "source": [
    "def deco(fnc):\n",
    "    def wrapper():\n",
    "        print(\"Before\")\n",
    "        fnc()\n",
    "        print(\"After\")\n",
    "\n",
    "    return wrapper\n",
    "\n",
    "\n",
    "def hello():\n",
    "    print(\"Hello\")\n",
    "\n",
    "\n",
    "fnc = deco(hello)\n",
    "print(fnc)\n",
    "fnc()"
   ]
  },
  {
   "cell_type": "code",
   "execution_count": 1,
   "outputs": [
    {
     "name": "stdout",
     "output_type": "stream",
     "text": [
      "Before\n",
      "Hello\n",
      "After\n"
     ]
    }
   ],
   "source": [
    "def deco(fnc):\n",
    "    def wrapper():\n",
    "        print(\"Before\")\n",
    "        fnc()\n",
    "        print(\"After\")\n",
    "\n",
    "    return wrapper\n",
    "\n",
    "\n",
    "@deco\n",
    "def hello():\n",
    "    print(\"Hello\")\n",
    "\n",
    "\n",
    "hello()"
   ],
   "metadata": {
    "collapsed": false
   }
  },
  {
   "cell_type": "code",
   "execution_count": 3,
   "outputs": [
    {
     "name": "stdout",
     "output_type": "stream",
     "text": [
      "Before\n",
      "Hello\n",
      "After\n",
      "\n",
      "Before\n",
      "Hello World\n",
      "After\n",
      "\n",
      "Before\n",
      "8\n",
      "After\n"
     ]
    }
   ],
   "source": [
    "def deco(fnc):\n",
    "    def wrapper(*args, **kwargs):\n",
    "        print(\"Before\")\n",
    "        fnc(*args, **kwargs)\n",
    "        print(\"After\")\n",
    "\n",
    "    return wrapper\n",
    "\n",
    "\n",
    "@deco\n",
    "def hello():\n",
    "    print(\"Hello\")\n",
    "\n",
    "\n",
    "@deco\n",
    "def hello_name(name):\n",
    "    print(\"Hello\", name)\n",
    "\n",
    "\n",
    "@deco\n",
    "def add(n1, n2):\n",
    "    print(n1 + n2)\n",
    "\n",
    "\n",
    "hello()\n",
    "print()\n",
    "hello_name(\"World\")\n",
    "print()\n",
    "add(3, 5)"
   ],
   "metadata": {
    "collapsed": false
   }
  },
  {
   "cell_type": "code",
   "execution_count": 7,
   "outputs": [
    {
     "name": "stdout",
     "output_type": "stream",
     "text": [
      "Function too 3.00 seconds\n",
      "Function too 4.01 seconds\n"
     ]
    }
   ],
   "source": [
    "import time\n",
    "\n",
    "\n",
    "def timer(fnc):\n",
    "    def wrapper(*args, **kwargs):\n",
    "        start = time.time()\n",
    "        fnc(*args, **kwargs)\n",
    "        end = time.time()\n",
    "        print(f\"Function too {(end-start):.2f} seconds\")\n",
    "\n",
    "    return wrapper\n",
    "\n",
    "\n",
    "@timer\n",
    "def sleep_fnc(s):\n",
    "    time.sleep(s)\n",
    "\n",
    "\n",
    "@timer\n",
    "def sleep_double(s):\n",
    "    time.sleep(s * 2)\n",
    "\n",
    "\n",
    "sleep_fnc(3)\n",
    "sleep_double(2)"
   ],
   "metadata": {
    "collapsed": false
   }
  },
  {
   "cell_type": "code",
   "execution_count": 8,
   "outputs": [
    {
     "ename": "TypeError",
     "evalue": "'A' object is not callable",
     "output_type": "error",
     "traceback": [
      "\u001B[1;31m---------------------------------------------------------------------------\u001B[0m",
      "\u001B[1;31mTypeError\u001B[0m                                 Traceback (most recent call last)",
      "Cell \u001B[1;32mIn[8], line 7\u001B[0m\n\u001B[0;32m      3\u001B[0m         \u001B[38;5;28;01mpass\u001B[39;00m\n\u001B[0;32m      6\u001B[0m obj \u001B[38;5;241m=\u001B[39m A()\n\u001B[1;32m----> 7\u001B[0m \u001B[43mobj\u001B[49m\u001B[43m(\u001B[49m\u001B[43m)\u001B[49m\n",
      "\u001B[1;31mTypeError\u001B[0m: 'A' object is not callable"
     ]
    }
   ],
   "source": [
    "class A:\n",
    "    def __init__(self):\n",
    "        pass\n",
    "\n",
    "\n",
    "obj = A()\n",
    "obj()"
   ],
   "metadata": {
    "collapsed": false
   }
  },
  {
   "cell_type": "code",
   "execution_count": 9,
   "outputs": [
    {
     "name": "stdout",
     "output_type": "stream",
     "text": [
      "Now I am callable..!\n"
     ]
    }
   ],
   "source": [
    "class A:\n",
    "    def __init__(self):\n",
    "        pass\n",
    "\n",
    "    def __call__(self):\n",
    "        print(\"Now I am callable..!\")\n",
    "\n",
    "\n",
    "obj = A()\n",
    "obj()"
   ],
   "metadata": {
    "collapsed": false
   }
  },
  {
   "cell_type": "code",
   "execution_count": 10,
   "outputs": [
    {
     "name": "stdout",
     "output_type": "stream",
     "text": [
      "Before\n",
      "Hello\n",
      "After\n",
      "\n",
      "Before\n",
      "Hello Python\n",
      "After\n"
     ]
    }
   ],
   "source": [
    "class DecoratorClass:\n",
    "    def __init__(self, fnc):\n",
    "        self.fnc = fnc\n",
    "\n",
    "    def __call__(self, *args, **kwargs):\n",
    "        print(\"Before\")\n",
    "        self.fnc(*args, **kwargs)\n",
    "        print(\"After\")\n",
    "\n",
    "\n",
    "@DecoratorClass\n",
    "def hello():\n",
    "    print(\"Hello\")\n",
    "\n",
    "\n",
    "@DecoratorClass\n",
    "def hello_name(name):\n",
    "    print(\"Hello\", name)\n",
    "\n",
    "\n",
    "hello()\n",
    "print()\n",
    "hello_name(\"Python\")"
   ],
   "metadata": {
    "collapsed": false
   }
  }
 ],
 "metadata": {
  "kernelspec": {
   "display_name": "Python 3",
   "language": "python",
   "name": "python3"
  },
  "language_info": {
   "codemirror_mode": {
    "name": "ipython",
    "version": 2
   },
   "file_extension": ".py",
   "mimetype": "text/x-python",
   "name": "python",
   "nbconvert_exporter": "python",
   "pygments_lexer": "ipython2",
   "version": "2.7.6"
  }
 },
 "nbformat": 4,
 "nbformat_minor": 0
}
