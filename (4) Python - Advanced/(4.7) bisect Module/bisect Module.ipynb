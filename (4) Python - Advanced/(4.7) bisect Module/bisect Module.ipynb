{
 "cells": [
  {
   "cell_type": "code",
   "execution_count": 3,
   "metadata": {
    "collapsed": true
   },
   "outputs": [
    {
     "data": {
      "text/plain": "[1, 2, 2, 3, 4, 6, 8, 9, 5]"
     },
     "execution_count": 3,
     "metadata": {},
     "output_type": "execute_result"
    }
   ],
   "source": [
    "li = [1, 2, 2, 3, 4, 6, 8, 9]\n",
    "li.append(5)\n",
    "li"
   ]
  },
  {
   "cell_type": "code",
   "execution_count": 4,
   "outputs": [
    {
     "data": {
      "text/plain": "[1, 2, 2, 3, 4, 5, 6, 8, 9]"
     },
     "execution_count": 4,
     "metadata": {},
     "output_type": "execute_result"
    }
   ],
   "source": [
    "li.sort()\n",
    "li"
   ],
   "metadata": {
    "collapsed": false
   }
  },
  {
   "cell_type": "code",
   "execution_count": 7,
   "outputs": [],
   "source": [
    "def find_index(li, n):\n",
    "    if n <= li[0]:\n",
    "        return 0\n",
    "    if n > li[-1]:\n",
    "        return len(li)\n",
    "\n",
    "    for i in range(len(li)-1):\n",
    "        if li[i] < n and li[i+1] >= n:\n",
    "            return i+1\n",
    "\n",
    "    # the code should never reach here\n",
    "    raise(\"couldn't find the right place for n\")"
   ],
   "metadata": {
    "collapsed": false
   }
  },
  {
   "cell_type": "code",
   "execution_count": 6,
   "outputs": [],
   "source": [
    "def insort(li, n):\n",
    "    # find the right place (index) for n in li\n",
    "    i = find_index(li, n)\n",
    "\n",
    "    # add n at the end of the list\n",
    "    li.append(n)\n",
    "\n",
    "    # now shift all items one place right, starting from index i\n",
    "    for j in range(len(li)-1, i, -1):\n",
    "        li[j] = li[j-1]\n",
    "\n",
    "    # now put n into it's correct position\n",
    "    li[i] = n\n",
    "\n",
    "    print(li)"
   ],
   "metadata": {
    "collapsed": false
   }
  },
  {
   "cell_type": "code",
   "execution_count": 7,
   "outputs": [
    {
     "name": "stdout",
     "output_type": "stream",
     "text": [
      "[1, 2, 2, 3, 4, 6, 8, 9] 0\n",
      "[0, 1, 2, 2, 3, 4, 6, 8, 9]\n",
      "\n",
      "[1, 2, 2, 3, 4, 6, 8, 9] 1\n",
      "[1, 1, 2, 2, 3, 4, 6, 8, 9]\n",
      "\n",
      "[1, 2, 2, 3, 4, 6, 8, 9] 2\n",
      "[1, 2, 2, 2, 3, 4, 6, 8, 9]\n",
      "\n",
      "[1, 2, 2, 3, 4, 6, 8, 9] 3\n",
      "[1, 2, 2, 3, 3, 4, 6, 8, 9]\n",
      "\n",
      "[1, 2, 2, 3, 4, 6, 8, 9] 4\n",
      "[1, 2, 2, 3, 4, 4, 6, 8, 9]\n",
      "\n",
      "[1, 2, 2, 3, 4, 6, 8, 9] 5\n",
      "[1, 2, 2, 3, 4, 5, 6, 8, 9]\n",
      "\n",
      "[1, 2, 2, 3, 4, 6, 8, 9] 6\n",
      "[1, 2, 2, 3, 4, 6, 6, 8, 9]\n",
      "\n",
      "[1, 2, 2, 3, 4, 6, 8, 9] 7\n",
      "[1, 2, 2, 3, 4, 6, 7, 8, 9]\n",
      "\n",
      "[1, 2, 2, 3, 4, 6, 8, 9] 8\n",
      "[1, 2, 2, 3, 4, 6, 8, 8, 9]\n",
      "\n",
      "[1, 2, 2, 3, 4, 6, 8, 9] 9\n",
      "[1, 2, 2, 3, 4, 6, 8, 9, 9]\n",
      "\n",
      "[1, 2, 2, 3, 4, 6, 8, 9] 10\n",
      "[1, 2, 2, 3, 4, 6, 8, 9, 10]\n",
      "\n"
     ]
    }
   ],
   "source": [
    "if __name__ == \"__main__\":\n",
    "    for n in range(11):\n",
    "        li = [1, 2, 2, 3, 4, 6, 8, 9]\n",
    "        print(li, n)\n",
    "        insort(li, n)\n",
    "        print()"
   ],
   "metadata": {
    "collapsed": false
   }
  },
  {
   "cell_type": "markdown",
   "source": [
    "Exercise: find_index -> use binary search, insort -> use insert() method"
   ],
   "metadata": {
    "collapsed": false
   }
  },
  {
   "cell_type": "code",
   "execution_count": 31,
   "outputs": [],
   "source": [
    "# Binary refactoring done for finding indexes\n",
    "def binary_find_index(items, number):\n",
    "    if n <= items[0]:\n",
    "        return 0\n",
    "    if n > items[-1]:\n",
    "        return len(items)\n",
    "\n",
    "    left, right = 0, len(items) - 1\n",
    "    mid = 0\n",
    "\n",
    "    while left <= right:\n",
    "        mid = (left + right) // 2\n",
    "\n",
    "        if items[mid] == number:\n",
    "            return mid\n",
    "        if items[mid] < number:\n",
    "            left = mid + 1\n",
    "        else:\n",
    "            right = mid - 1\n",
    "\n",
    "    return left"
   ],
   "metadata": {
    "collapsed": false
   }
  },
  {
   "cell_type": "code",
   "execution_count": 32,
   "outputs": [],
   "source": [
    "# insort function using insert() method\n",
    "def insert_insort(items, number):\n",
    "    i = binary_find_index(items, number)\n",
    "    items.insert(i, number)\n",
    "    print(\"List after insertion: \", items)"
   ],
   "metadata": {
    "collapsed": false
   }
  },
  {
   "cell_type": "code",
   "execution_count": 33,
   "outputs": [
    {
     "name": "stdout",
     "output_type": "stream",
     "text": [
      "List:  [1, 2, 2, 3, 4, 6, 8, 9]\n",
      "Number:  0\n",
      "List after insertion:  [0, 1, 2, 2, 3, 4, 6, 8, 9]\n",
      "\n",
      "List:  [1, 2, 2, 3, 4, 6, 8, 9]\n",
      "Number:  1\n",
      "List after insertion:  [1, 1, 2, 2, 3, 4, 6, 8, 9]\n",
      "\n",
      "List:  [1, 2, 2, 3, 4, 6, 8, 9]\n",
      "Number:  2\n",
      "List after insertion:  [1, 2, 2, 2, 3, 4, 6, 8, 9]\n",
      "\n",
      "List:  [1, 2, 2, 3, 4, 6, 8, 9]\n",
      "Number:  3\n",
      "List after insertion:  [1, 2, 2, 3, 3, 4, 6, 8, 9]\n",
      "\n",
      "List:  [1, 2, 2, 3, 4, 6, 8, 9]\n",
      "Number:  4\n",
      "List after insertion:  [1, 2, 2, 3, 4, 4, 6, 8, 9]\n",
      "\n",
      "List:  [1, 2, 2, 3, 4, 6, 8, 9]\n",
      "Number:  5\n",
      "List after insertion:  [1, 2, 2, 3, 4, 5, 6, 8, 9]\n",
      "\n",
      "List:  [1, 2, 2, 3, 4, 6, 8, 9]\n",
      "Number:  6\n",
      "List after insertion:  [1, 2, 2, 3, 4, 6, 6, 8, 9]\n",
      "\n",
      "List:  [1, 2, 2, 3, 4, 6, 8, 9]\n",
      "Number:  7\n",
      "List after insertion:  [1, 2, 2, 3, 4, 6, 7, 8, 9]\n",
      "\n",
      "List:  [1, 2, 2, 3, 4, 6, 8, 9]\n",
      "Number:  8\n",
      "List after insertion:  [1, 2, 2, 3, 4, 6, 8, 8, 9]\n",
      "\n",
      "List:  [1, 2, 2, 3, 4, 6, 8, 9]\n",
      "Number:  9\n",
      "List after insertion:  [1, 2, 2, 3, 4, 6, 8, 9, 9]\n",
      "\n",
      "List:  [1, 2, 2, 3, 4, 6, 8, 9]\n",
      "Number:  10\n",
      "List after insertion:  [1, 2, 2, 3, 4, 6, 8, 9, 10]\n",
      "\n"
     ]
    }
   ],
   "source": [
    "if __name__ == \"__main__\":\n",
    "    for n in range(11):\n",
    "        li = [1, 2, 2, 3, 4, 6, 8, 9]\n",
    "        print(\"List: \", li)\n",
    "        print(\"Number: \", n)\n",
    "        insert_insort(li, n)\n",
    "        print()"
   ],
   "metadata": {
    "collapsed": false
   }
  },
  {
   "cell_type": "markdown",
   "source": [
    "bisect -> bisect_left(), bisect_right() and bisect()"
   ],
   "metadata": {
    "collapsed": false
   }
  },
  {
   "cell_type": "code",
   "execution_count": 34,
   "outputs": [],
   "source": [
    "from bisect import bisect_left, bisect_right\n",
    "\n",
    "\n",
    "li = [1, 3, 3, 3, 4]"
   ],
   "metadata": {
    "collapsed": false
   }
  },
  {
   "cell_type": "code",
   "execution_count": 35,
   "outputs": [
    {
     "data": {
      "text/plain": "1"
     },
     "execution_count": 35,
     "metadata": {},
     "output_type": "execute_result"
    }
   ],
   "source": [
    "bisect_left(li, 2)"
   ],
   "metadata": {
    "collapsed": false
   }
  },
  {
   "cell_type": "code",
   "execution_count": 36,
   "outputs": [
    {
     "data": {
      "text/plain": "1"
     },
     "execution_count": 36,
     "metadata": {},
     "output_type": "execute_result"
    }
   ],
   "source": [
    "bisect_right(li, 2)"
   ],
   "metadata": {
    "collapsed": false
   }
  },
  {
   "cell_type": "code",
   "execution_count": 37,
   "outputs": [
    {
     "data": {
      "text/plain": "1"
     },
     "execution_count": 37,
     "metadata": {},
     "output_type": "execute_result"
    }
   ],
   "source": [
    "bisect_left(li, 3)"
   ],
   "metadata": {
    "collapsed": false
   }
  },
  {
   "cell_type": "code",
   "execution_count": 38,
   "outputs": [
    {
     "data": {
      "text/plain": "4"
     },
     "execution_count": 38,
     "metadata": {},
     "output_type": "execute_result"
    }
   ],
   "source": [
    "bisect_right(li, 3)"
   ],
   "metadata": {
    "collapsed": false
   }
  },
  {
   "cell_type": "code",
   "execution_count": 39,
   "outputs": [
    {
     "data": {
      "text/plain": "4"
     },
     "execution_count": 39,
     "metadata": {},
     "output_type": "execute_result"
    }
   ],
   "source": [
    "bisect_left(li, 4)"
   ],
   "metadata": {
    "collapsed": false
   }
  },
  {
   "cell_type": "code",
   "execution_count": 40,
   "outputs": [
    {
     "data": {
      "text/plain": "5"
     },
     "execution_count": 40,
     "metadata": {},
     "output_type": "execute_result"
    }
   ],
   "source": [
    "bisect_right(li, 4)"
   ],
   "metadata": {
    "collapsed": false
   }
  },
  {
   "cell_type": "code",
   "execution_count": 41,
   "outputs": [
    {
     "name": "stdout",
     "output_type": "stream",
     "text": [
      "[1, 2, 2, 3, 4, 6, 8, 9] 0\n",
      "[0, 1, 2, 2, 3, 4, 6, 8, 9]\n",
      "\n",
      "[1, 2, 2, 3, 4, 6, 8, 9] 1\n",
      "[1, 1, 2, 2, 3, 4, 6, 8, 9]\n",
      "\n",
      "[1, 2, 2, 3, 4, 6, 8, 9] 2\n",
      "[1, 2, 2, 2, 3, 4, 6, 8, 9]\n",
      "\n",
      "[1, 2, 2, 3, 4, 6, 8, 9] 3\n",
      "[1, 2, 2, 3, 3, 4, 6, 8, 9]\n",
      "\n",
      "[1, 2, 2, 3, 4, 6, 8, 9] 4\n",
      "[1, 2, 2, 3, 4, 4, 6, 8, 9]\n",
      "\n",
      "[1, 2, 2, 3, 4, 6, 8, 9] 5\n",
      "[1, 2, 2, 3, 4, 5, 6, 8, 9]\n",
      "\n",
      "[1, 2, 2, 3, 4, 6, 8, 9] 6\n",
      "[1, 2, 2, 3, 4, 6, 6, 8, 9]\n",
      "\n",
      "[1, 2, 2, 3, 4, 6, 8, 9] 7\n",
      "[1, 2, 2, 3, 4, 6, 7, 8, 9]\n",
      "\n",
      "[1, 2, 2, 3, 4, 6, 8, 9] 8\n",
      "[1, 2, 2, 3, 4, 6, 8, 8, 9]\n",
      "\n",
      "[1, 2, 2, 3, 4, 6, 8, 9] 9\n",
      "[1, 2, 2, 3, 4, 6, 8, 9, 9]\n",
      "\n",
      "[1, 2, 2, 3, 4, 6, 8, 9] 10\n",
      "[1, 2, 2, 3, 4, 6, 8, 9, 10]\n",
      "\n"
     ]
    }
   ],
   "source": [
    "# insert a number in the sorted list using bisect()\n",
    "from bisect import bisect\n",
    "\n",
    "\n",
    "def insort(li, n):\n",
    "    # find the right place (index) for n in li\n",
    "    i = bisect(li, n)\n",
    "\n",
    "    # insert n into the i-th index of li\n",
    "    li.insert(i, n)\n",
    "\n",
    "    print(li)\n",
    "\n",
    "\n",
    "if __name__ == \"__main__\":\n",
    "    for n in range(11):\n",
    "        li = [1, 2, 2, 3, 4, 6, 8, 9]\n",
    "        print(li, n)\n",
    "        insort(li, n)\n",
    "        print()"
   ],
   "metadata": {
    "collapsed": false
   }
  },
  {
   "cell_type": "code",
   "execution_count": 42,
   "outputs": [
    {
     "name": "stdout",
     "output_type": "stream",
     "text": [
      "[1, 2, 2, 3, 4, 6, 8, 9] 0\n",
      "[0, 1, 2, 2, 3, 4, 6, 8, 9] \n",
      "\n",
      "[1, 2, 2, 3, 4, 6, 8, 9] 1\n",
      "[1, 1, 2, 2, 3, 4, 6, 8, 9] \n",
      "\n",
      "[1, 2, 2, 3, 4, 6, 8, 9] 2\n",
      "[1, 2, 2, 2, 3, 4, 6, 8, 9] \n",
      "\n",
      "[1, 2, 2, 3, 4, 6, 8, 9] 3\n",
      "[1, 2, 2, 3, 3, 4, 6, 8, 9] \n",
      "\n",
      "[1, 2, 2, 3, 4, 6, 8, 9] 4\n",
      "[1, 2, 2, 3, 4, 4, 6, 8, 9] \n",
      "\n",
      "[1, 2, 2, 3, 4, 6, 8, 9] 5\n",
      "[1, 2, 2, 3, 4, 5, 6, 8, 9] \n",
      "\n",
      "[1, 2, 2, 3, 4, 6, 8, 9] 6\n",
      "[1, 2, 2, 3, 4, 6, 6, 8, 9] \n",
      "\n",
      "[1, 2, 2, 3, 4, 6, 8, 9] 7\n",
      "[1, 2, 2, 3, 4, 6, 7, 8, 9] \n",
      "\n",
      "[1, 2, 2, 3, 4, 6, 8, 9] 8\n",
      "[1, 2, 2, 3, 4, 6, 8, 8, 9] \n",
      "\n",
      "[1, 2, 2, 3, 4, 6, 8, 9] 9\n",
      "[1, 2, 2, 3, 4, 6, 8, 9, 9] \n",
      "\n",
      "[1, 2, 2, 3, 4, 6, 8, 9] 10\n",
      "[1, 2, 2, 3, 4, 6, 8, 9, 10] \n",
      "\n"
     ]
    }
   ],
   "source": [
    "from bisect import insort\n",
    "\n",
    "\n",
    "if __name__ == \"__main__\":\n",
    "    for n in range(11):\n",
    "        li = [1, 2, 2, 3, 4, 6, 8, 9]\n",
    "        print(li, n)\n",
    "        insort(li, n)\n",
    "        print(li, \"\\n\")"
   ],
   "metadata": {
    "collapsed": false
   }
  },
  {
   "cell_type": "code",
   "execution_count": 44,
   "outputs": [],
   "source": [
    "def calculate_grade(marks):\n",
    "    if marks >= 80:\n",
    "        grade = \"A+\"\n",
    "    elif marks >= 70:\n",
    "        grade = \"A\"\n",
    "    elif marks >= 60:\n",
    "        grade = \"A-\"\n",
    "    elif marks >= 50:\n",
    "        grade = \"B\"\n",
    "    elif marks >= 40:\n",
    "        grade = \"C\"\n",
    "    else:\n",
    "        grade = \"F\"\n",
    "\n",
    "    return grade"
   ],
   "metadata": {
    "collapsed": false
   }
  },
  {
   "cell_type": "code",
   "execution_count": 45,
   "outputs": [],
   "source": [
    "def calculate_grade_bisect(marks):\n",
    "    grades = [\"F\", \"C\", \"B\", \"A-\", \"A\", \"A+\"]\n",
    "    grade_thresholds = [40, 50, 60, 70, 80]\n",
    "\n",
    "    i = bisect(grade_thresholds, marks)\n",
    "    return grades[i]"
   ],
   "metadata": {
    "collapsed": false
   }
  },
  {
   "cell_type": "code",
   "execution_count": 46,
   "outputs": [],
   "source": [
    "if __name__ == \"__main__\":\n",
    "    for i in range(101):\n",
    "        assert calculate_grade(i) == calculate_grade_bisect(i), i"
   ],
   "metadata": {
    "collapsed": false
   }
  }
 ],
 "metadata": {
  "kernelspec": {
   "display_name": "Python 3",
   "language": "python",
   "name": "python3"
  },
  "language_info": {
   "codemirror_mode": {
    "name": "ipython",
    "version": 2
   },
   "file_extension": ".py",
   "mimetype": "text/x-python",
   "name": "python",
   "nbconvert_exporter": "python",
   "pygments_lexer": "ipython2",
   "version": "2.7.6"
  }
 },
 "nbformat": 4,
 "nbformat_minor": 0
}
