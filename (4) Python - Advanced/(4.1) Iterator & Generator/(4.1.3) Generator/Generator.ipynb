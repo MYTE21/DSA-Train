{
 "cells": [
  {
   "cell_type": "markdown",
   "source": [
    "# Generator\n",
    "The computer completely forgets the `local variables` of a function when we return from it. However, when we re-create the function, new local variables are created for the function. But occasionally, it could be required for the function to return a value. Then, when the function is called again, it will remember its previous state and begin executing after that state. It is now necessary to use `generator`. But what is `generator` in Python?\n",
    "\n",
    "\n",
    "> An exclusive kind of function in `Python` called a `generator` enables you to iterate over a sequence of data rather than computing the entire sequence at once. Because they allow you to compute the values as they are needed rather than pre-calculating the complete sequence and storing it in memory, generators are a valuable tool when working with huge datasets or when doing computations that require expensive processes.\n",
    "\n",
    "To create a `generator`, we define a function like we normally would, but use the `yield` keyword instead of `return` to return a value. For instance,"
   ],
   "metadata": {
    "collapsed": false
   }
  },
  {
   "cell_type": "code",
   "execution_count": 22,
   "metadata": {
    "collapsed": true
   },
   "outputs": [],
   "source": [
    "# 'foo()' function is generator\n",
    "def foo():\n",
    "    x = 1\n",
    "    yield x\n",
    "    x += 1\n",
    "    yield x\n",
    "    x += 2\n",
    "    yield x"
   ]
  },
  {
   "cell_type": "markdown",
   "source": [
    "Note: In the `foo()` function we define a variable `x` as 1. The next lines `yield x` returns the value of `x`. But the last state of the function will be saved somewhere. That's why when we come to the function again it will restore the previous recent value of `x`, which is 1, and it also remembers the previous latest state of the function and execute from the next state which is `x += 1`. Then the next code `yield x` will be executed and we get the value of `x` as 2.  Again if we call the function, this time it will execute `x += 2` and return 4."
   ],
   "metadata": {
    "collapsed": false
   }
  },
  {
   "cell_type": "code",
   "execution_count": 23,
   "outputs": [
    {
     "name": "stdout",
     "output_type": "stream",
     "text": [
      "1\n",
      "2\n",
      "4\n"
     ]
    }
   ],
   "source": [
    "if __name__ == \"__main__\":\n",
    "    for item in foo():\n",
    "        print(item)"
   ],
   "metadata": {
    "collapsed": false
   }
  },
  {
   "cell_type": "code",
   "execution_count": 3,
   "outputs": [
    {
     "name": "stdout",
     "output_type": "stream",
     "text": [
      "1\n",
      "2\n",
      "4\n"
     ]
    }
   ],
   "source": [
    "if __name__ == \"__main__\":\n",
    "    y = foo()\n",
    "    for item in y:\n",
    "        print(item)"
   ],
   "metadata": {
    "collapsed": false
   }
  },
  {
   "cell_type": "code",
   "execution_count": 4,
   "outputs": [
    {
     "name": "stdout",
     "output_type": "stream",
     "text": [
      "<generator object foo at 0x00000120B3C273E0> <class 'generator'>\n"
     ]
    }
   ],
   "source": [
    "y = foo()\n",
    "print(y, type(y))"
   ],
   "metadata": {
    "collapsed": false
   }
  },
  {
   "cell_type": "code",
   "execution_count": 5,
   "outputs": [
    {
     "name": "stdout",
     "output_type": "stream",
     "text": [
      "1\n",
      "2\n",
      "4\n"
     ]
    },
    {
     "ename": "StopIteration",
     "evalue": "",
     "output_type": "error",
     "traceback": [
      "\u001B[1;31m---------------------------------------------------------------------------\u001B[0m",
      "\u001B[1;31mStopIteration\u001B[0m                             Traceback (most recent call last)",
      "Cell \u001B[1;32mIn[5], line 6\u001B[0m\n\u001B[0;32m      4\u001B[0m \u001B[38;5;28mprint\u001B[39m(\u001B[38;5;28mnext\u001B[39m(y))\n\u001B[0;32m      5\u001B[0m \u001B[38;5;28mprint\u001B[39m(\u001B[38;5;28mnext\u001B[39m(y))\n\u001B[1;32m----> 6\u001B[0m \u001B[38;5;28mprint\u001B[39m(\u001B[38;5;28;43mnext\u001B[39;49m\u001B[43m(\u001B[49m\u001B[43my\u001B[49m\u001B[43m)\u001B[49m)\n",
      "\u001B[1;31mStopIteration\u001B[0m: "
     ]
    }
   ],
   "source": [
    "if __name__ == \"__main__\":\n",
    "    y = foo()\n",
    "    print(next(y))\n",
    "    print(next(y))\n",
    "    print(next(y))\n",
    "    print(next(y))"
   ],
   "metadata": {
    "collapsed": false
   }
  },
  {
   "cell_type": "code",
   "execution_count": 6,
   "outputs": [
    {
     "name": "stdout",
     "output_type": "stream",
     "text": [
      "0\n",
      "1\n",
      "2\n",
      "3\n",
      "4\n"
     ]
    }
   ],
   "source": [
    "def my_range(n):\n",
    "    x = 0\n",
    "    while x < n:\n",
    "        yield x\n",
    "        x += 1\n",
    "\n",
    "\n",
    "if __name__ == \"__main__\":\n",
    "    for item in my_range(5):\n",
    "        print(item)"
   ],
   "metadata": {
    "collapsed": false
   }
  },
  {
   "cell_type": "code",
   "execution_count": 7,
   "outputs": [],
   "source": [
    "def is_prime(n):\n",
    "    if n <= 1:\n",
    "        return False\n",
    "    if n == 2:\n",
    "        return True\n",
    "    if n % 2 == 0:\n",
    "        return False\n",
    "\n",
    "    root = int(n ** 0.5)    # math.sqrt(n)\n",
    "\n",
    "    for i in range(3, root + 1, 2):\n",
    "        if n % i == 0:\n",
    "            return False\n",
    "\n",
    "    return True"
   ],
   "metadata": {
    "collapsed": false
   }
  },
  {
   "cell_type": "code",
   "execution_count": 9,
   "outputs": [],
   "source": [
    "def gen_prime(n, m):\n",
    "    primes = []\n",
    "\n",
    "    i = 0\n",
    "    while i < m:\n",
    "        if is_prime(n):\n",
    "            primes.append(n)\n",
    "            i += 1\n",
    "        n += 1\n",
    "\n",
    "    return primes"
   ],
   "metadata": {
    "collapsed": false
   }
  },
  {
   "cell_type": "code",
   "execution_count": 10,
   "outputs": [
    {
     "name": "stdout",
     "output_type": "stream",
     "text": [
      "Sum:  129\n"
     ]
    }
   ],
   "source": [
    "if __name__ == \"__main__\":\n",
    "    primes = gen_prime(2, 10)\n",
    "    sum_primes = sum(primes)\n",
    "    print(\"Sum: \", sum_primes)"
   ],
   "metadata": {
    "collapsed": false
   }
  },
  {
   "cell_type": "code",
   "execution_count": 11,
   "outputs": [],
   "source": [
    "# Using Generator\n",
    "def generate_prime(n, m):\n",
    "    while True:\n",
    "        if is_prime(n):\n",
    "            yield n\n",
    "            m -= 1\n",
    "            if m == 0:\n",
    "                return\n",
    "        n += 1"
   ],
   "metadata": {
    "collapsed": false
   }
  },
  {
   "cell_type": "code",
   "execution_count": 12,
   "outputs": [
    {
     "name": "stdout",
     "output_type": "stream",
     "text": [
      "Sum:  129\n"
     ]
    }
   ],
   "source": [
    "if __name__ == \"__main__\":\n",
    "    n, m = 2, 10\n",
    "    primes = generate_prime(n, m)\n",
    "    sum_primes = sum(primes)\n",
    "    print(\"Sum: \", sum_primes)"
   ],
   "metadata": {
    "collapsed": false
   }
  },
  {
   "cell_type": "code",
   "execution_count": 19,
   "outputs": [
    {
     "name": "stdout",
     "output_type": "stream",
     "text": [
      "2 3 5 7 11 13 17 19 23 29 \n",
      "Sum:  129\n"
     ]
    }
   ],
   "source": [
    "# Without using 'sum()' function\n",
    "if __name__ == \"__main__\":\n",
    "    n, m = 2, 10\n",
    "    primes = generate_prime(n, m)\n",
    "    sum_primes = 0\n",
    "\n",
    "    for p in primes:\n",
    "        print(p, end=\" \")\n",
    "        sum_primes += p\n",
    "\n",
    "    print(\"\\nSum: \", sum_primes)"
   ],
   "metadata": {
    "collapsed": false
   }
  },
  {
   "cell_type": "code",
   "execution_count": null,
   "outputs": [],
   "source": [],
   "metadata": {
    "collapsed": false
   }
  }
 ],
 "metadata": {
  "kernelspec": {
   "display_name": "Python 3",
   "language": "python",
   "name": "python3"
  },
  "language_info": {
   "codemirror_mode": {
    "name": "ipython",
    "version": 2
   },
   "file_extension": ".py",
   "mimetype": "text/x-python",
   "name": "python",
   "nbconvert_exporter": "python",
   "pygments_lexer": "ipython2",
   "version": "2.7.6"
  }
 },
 "nbformat": 4,
 "nbformat_minor": 0
}
