{
 "cells": [
  {
   "cell_type": "markdown",
   "source": [
    "# Iterator\n",
    "An iterator is a unique object that can determine its future state by knowing its current state.\n",
    "\n",
    "The following function is used to create an iterator:\n",
    "```python\n",
    "iter()\n",
    "```\n",
    "The following function is used to determine the next state:\n",
    "```python\n",
    "next()\n",
    "```\n",
    "\n",
    "Let's create an iterator from a string..."
   ],
   "metadata": {
    "collapsed": false
   }
  },
  {
   "cell_type": "code",
   "execution_count": 1,
   "metadata": {
    "collapsed": true
   },
   "outputs": [
    {
     "data": {
      "text/plain": "<str_iterator at 0x23167ec66e0>"
     },
     "execution_count": 1,
     "metadata": {},
     "output_type": "execute_result"
    }
   ],
   "source": [
    "city = \"Dhaka\"\n",
    "city_iter = iter(city)\n",
    "city_iter"
   ]
  },
  {
   "cell_type": "code",
   "execution_count": 2,
   "outputs": [
    {
     "data": {
      "text/plain": "str_iterator"
     },
     "execution_count": 2,
     "metadata": {},
     "output_type": "execute_result"
    }
   ],
   "source": [
    "# Type of city_iter\n",
    "type(city_iter)"
   ],
   "metadata": {
    "collapsed": false
   }
  },
  {
   "cell_type": "markdown",
   "source": [
    "In this case, `city_itr` is an instance of the `str_iterator` class because the `string` was passed as an argument to the `iter()` function.\n",
    "\n",
    "Let's use the `next()` function to get each character one by one.:"
   ],
   "metadata": {
    "collapsed": false
   }
  },
  {
   "cell_type": "code",
   "execution_count": 3,
   "outputs": [
    {
     "data": {
      "text/plain": "'D'"
     },
     "execution_count": 3,
     "metadata": {},
     "output_type": "execute_result"
    }
   ],
   "source": [
    "next(city_iter)"
   ],
   "metadata": {
    "collapsed": false
   }
  },
  {
   "cell_type": "code",
   "execution_count": 4,
   "outputs": [
    {
     "data": {
      "text/plain": "'h'"
     },
     "execution_count": 4,
     "metadata": {},
     "output_type": "execute_result"
    }
   ],
   "source": [
    "next(city_iter)"
   ],
   "metadata": {
    "collapsed": false
   }
  },
  {
   "cell_type": "code",
   "execution_count": 5,
   "outputs": [
    {
     "data": {
      "text/plain": "'a'"
     },
     "execution_count": 5,
     "metadata": {},
     "output_type": "execute_result"
    }
   ],
   "source": [
    "next(city_iter)"
   ],
   "metadata": {
    "collapsed": false
   }
  },
  {
   "cell_type": "code",
   "execution_count": 6,
   "outputs": [
    {
     "data": {
      "text/plain": "'k'"
     },
     "execution_count": 6,
     "metadata": {},
     "output_type": "execute_result"
    }
   ],
   "source": [
    "next(city_iter)"
   ],
   "metadata": {
    "collapsed": false
   }
  },
  {
   "cell_type": "code",
   "execution_count": 7,
   "outputs": [
    {
     "data": {
      "text/plain": "'a'"
     },
     "execution_count": 7,
     "metadata": {},
     "output_type": "execute_result"
    }
   ],
   "source": [
    "next(city_iter)"
   ],
   "metadata": {
    "collapsed": false
   }
  },
  {
   "cell_type": "markdown",
   "source": [
    "If no character is left, the `StopIteration` exception will be thrown."
   ],
   "metadata": {
    "collapsed": false
   }
  },
  {
   "cell_type": "code",
   "execution_count": 8,
   "outputs": [
    {
     "ename": "StopIteration",
     "evalue": "",
     "output_type": "error",
     "traceback": [
      "\u001B[1;31m---------------------------------------------------------------------------\u001B[0m",
      "\u001B[1;31mStopIteration\u001B[0m                             Traceback (most recent call last)",
      "Cell \u001B[1;32mIn[8], line 1\u001B[0m\n\u001B[1;32m----> 1\u001B[0m \u001B[38;5;28;43mnext\u001B[39;49m\u001B[43m(\u001B[49m\u001B[43mcity_iter\u001B[49m\u001B[43m)\u001B[49m\n",
      "\u001B[1;31mStopIteration\u001B[0m: "
     ]
    }
   ],
   "source": [
    "next(city_iter)"
   ],
   "metadata": {
    "collapsed": false
   }
  },
  {
   "cell_type": "markdown",
   "source": [
    "Question: How does `next()` function know when to raise the StopIteration exception?\n",
    "\n",
    "Answer: The `next()` function calls the `__next__()` method of the class object when it is used. Here, the `next()` function invokes the `__next__()` method of the class object, which in this case is an object of the `str_iterator` class. The `__next__()` method of the class `str_iterator` knows how to get the next element and also how to throw an exception called `StopIteration` if there are no more elements left."
   ],
   "metadata": {
    "collapsed": false
   }
  },
  {
   "cell_type": "markdown",
   "source": [
    "Let's return to the initial query. How does the code below function?"
   ],
   "metadata": {
    "collapsed": false
   }
  },
  {
   "cell_type": "code",
   "execution_count": 10,
   "outputs": [
    {
     "name": "stdout",
     "output_type": "stream",
     "text": [
      "D\n",
      "h\n",
      "a\n",
      "k\n",
      "a\n"
     ]
    }
   ],
   "source": [
    "city = \"Dhaka\"\n",
    "\n",
    "for c in city:\n",
    "    print(c)"
   ],
   "metadata": {
    "collapsed": false
   }
  },
  {
   "cell_type": "markdown",
   "source": [
    "When we type `for c in city`, Python builds an `iterator` from the string `city` and executes the `next()` method each time. When the `next()` method throws a `StopIteration` error, the `for` loop recognizes that there are no more elements and exits the loop. The same manner, when we loop through a `list`, `set`, `tuple`, or `dictionary` in Python, an `iterator object` is created."
   ],
   "metadata": {
    "collapsed": false
   }
  },
  {
   "cell_type": "markdown",
   "source": [
    "### Create custom iterator\n",
    "A customized iterator can be built if we so desire. To achieve this, we must construct a class and add the `__iter__()` and `__next__()` methods to it. For instance, let's build the class `my_range` which is identical to `range(n)`."
   ],
   "metadata": {
    "collapsed": false
   }
  },
  {
   "cell_type": "code",
   "execution_count": 11,
   "outputs": [
    {
     "name": "stdout",
     "output_type": "stream",
     "text": [
      "0\n",
      "1\n",
      "2\n",
      "3\n",
      "4\n"
     ]
    }
   ],
   "source": [
    "class my_range:\n",
    "    def __init__(self, index):\n",
    "        self.index = 0\n",
    "        self.max_index = index - 1\n",
    "\n",
    "    def __iter__(self):\n",
    "        return self\n",
    "\n",
    "    def __next__(self):\n",
    "        if self.index <= self.max_index:\n",
    "            self.index += 1\n",
    "            return self.index - 1\n",
    "        else:\n",
    "            raise StopIteration()\n",
    "\n",
    "\n",
    "if __name__ == \"__main__\":\n",
    "    for i in my_range(5):\n",
    "        print(i)"
   ],
   "metadata": {
    "collapsed": false
   }
  },
  {
   "cell_type": "markdown",
   "source": [
    "Note: The `__iter__()` method only returns `self`. However, Python can recognize that this class is an iterator for this method."
   ],
   "metadata": {
    "collapsed": false
   }
  },
  {
   "cell_type": "markdown",
   "source": [
    "If the `for` loop is unable to perform the `iteration` for us, then the following code must be written ⤵️"
   ],
   "metadata": {
    "collapsed": false
   }
  },
  {
   "cell_type": "code",
   "execution_count": 12,
   "outputs": [
    {
     "name": "stdout",
     "output_type": "stream",
     "text": [
      "0\n",
      "1\n",
      "2\n",
      "3\n",
      "4\n"
     ]
    }
   ],
   "source": [
    "if __name__ == \"__main__\":\n",
    "    it = my_range(5)\n",
    "    while True:\n",
    "        try:\n",
    "            print(next(it))\n",
    "        except StopIteration:\n",
    "            break"
   ],
   "metadata": {
    "collapsed": false
   }
  },
  {
   "cell_type": "markdown",
   "source": [
    "Note: Instead of writing `next()`, we can also write `it. next__()`."
   ],
   "metadata": {
    "collapsed": false
   }
  },
  {
   "cell_type": "markdown",
   "source": [
    "## Iterable\n",
    "Iterable refers to a function that can produce an iterator. [Strings](), [lists](), [tuples](), [sets](), and [dictionaries]() are all `iterable` in Python."
   ],
   "metadata": {
    "collapsed": false
   }
  },
  {
   "cell_type": "markdown",
   "source": [
    "#### List - Iterable"
   ],
   "metadata": {
    "collapsed": false
   }
  },
  {
   "cell_type": "code",
   "execution_count": 15,
   "outputs": [
    {
     "data": {
      "text/plain": "(list_iterator, <list_iterator at 0x23167fe5d50>)"
     },
     "execution_count": 15,
     "metadata": {},
     "output_type": "execute_result"
    }
   ],
   "source": [
    "li = [1, 2, 3]\n",
    "it = iter(li)\n",
    "type(it), it"
   ],
   "metadata": {
    "collapsed": false
   }
  },
  {
   "cell_type": "markdown",
   "source": [
    "#### Tuple - Iterable"
   ],
   "metadata": {
    "collapsed": false
   }
  },
  {
   "cell_type": "code",
   "execution_count": 16,
   "outputs": [
    {
     "data": {
      "text/plain": "(tuple_iterator, <tuple_iterator at 0x23167fe6170>)"
     },
     "execution_count": 16,
     "metadata": {},
     "output_type": "execute_result"
    }
   ],
   "source": [
    "tpl = (1, 2, 3)\n",
    "it = iter(tpl)\n",
    "type(it), it"
   ],
   "metadata": {
    "collapsed": false
   }
  },
  {
   "cell_type": "markdown",
   "source": [
    "#### Set - Iterable"
   ],
   "metadata": {
    "collapsed": false
   }
  },
  {
   "cell_type": "code",
   "execution_count": 17,
   "outputs": [
    {
     "data": {
      "text/plain": "(set_iterator, <set_iterator at 0x231692efa40>)"
     },
     "execution_count": 17,
     "metadata": {},
     "output_type": "execute_result"
    }
   ],
   "source": [
    "st = {1, 2, 3}\n",
    "it = iter(st)\n",
    "type(it), it"
   ],
   "metadata": {
    "collapsed": false
   }
  },
  {
   "cell_type": "markdown",
   "source": [
    "#### Dictionary - Iterable"
   ],
   "metadata": {
    "collapsed": false
   }
  },
  {
   "cell_type": "code",
   "execution_count": 19,
   "outputs": [
    {
     "data": {
      "text/plain": "(dict_keyiterator, <dict_keyiterator at 0x231692f6930>)"
     },
     "execution_count": 19,
     "metadata": {},
     "output_type": "execute_result"
    }
   ],
   "source": [
    "dt = {\"a\": \"A\", \"b\": \"B\"}\n",
    "it = iter(dt)\n",
    "type(it), it"
   ],
   "metadata": {
    "collapsed": false
   }
  },
  {
   "cell_type": "markdown",
   "source": [
    "### Itertools\n",
    "The Python `itertools` package has many features for working with iterators. This is not covered in this notebook. However, for additional information, visit here - [itertools documentation](https://docs.python.org/3/library/itertools.html)."
   ],
   "metadata": {
    "collapsed": false
   }
  },
  {
   "cell_type": "markdown",
   "source": [
    "## Exercises\n",
    "\n",
    "1. Make a function called `my_range()` that can accept up to **three arguments**, just like the <a href=\"https://docs.python.org/3/library/functions.html#func-range:~:text=class%20range(,tuple%2C%20range.\">range()</a> built-in function in Python. For example, if we type `my_range(stop)`, we will receive values from 0 to one before `stop`. As an option, if we write `my_range(start, stop)`, we will receive numbers from `start` to one before `stop`. Finally, if we type `my_range(start, stop, step)`, we will receive numbers from `start` to `stop` with the `step` increment.\n",
    "2. Python has a built-in function known as `sum()`. `sum(iterable[, start])` is how the function was described in the documentation. The issue at hand is what `arguments` can be used in the `sum()` function?"
   ],
   "metadata": {
    "collapsed": false
   }
  }
 ],
 "metadata": {
  "kernelspec": {
   "display_name": "Python 3",
   "language": "python",
   "name": "python3"
  },
  "language_info": {
   "codemirror_mode": {
    "name": "ipython",
    "version": 2
   },
   "file_extension": ".py",
   "mimetype": "text/x-python",
   "name": "python",
   "nbconvert_exporter": "python",
   "pygments_lexer": "ipython2",
   "version": "2.7.6"
  }
 },
 "nbformat": 4,
 "nbformat_minor": 0
}
