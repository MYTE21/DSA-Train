{
 "cells": [
  {
   "cell_type": "code",
   "execution_count": 2,
   "metadata": {
    "collapsed": true
   },
   "outputs": [
    {
     "name": "stdout",
     "output_type": "stream",
     "text": [
      "True\n"
     ]
    }
   ],
   "source": [
    "def is_eligible(platform, age):\n",
    "    if platform == \"facebook\" and age >= 13:\n",
    "        return True\n",
    "    if platform == \"twitter\" and age >= 18:\n",
    "        return True\n",
    "\n",
    "    return False\n",
    "\n",
    "\n",
    "if __name__ == \"__main__\":\n",
    "    platform = \"facebook\"\n",
    "    age = 15\n",
    "    print(is_eligible(platform, age))"
   ]
  },
  {
   "cell_type": "code",
   "execution_count": 3,
   "outputs": [
    {
     "name": "stdout",
     "output_type": "stream",
     "text": [
      "True\n"
     ]
    }
   ],
   "source": [
    "# With type hinting\n",
    "def is_eligible(platform: str, age: int) -> bool:\n",
    "    if platform == \"facebook\" and age >= 13:\n",
    "        return True\n",
    "    if platform == \"twitter\" and age >= 18:\n",
    "        return True\n",
    "\n",
    "    return False\n",
    "\n",
    "if __name__ == \"__main__\":\n",
    "    platform: str = \"facebook\"\n",
    "    age: int = 15\n",
    "    print(is_eligible(platform, age))"
   ],
   "metadata": {
    "collapsed": false
   }
  },
  {
   "cell_type": "code",
   "execution_count": 4,
   "outputs": [],
   "source": [
    "name: str = \"Rafi\"\n",
    "year: int = 2006\n",
    "gpa: float = 3.99\n",
    "flag: bool = True\n",
    "\n",
    "fruits: list = [\"Mango\", \"Guava\", \"Apple\"]\n",
    "coordinate: tuple = (23.7807777, 90.3491139)\n",
    "colors: set = {\"green\", \"blue\", \"red\", \"orange\"}\n",
    "capitals: dict = {\"Bangladesh\": \"Dhaka\", \"England\": \"London\"}"
   ],
   "metadata": {
    "collapsed": false
   }
  },
  {
   "cell_type": "code",
   "execution_count": 5,
   "outputs": [],
   "source": [
    "from typing import List, Tuple, Set, Dict\n",
    "\n",
    "\n",
    "fruits: List[str] = [\"Mango\", \"Guava\", \"Apple\"]\n",
    "coordinate: Tuple[float, float] = (23.7807777, 90.3491139)\n",
    "colors: Set[str] = {\"green\", \"blue\", \"red\", \"orange\"}\n",
    "capitals: Dict[str, str] = {\"Bangladesh\": \"Dhaka\", \"England\": \"London\"}"
   ],
   "metadata": {
    "collapsed": false
   }
  }
 ],
 "metadata": {
  "kernelspec": {
   "display_name": "Python 3",
   "language": "python",
   "name": "python3"
  },
  "language_info": {
   "codemirror_mode": {
    "name": "ipython",
    "version": 2
   },
   "file_extension": ".py",
   "mimetype": "text/x-python",
   "name": "python",
   "nbconvert_exporter": "python",
   "pygments_lexer": "ipython2",
   "version": "2.7.6"
  }
 },
 "nbformat": 4,
 "nbformat_minor": 0
}
