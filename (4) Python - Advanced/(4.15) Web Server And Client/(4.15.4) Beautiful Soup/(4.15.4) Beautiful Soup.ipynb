{
 "cells": [
  {
   "cell_type": "code",
   "execution_count": 1,
   "metadata": {
    "collapsed": true,
    "ExecuteTime": {
     "start_time": "2023-04-21T00:47:15.421934Z",
     "end_time": "2023-04-21T00:47:15.558423Z"
    }
   },
   "outputs": [],
   "source": [
    "from bs4 import BeautifulSoup"
   ]
  },
  {
   "cell_type": "code",
   "execution_count": 2,
   "outputs": [],
   "source": [
    "html_doc = \"\"\"\n",
    "<html>\n",
    "    <head>\n",
    "        <title>\n",
    "            Book Page Title\n",
    "        </title>\n",
    "    </head>\n",
    "    <body>\n",
    "        <h1>This is a test page</h1>\n",
    "        <div class=\"content\" id=\"div1\">\n",
    "            Python Book List -\n",
    "            <ul>\n",
    "                <li>\n",
    "                    <a href=\"http://dimik.pub/book/155\">Learn Programming with Python - Part 1</a>\n",
    "                </li>\n",
    "                <li>\n",
    "                    <a href=\"http://dimik.pub/book/181\">Learn Programming with Python - Part 2</a>\n",
    "                </li>\n",
    "                <li>\n",
    "                    <a href=\"http://dimik.pub/book/249\">Learn Programming with Python - Part 3</a>\n",
    "                </li>\n",
    "            </ul>\n",
    "        </div>\n",
    "        <div class=\"content\" id=\"div2\">\n",
    "            C Book List -\n",
    "            <ul>\n",
    "                <li>\n",
    "                    <a href=\"http://dimik.pub/book/351\">Computer Programming - Part 1</a>\n",
    "                </li>\n",
    "                <li>\n",
    "                    <a href=\"http://dimik.pub/book/97\">Computer Programming - Part 2</a>\n",
    "                </li>\n",
    "                <li>\n",
    "                    <a href=\"http://dimik.pub/book/245\">Computer Programming - Part 3</a>\n",
    "                </li>\n",
    "            </ul>\n",
    "        </div>\n",
    "    </body>\n",
    "</html>\n",
    "\"\"\""
   ],
   "metadata": {
    "collapsed": false,
    "ExecuteTime": {
     "start_time": "2023-04-21T02:13:24.404537Z",
     "end_time": "2023-04-21T02:13:24.414052Z"
    }
   }
  },
  {
   "cell_type": "code",
   "execution_count": 3,
   "outputs": [],
   "source": [
    "soup = BeautifulSoup(html_doc, \"html.parser\")"
   ],
   "metadata": {
    "collapsed": false,
    "ExecuteTime": {
     "start_time": "2023-04-21T02:13:42.021792Z",
     "end_time": "2023-04-21T02:13:42.045635Z"
    }
   }
  },
  {
   "cell_type": "code",
   "execution_count": 4,
   "outputs": [
    {
     "data": {
      "text/plain": "'\\n\\n\\n\\n            Book Page Title\\n        \\n\\n\\nThis is a test page\\n\\n            Python Book List -\\n            \\n\\nLearn Programming with Python - Part 1\\n\\n\\nLearn Programming with Python - Part 2\\n\\n\\nLearn Programming with Python - Part 3\\n\\n\\n\\n\\n            C Book List -\\n            \\n\\nComputer Programming - Part 1\\n\\n\\nComputer Programming - Part 2\\n\\n\\nComputer Programming - Part 3\\n\\n\\n\\n\\n\\n'"
     },
     "execution_count": 4,
     "metadata": {},
     "output_type": "execute_result"
    }
   ],
   "source": [
    "soup.get_text()"
   ],
   "metadata": {
    "collapsed": false,
    "ExecuteTime": {
     "start_time": "2023-04-21T02:15:02.237844Z",
     "end_time": "2023-04-21T02:15:02.303368Z"
    }
   }
  },
  {
   "cell_type": "code",
   "execution_count": 8,
   "outputs": [
    {
     "data": {
      "text/plain": "<title>\n            Book Page Title\n        </title>"
     },
     "execution_count": 8,
     "metadata": {},
     "output_type": "execute_result"
    }
   ],
   "source": [
    "soup.title"
   ],
   "metadata": {
    "collapsed": false,
    "ExecuteTime": {
     "start_time": "2023-04-21T02:16:43.107786Z",
     "end_time": "2023-04-21T02:16:43.135341Z"
    }
   }
  },
  {
   "cell_type": "code",
   "execution_count": 7,
   "outputs": [
    {
     "data": {
      "text/plain": "'title'"
     },
     "execution_count": 7,
     "metadata": {},
     "output_type": "execute_result"
    }
   ],
   "source": [
    "soup.title.name"
   ],
   "metadata": {
    "collapsed": false,
    "ExecuteTime": {
     "start_time": "2023-04-21T02:16:37.456641Z",
     "end_time": "2023-04-21T02:16:37.465531Z"
    }
   }
  },
  {
   "cell_type": "code",
   "execution_count": 9,
   "outputs": [
    {
     "data": {
      "text/plain": "'\\n            Book Page Title\\n        '"
     },
     "execution_count": 9,
     "metadata": {},
     "output_type": "execute_result"
    }
   ],
   "source": [
    "soup.title.string"
   ],
   "metadata": {
    "collapsed": false,
    "ExecuteTime": {
     "start_time": "2023-04-21T02:17:01.640732Z",
     "end_time": "2023-04-21T02:17:01.654760Z"
    }
   }
  },
  {
   "cell_type": "code",
   "execution_count": 10,
   "outputs": [
    {
     "data": {
      "text/plain": "['DEFAULT_INTERESTING_STRING_TYPES',\n '__bool__',\n '__call__',\n '__class__',\n '__contains__',\n '__copy__',\n '__delattr__',\n '__delitem__',\n '__dict__',\n '__dir__',\n '__doc__',\n '__eq__',\n '__format__',\n '__ge__',\n '__getattr__',\n '__getattribute__',\n '__getitem__',\n '__gt__',\n '__hash__',\n '__init__',\n '__init_subclass__',\n '__iter__',\n '__le__',\n '__len__',\n '__lt__',\n '__module__',\n '__ne__',\n '__new__',\n '__reduce__',\n '__reduce_ex__',\n '__repr__',\n '__setattr__',\n '__setitem__',\n '__sizeof__',\n '__str__',\n '__subclasshook__',\n '__unicode__',\n '__weakref__',\n '_all_strings',\n '_find_all',\n '_find_one',\n '_is_xml',\n '_lastRecursiveChild',\n '_last_descendant',\n '_namespaces',\n '_should_pretty_print',\n 'append',\n 'attrs',\n 'can_be_empty_element',\n 'cdata_list_attributes',\n 'childGenerator',\n 'children',\n 'clear',\n 'contents',\n 'css',\n 'decode',\n 'decode_contents',\n 'decompose',\n 'decomposed',\n 'default',\n 'descendants',\n 'encode',\n 'encode_contents',\n 'extend',\n 'extract',\n 'fetchNextSiblings',\n 'fetchParents',\n 'fetchPrevious',\n 'fetchPreviousSiblings',\n 'find',\n 'findAll',\n 'findAllNext',\n 'findAllPrevious',\n 'findChild',\n 'findChildren',\n 'findNext',\n 'findNextSibling',\n 'findNextSiblings',\n 'findParent',\n 'findParents',\n 'findPrevious',\n 'findPreviousSibling',\n 'findPreviousSiblings',\n 'find_all',\n 'find_all_next',\n 'find_all_previous',\n 'find_next',\n 'find_next_sibling',\n 'find_next_siblings',\n 'find_parent',\n 'find_parents',\n 'find_previous',\n 'find_previous_sibling',\n 'find_previous_siblings',\n 'format_string',\n 'formatter_for_name',\n 'get',\n 'getText',\n 'get_attribute_list',\n 'get_text',\n 'has_attr',\n 'has_key',\n 'hidden',\n 'index',\n 'insert',\n 'insert_after',\n 'insert_before',\n 'interesting_string_types',\n 'isSelfClosing',\n 'is_empty_element',\n 'known_xml',\n 'name',\n 'namespace',\n 'next',\n 'nextGenerator',\n 'nextSibling',\n 'nextSiblingGenerator',\n 'next_element',\n 'next_elements',\n 'next_sibling',\n 'next_siblings',\n 'parent',\n 'parentGenerator',\n 'parents',\n 'parserClass',\n 'parser_class',\n 'prefix',\n 'preserve_whitespace_tags',\n 'prettify',\n 'previous',\n 'previousGenerator',\n 'previousSibling',\n 'previousSiblingGenerator',\n 'previous_element',\n 'previous_elements',\n 'previous_sibling',\n 'previous_siblings',\n 'recursiveChildGenerator',\n 'renderContents',\n 'replaceWith',\n 'replaceWithChildren',\n 'replace_with',\n 'replace_with_children',\n 'select',\n 'select_one',\n 'setup',\n 'smooth',\n 'sourceline',\n 'sourcepos',\n 'string',\n 'strings',\n 'stripped_strings',\n 'text',\n 'unwrap',\n 'wrap']"
     },
     "execution_count": 10,
     "metadata": {},
     "output_type": "execute_result"
    }
   ],
   "source": [
    "dir(soup.title)"
   ],
   "metadata": {
    "collapsed": false,
    "ExecuteTime": {
     "start_time": "2023-04-21T02:17:55.771937Z",
     "end_time": "2023-04-21T02:17:55.835418Z"
    }
   }
  },
  {
   "cell_type": "code",
   "execution_count": 11,
   "outputs": [
    {
     "data": {
      "text/plain": "<head>\n<title>\n            Book Page Title\n        </title>\n</head>"
     },
     "execution_count": 11,
     "metadata": {},
     "output_type": "execute_result"
    }
   ],
   "source": [
    "soup.title.parent"
   ],
   "metadata": {
    "collapsed": false,
    "ExecuteTime": {
     "start_time": "2023-04-21T02:19:57.321725Z",
     "end_time": "2023-04-21T02:19:57.348070Z"
    }
   }
  },
  {
   "cell_type": "code",
   "execution_count": 12,
   "outputs": [
    {
     "data": {
      "text/plain": "'head'"
     },
     "execution_count": 12,
     "metadata": {},
     "output_type": "execute_result"
    }
   ],
   "source": [
    "soup.title.parent.name"
   ],
   "metadata": {
    "collapsed": false,
    "ExecuteTime": {
     "start_time": "2023-04-21T02:20:12.662753Z",
     "end_time": "2023-04-21T02:20:12.723490Z"
    }
   }
  },
  {
   "cell_type": "code",
   "execution_count": 13,
   "outputs": [
    {
     "data": {
      "text/plain": "['\\n',\n <title>\n             Book Page Title\n         </title>,\n '\\n']"
     },
     "execution_count": 13,
     "metadata": {},
     "output_type": "execute_result"
    }
   ],
   "source": [
    "soup.title.parent.contents"
   ],
   "metadata": {
    "collapsed": false,
    "ExecuteTime": {
     "start_time": "2023-04-21T02:20:42.266969Z",
     "end_time": "2023-04-21T02:20:42.300713Z"
    }
   }
  },
  {
   "cell_type": "code",
   "execution_count": 14,
   "outputs": [
    {
     "data": {
      "text/plain": "[<a href=\"http://dimik.pub/book/155\">Learn Programming with Python - Part 1</a>,\n <a href=\"http://dimik.pub/book/181\">Learn Programming with Python - Part 2</a>,\n <a href=\"http://dimik.pub/book/249\">Learn Programming with Python - Part 3</a>,\n <a href=\"http://dimik.pub/book/351\">Computer Programming - Part 1</a>,\n <a href=\"http://dimik.pub/book/97\">Computer Programming - Part 2</a>,\n <a href=\"http://dimik.pub/book/245\">Computer Programming - Part 3</a>]"
     },
     "execution_count": 14,
     "metadata": {},
     "output_type": "execute_result"
    }
   ],
   "source": [
    "soup.find_all(\"a\")"
   ],
   "metadata": {
    "collapsed": false,
    "ExecuteTime": {
     "start_time": "2023-04-21T02:21:19.490978Z",
     "end_time": "2023-04-21T02:21:19.556673Z"
    }
   }
  },
  {
   "cell_type": "code",
   "execution_count": 15,
   "outputs": [
    {
     "name": "stdout",
     "output_type": "stream",
     "text": [
      "<div class=\"content\" id=\"div1\">\n",
      "            Python Book List -\n",
      "            <ul>\n",
      "<li>\n",
      "<a href=\"http://dimik.pub/book/155\">Learn Programming with Python - Part 1</a>\n",
      "</li>\n",
      "<li>\n",
      "<a href=\"http://dimik.pub/book/181\">Learn Programming with Python - Part 2</a>\n",
      "</li>\n",
      "<li>\n",
      "<a href=\"http://dimik.pub/book/249\">Learn Programming with Python - Part 3</a>\n",
      "</li>\n",
      "</ul>\n",
      "</div>\n"
     ]
    }
   ],
   "source": [
    "div = soup.div\n",
    "print(div)"
   ],
   "metadata": {
    "collapsed": false,
    "ExecuteTime": {
     "start_time": "2023-04-21T06:16:44.162044Z",
     "end_time": "2023-04-21T06:16:44.175395Z"
    }
   }
  },
  {
   "cell_type": "code",
   "execution_count": 16,
   "outputs": [
    {
     "name": "stdout",
     "output_type": "stream",
     "text": [
      "<div class=\"content\" id=\"div2\">\n",
      "            C Book List -\n",
      "            <ul>\n",
      "<li>\n",
      "<a href=\"http://dimik.pub/book/351\">Computer Programming - Part 1</a>\n",
      "</li>\n",
      "<li>\n",
      "<a href=\"http://dimik.pub/book/97\">Computer Programming - Part 2</a>\n",
      "</li>\n",
      "<li>\n",
      "<a href=\"http://dimik.pub/book/245\">Computer Programming - Part 3</a>\n",
      "</li>\n",
      "</ul>\n",
      "</div>\n"
     ]
    }
   ],
   "source": [
    "div = div.find_next_sibling()\n",
    "print(div)"
   ],
   "metadata": {
    "collapsed": false,
    "ExecuteTime": {
     "start_time": "2023-04-21T06:17:41.894879Z",
     "end_time": "2023-04-21T06:17:41.909904Z"
    }
   }
  },
  {
   "cell_type": "code",
   "execution_count": 17,
   "outputs": [
    {
     "name": "stdout",
     "output_type": "stream",
     "text": [
      "Learn Programming with Python - Part 1 http://dimik.pub/book/155\n",
      "Learn Programming with Python - Part 2 http://dimik.pub/book/181\n",
      "Learn Programming with Python - Part 3 http://dimik.pub/book/249\n"
     ]
    }
   ],
   "source": [
    "div = soup.div\n",
    "links = div.find_all(\"a\")\n",
    "\n",
    "for link in links:\n",
    "    name, url = link.string, link.get(\"href\")\n",
    "    print(name, url)"
   ],
   "metadata": {
    "collapsed": false,
    "ExecuteTime": {
     "start_time": "2023-04-21T06:19:51.666884Z",
     "end_time": "2023-04-21T06:19:51.694018Z"
    }
   }
  },
  {
   "cell_type": "code",
   "execution_count": 18,
   "outputs": [
    {
     "name": "stdout",
     "output_type": "stream",
     "text": [
      "Books  |  catalogue/category/books_1/index.html\n",
      "Travel  |  catalogue/category/books/travel_2/index.html\n",
      "Mystery  |  catalogue/category/books/mystery_3/index.html\n",
      "Historical Fiction  |  catalogue/category/books/historical-fiction_4/index.html\n",
      "Sequential Art  |  catalogue/category/books/sequential-art_5/index.html\n",
      "Classics  |  catalogue/category/books/classics_6/index.html\n",
      "Philosophy  |  catalogue/category/books/philosophy_7/index.html\n",
      "Romance  |  catalogue/category/books/romance_8/index.html\n",
      "Womens Fiction  |  catalogue/category/books/womens-fiction_9/index.html\n",
      "Fiction  |  catalogue/category/books/fiction_10/index.html\n",
      "Childrens  |  catalogue/category/books/childrens_11/index.html\n",
      "Religion  |  catalogue/category/books/religion_12/index.html\n",
      "Nonfiction  |  catalogue/category/books/nonfiction_13/index.html\n",
      "Music  |  catalogue/category/books/music_14/index.html\n",
      "Default  |  catalogue/category/books/default_15/index.html\n",
      "Science Fiction  |  catalogue/category/books/science-fiction_16/index.html\n",
      "Sports and Games  |  catalogue/category/books/sports-and-games_17/index.html\n",
      "Add a comment  |  catalogue/category/books/add-a-comment_18/index.html\n",
      "Fantasy  |  catalogue/category/books/fantasy_19/index.html\n",
      "New Adult  |  catalogue/category/books/new-adult_20/index.html\n",
      "Young Adult  |  catalogue/category/books/young-adult_21/index.html\n",
      "Science  |  catalogue/category/books/science_22/index.html\n",
      "Poetry  |  catalogue/category/books/poetry_23/index.html\n",
      "Paranormal  |  catalogue/category/books/paranormal_24/index.html\n",
      "Art  |  catalogue/category/books/art_25/index.html\n",
      "Psychology  |  catalogue/category/books/psychology_26/index.html\n",
      "Autobiography  |  catalogue/category/books/autobiography_27/index.html\n",
      "Parenting  |  catalogue/category/books/parenting_28/index.html\n",
      "Adult Fiction  |  catalogue/category/books/adult-fiction_29/index.html\n",
      "Humor  |  catalogue/category/books/humor_30/index.html\n",
      "Horror  |  catalogue/category/books/horror_31/index.html\n",
      "History  |  catalogue/category/books/history_32/index.html\n",
      "Food and Drink  |  catalogue/category/books/food-and-drink_33/index.html\n",
      "Christian Fiction  |  catalogue/category/books/christian-fiction_34/index.html\n",
      "Business  |  catalogue/category/books/business_35/index.html\n",
      "Biography  |  catalogue/category/books/biography_36/index.html\n",
      "Thriller  |  catalogue/category/books/thriller_37/index.html\n",
      "Contemporary  |  catalogue/category/books/contemporary_38/index.html\n",
      "Spirituality  |  catalogue/category/books/spirituality_39/index.html\n",
      "Academic  |  catalogue/category/books/academic_40/index.html\n",
      "Self Help  |  catalogue/category/books/self-help_41/index.html\n",
      "Historical  |  catalogue/category/books/historical_42/index.html\n",
      "Christian  |  catalogue/category/books/christian_43/index.html\n",
      "Suspense  |  catalogue/category/books/suspense_44/index.html\n",
      "Short Stories  |  catalogue/category/books/short-stories_45/index.html\n",
      "Novels  |  catalogue/category/books/novels_46/index.html\n",
      "Health  |  catalogue/category/books/health_47/index.html\n",
      "Politics  |  catalogue/category/books/politics_48/index.html\n",
      "Cultural  |  catalogue/category/books/cultural_49/index.html\n",
      "Erotica  |  catalogue/category/books/erotica_50/index.html\n",
      "Crime  |  catalogue/category/books/crime_51/index.html\n"
     ]
    }
   ],
   "source": [
    "from bs4 import BeautifulSoup\n",
    "import requests\n",
    "\n",
    "\n",
    "url = \"https://books.toscrape.com/\"\n",
    "r = requests.get(url)\n",
    "html_doc = r.text\n",
    "\n",
    "soup = BeautifulSoup(html_doc, \"html.parser\")\n",
    "\n",
    "category_div = soup.find(\"div\", class_ = \"side_categories\")\n",
    "links = category_div.find_all(\"a\")\n",
    "\n",
    "for link in links:\n",
    "    name, url = link.string, link.get(\"href\")\n",
    "    name = name.strip()\n",
    "    print(name, \" | \", url)"
   ],
   "metadata": {
    "collapsed": false,
    "ExecuteTime": {
     "start_time": "2023-04-21T06:27:07.810434Z",
     "end_time": "2023-04-21T06:27:10.045929Z"
    }
   }
  }
 ],
 "metadata": {
  "kernelspec": {
   "display_name": "Python 3",
   "language": "python",
   "name": "python3"
  },
  "language_info": {
   "codemirror_mode": {
    "name": "ipython",
    "version": 2
   },
   "file_extension": ".py",
   "mimetype": "text/x-python",
   "name": "python",
   "nbconvert_exporter": "python",
   "pygments_lexer": "ipython2",
   "version": "2.7.6"
  }
 },
 "nbformat": 4,
 "nbformat_minor": 0
}
