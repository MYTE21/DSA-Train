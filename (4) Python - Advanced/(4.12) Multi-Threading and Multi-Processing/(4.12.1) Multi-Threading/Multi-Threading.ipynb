{
 "cells": [
  {
   "cell_type": "markdown",
   "source": [
    "### 2 Functions and Execution times"
   ],
   "metadata": {
    "collapsed": false
   }
  },
  {
   "cell_type": "code",
   "execution_count": 1,
   "metadata": {
    "collapsed": true
   },
   "outputs": [],
   "source": [
    "import time"
   ]
  },
  {
   "cell_type": "code",
   "execution_count": 2,
   "outputs": [],
   "source": [
    "def sleep_fnc(sec = 1.1):\n",
    "    print(\"Inside sleep_fnc\")\n",
    "    time.sleep(sec)"
   ],
   "metadata": {
    "collapsed": false
   }
  },
  {
   "cell_type": "code",
   "execution_count": 3,
   "outputs": [],
   "source": [
    "def compute_fnc():\n",
    "    print(\"Inside compute_fnc\")\n",
    "    for x in range(1000000):\n",
    "        _ = pow(x, 123)"
   ],
   "metadata": {
    "collapsed": false
   }
  },
  {
   "cell_type": "code",
   "execution_count": 4,
   "outputs": [
    {
     "name": "stdout",
     "output_type": "stream",
     "text": [
      "Inside sleep_fnc\n",
      "1.11\n",
      "Inside compute_fnc\n",
      "2.28\n"
     ]
    }
   ],
   "source": [
    "for fnc in [sleep_fnc, compute_fnc]:\n",
    "    t1 = time.perf_counter()\n",
    "    fnc()\n",
    "    t2 = time.perf_counter()\n",
    "    time_spent = t2 - t1\n",
    "    print(round(time_spent, 2))"
   ],
   "metadata": {
    "collapsed": false
   }
  },
  {
   "cell_type": "markdown",
   "source": [
    "#### Calling sleep_fnc() five times"
   ],
   "metadata": {
    "collapsed": false
   }
  },
  {
   "cell_type": "code",
   "execution_count": 6,
   "outputs": [
    {
     "name": "stdout",
     "output_type": "stream",
     "text": [
      "Inside sleep_fnc\n",
      "Inside sleep_fnc\n",
      "Inside sleep_fnc\n",
      "Inside sleep_fnc\n",
      "Inside sleep_fnc\n",
      "5.55\n"
     ]
    }
   ],
   "source": [
    "t1 = time.perf_counter()\n",
    "for _ in range(5):\n",
    "    sleep_fnc()\n",
    "t2 = time.perf_counter()\n",
    "time_spent = t2 - t1\n",
    "print(round(time_spent, 2))"
   ],
   "metadata": {
    "collapsed": false
   }
  },
  {
   "cell_type": "markdown",
   "source": [
    "### Threading"
   ],
   "metadata": {
    "collapsed": false
   }
  },
  {
   "cell_type": "code",
   "execution_count": 7,
   "outputs": [],
   "source": [
    "import threading\n",
    "\n",
    "\n",
    "th = threading.Thread(target=fnc)"
   ],
   "metadata": {
    "collapsed": false
   }
  },
  {
   "cell_type": "markdown",
   "source": [
    "##### Threading and time"
   ],
   "metadata": {
    "collapsed": false
   }
  },
  {
   "cell_type": "code",
   "execution_count": 8,
   "outputs": [],
   "source": [
    "import time\n",
    "import threading"
   ],
   "metadata": {
    "collapsed": false
   }
  },
  {
   "cell_type": "code",
   "execution_count": 9,
   "outputs": [],
   "source": [
    "def sleep_fnc(sec = 1.1):\n",
    "    print(\"inside sleep_fnc\")\n",
    "    time.sleep(sec)"
   ],
   "metadata": {
    "collapsed": false
   }
  },
  {
   "cell_type": "code",
   "execution_count": 10,
   "outputs": [
    {
     "name": "stdout",
     "output_type": "stream",
     "text": [
      "inside sleep_fnc\n",
      "inside sleep_fnc\n",
      "inside sleep_fnc\n",
      "inside sleep_fnc\n",
      "inside sleep_fnc\n",
      "0.01\n"
     ]
    }
   ],
   "source": [
    "t1 = time.perf_counter()\n",
    "\n",
    "thread_list = [threading.Thread(target=sleep_fnc) for _ in range(5)]\n",
    "for th in thread_list:\n",
    "    th.start()\n",
    "\n",
    "t2 = time.perf_counter()\n",
    "time_spent = t2 - t1\n",
    "print(round(time_spent, 2))"
   ],
   "metadata": {
    "collapsed": false
   }
  },
  {
   "cell_type": "markdown",
   "source": [
    "#### Main thread waits for all threads to finish"
   ],
   "metadata": {
    "collapsed": false
   }
  },
  {
   "cell_type": "code",
   "execution_count": 11,
   "outputs": [],
   "source": [
    "import time\n",
    "import threading"
   ],
   "metadata": {
    "collapsed": false
   }
  },
  {
   "cell_type": "code",
   "execution_count": 12,
   "outputs": [],
   "source": [
    "def sleep_fnc(sec = 1.1):\n",
    "    print(\"inside sleep_fnc\")\n",
    "    time.sleep(sec)\n",
    "    print(\"finished sleep\")"
   ],
   "metadata": {
    "collapsed": false
   }
  },
  {
   "cell_type": "code",
   "execution_count": 13,
   "outputs": [
    {
     "name": "stdout",
     "output_type": "stream",
     "text": [
      "inside sleep_fnc\n",
      "inside sleep_fnc\n",
      "inside sleep_fnc\n",
      "inside sleep_fnc\n",
      "inside sleep_fnc\n",
      "finished sleep\n",
      "finished sleep\n",
      "finished sleep\n",
      "finished sleep\n",
      "finished sleep\n",
      "1.11\n"
     ]
    }
   ],
   "source": [
    "t1 = time.perf_counter()\n",
    "\n",
    "thread_list = [threading.Thread(target = sleep_fnc) for _ in range(5)]\n",
    "for th in thread_list:\n",
    "    th.start()\n",
    "\n",
    "for th in thread_list:\n",
    "    th.join()\n",
    "\n",
    "t2 = time.perf_counter()\n",
    "time_spent = t2 - t1\n",
    "print(round(time_spent, 2))"
   ],
   "metadata": {
    "collapsed": false
   }
  },
  {
   "cell_type": "markdown",
   "source": [
    "#### Multi-threading in computer_fnc()"
   ],
   "metadata": {
    "collapsed": false
   }
  },
  {
   "cell_type": "code",
   "execution_count": 14,
   "outputs": [],
   "source": [
    "import time\n",
    "import threading"
   ],
   "metadata": {
    "collapsed": false
   }
  },
  {
   "cell_type": "code",
   "execution_count": 15,
   "outputs": [],
   "source": [
    "def compute_fnc():\n",
    "    print(\"inside computer_fnc\")\n",
    "    for x in range(10000000):\n",
    "        _ = pow(x, 2)\n",
    "    print(\"finished compute\")"
   ],
   "metadata": {
    "collapsed": false
   }
  },
  {
   "cell_type": "code",
   "execution_count": 16,
   "outputs": [
    {
     "name": "stdout",
     "output_type": "stream",
     "text": [
      "inside computer_fnc\n",
      "inside computer_fnc\n",
      "inside computer_fnc\n",
      "inside computer_fnc\n",
      "inside computer_fnc\n",
      "finished compute\n",
      "finished compute\n",
      "finished compute\n",
      "finished compute\n",
      "finished compute\n",
      "14.87\n"
     ]
    }
   ],
   "source": [
    "t1 = time.perf_counter()\n",
    "\n",
    "thread_list = [threading.Thread(target = compute_fnc) for _ in range(5)]\n",
    "for th in thread_list:\n",
    "    th.start()\n",
    "\n",
    "for th in thread_list:\n",
    "    th.join()\n",
    "\n",
    "t2 = time.perf_counter()\n",
    "time_spent = t2 - t1\n",
    "print(round(time_spent, 2))"
   ],
   "metadata": {
    "collapsed": false
   }
  },
  {
   "cell_type": "markdown",
   "source": [
    "#### Without Thread in computer_fnc()"
   ],
   "metadata": {
    "collapsed": false
   }
  },
  {
   "cell_type": "code",
   "execution_count": 20,
   "outputs": [],
   "source": [
    "def compute_fnc():\n",
    "    print(\"inside computer_fnc\")\n",
    "    for x in range(10000000):\n",
    "        _ = pow(x, 2)\n",
    "    print(\"finished compute\")"
   ],
   "metadata": {
    "collapsed": false
   }
  },
  {
   "cell_type": "code",
   "execution_count": 21,
   "outputs": [
    {
     "name": "stdout",
     "output_type": "stream",
     "text": [
      "inside computer_fnc\n",
      "finished compute\n",
      "inside computer_fnc\n",
      "finished compute\n",
      "inside computer_fnc\n",
      "finished compute\n",
      "inside computer_fnc\n",
      "finished compute\n",
      "inside computer_fnc\n",
      "finished compute\n",
      "13.81\n"
     ]
    }
   ],
   "source": [
    "t1 = time.perf_counter()\n",
    "\n",
    "for _ in range(5):\n",
    "    compute_fnc()\n",
    "\n",
    "t2 = time.perf_counter()\n",
    "time_spent = t2 - t1\n",
    "print(round(time_spent, 2))"
   ],
   "metadata": {
    "collapsed": false
   }
  }
 ],
 "metadata": {
  "kernelspec": {
   "display_name": "Python 3",
   "language": "python",
   "name": "python3"
  },
  "language_info": {
   "codemirror_mode": {
    "name": "ipython",
    "version": 2
   },
   "file_extension": ".py",
   "mimetype": "text/x-python",
   "name": "python",
   "nbconvert_exporter": "python",
   "pygments_lexer": "ipython2",
   "version": "2.7.6"
  }
 },
 "nbformat": 4,
 "nbformat_minor": 0
}
