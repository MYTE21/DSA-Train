{
 "cells": [
  {
   "cell_type": "code",
   "execution_count": 1,
   "metadata": {
    "collapsed": true,
    "ExecuteTime": {
     "start_time": "2023-04-19T01:26:36.742786Z",
     "end_time": "2023-04-19T01:26:37.409938Z"
    }
   },
   "outputs": [
    {
     "name": "stdout",
     "output_type": "stream",
     "text": [
      "HTTP/1.1 200 OK\r\n",
      "keep-alive: timeout=5, max=100\r\n",
      "content-type: text/plain\r\n",
      "last-modified: Tue, 14 Sep 2021 13:18:41 GMT\r\n",
      "accept-ranges: bytes\r\n",
      "content-length: 84\r\n",
      "date: Tue, 18 Apr 2023 19:26:37 GMT\r\n",
      "server: LiteSpeed\r\n",
      "vary: User-Agent\r\n",
      "x-turbo-charged-by: LiteSpeed\r\n",
      "connection: close\r\n",
      "\r\n",
      "This is a text file.\n",
      "Congratulations for making a successful connection!\n",
      "Great job!!\n"
     ]
    }
   ],
   "source": [
    "import socket\n",
    "\n",
    "\n",
    "HOST = \"subeen.com\"\n",
    "PORT = 80\n",
    "\n",
    "s = socket.socket()\n",
    "s.connect((HOST, PORT))\n",
    "command = \"GET /files/a.txt HTTP/1.1\\nHost: subeen.com\\nConnection:close\\n\\n\"\n",
    "s.send(command.encode())\n",
    "\n",
    "while True:\n",
    "    data = s.recv(512)\n",
    "    if data == b\"\":\n",
    "        break\n",
    "    print(data.decode())\n",
    "\n",
    "s.close()"
   ]
  },
  {
   "cell_type": "code",
   "execution_count": 2,
   "outputs": [
    {
     "name": "stdout",
     "output_type": "stream",
     "text": [
      "Server is ready to receive requests!\n",
      "Client Address ('127.0.0.1', 1228)\n",
      "\n",
      "Request Data:\n",
      "GET / HTTP/1.1\r\n",
      "Host: localhost:8080\r\n",
      "Connection: keep-alive\r\n",
      "sec-ch-ua: \"Chromium\";v=\"112\", \"Google Chrome\";v=\"112\", \"Not:A-Brand\";v=\"99\"\r\n",
      "sec-ch-ua-mobile: ?0\r\n",
      "sec-ch-ua-platform: \"Windows\"\r\n",
      "Upgrade-Insecure-Requests: 1\r\n",
      "User-Agent: Mozilla/5.0 (Windows NT 10.0; Win64; x64) AppleWebKit/537.36 (KHTML, like Gecko) Chrome/112.0.0.0 Safari/537.36\r\n",
      "Accept: text/html,application/xhtml+xml,application/xml;q=0.9,image/avif,image/webp,image/apng,*/*;q=0.8,application/signed-exchange;v=b3;q=0.7\r\n",
      "Sec-Fetch-Site: none\r\n",
      "Sec-Fetch-Mode: navigate\r\n",
      "Sec-Fetch-User: ?1\r\n",
      "Sec-Fetch-Dest: document\r\n",
      "Accept-Encoding: gzip, deflate, br\r\n",
      "Accept-Language: en-US,en;q=0.9,bn-BD;q=0.8,bn;q=0.7\r\n",
      "Cookie: __RequestVerificationToken=A0eX8aVs4rlgptQyZOLo71wnL89O7VVLJXva_3_e9qzDylt1ZeuFZbaCQQAX8hLyhxrLB5yFhXDKitnaayhhfervRnjugzIMiuQluS3jrZo1; .AspNetCore.Antiforgery.DjLw96WFxcw=CfDJ8OjpPBrOe2dFgbY8AM9ZhTmCYpoMl1PboyGzvLpfpxM2EFEYaHCnL1KkI8LCDXH50mf96wfF06lpSkMrSslsHwRQlzkC1wbELq2X-Valt_59ZnIKHghjQ_0trkISsBwCjnALPJIQlZ6NOEPSk_o4HIo; _xsrf=2|d\n",
      "Server is ready to receive requests!\n",
      "Client Address ('127.0.0.1', 1229)\n",
      "\n",
      "Request Data:\n",
      "GET /favicon.ico HTTP/1.1\r\n",
      "Host: localhost:8080\r\n",
      "Connection: keep-alive\r\n",
      "sec-ch-ua: \"Chromium\";v=\"112\", \"Google Chrome\";v=\"112\", \"Not:A-Brand\";v=\"99\"\r\n",
      "sec-ch-ua-mobile: ?0\r\n",
      "User-Agent: Mozilla/5.0 (Windows NT 10.0; Win64; x64) AppleWebKit/537.36 (KHTML, like Gecko) Chrome/112.0.0.0 Safari/537.36\r\n",
      "sec-ch-ua-platform: \"Windows\"\r\n",
      "Accept: image/avif,image/webp,image/apng,image/svg+xml,image/*,*/*;q=0.8\r\n",
      "Sec-Fetch-Site: same-origin\r\n",
      "Sec-Fetch-Mode: no-cors\r\n",
      "Sec-Fetch-Dest: image\r\n",
      "Referer: http://localhost:8080/\r\n",
      "Accept-Encoding: gzip, deflate, br\r\n",
      "Accept-Language: en-US,en;q=0.9,bn-BD;q=0.8,bn;q=0.7\r\n",
      "Cookie: __RequestVerificationToken=A0eX8aVs4rlgptQyZOLo71wnL89O7VVLJXva_3_e9qzDylt1ZeuFZbaCQQAX8hLyhxrLB5yFhXDKitnaayhhfervRnjugzIMiuQluS3jrZo1; .AspNetCore.Antiforgery.DjLw96WFxcw=CfDJ8OjpPBrOe2dFgbY8AM9ZhTmCYpoMl1PboyGzvLpfpxM2EFEYaHCnL1KkI8LCDXH50mf96wfF06lpSkMrSslsHwRQlzkC1wbELq2X-Valt_59ZnIKHghjQ_0trkISsBwCjnALPJIQlZ6NOEPSk_o4HIo; _xsrf=2|dd1dbbcc|dfb439270375aa1580150b81eb581219|1681844873\r\n",
      "\r\n",
      "\n",
      "Server is ready to receive requests!\n",
      "Client Address ('127.0.0.1', 1230)\n"
     ]
    },
    {
     "ename": "KeyboardInterrupt",
     "evalue": "",
     "output_type": "error",
     "traceback": [
      "\u001B[1;31m---------------------------------------------------------------------------\u001B[0m",
      "\u001B[1;31mKeyboardInterrupt\u001B[0m                         Traceback (most recent call last)",
      "Cell \u001B[1;32mIn[2], line 20\u001B[0m\n\u001B[0;32m     18\u001B[0m client_socket, address \u001B[38;5;241m=\u001B[39m server_socket\u001B[38;5;241m.\u001B[39maccept()\n\u001B[0;32m     19\u001B[0m \u001B[38;5;28mprint\u001B[39m(\u001B[38;5;124m\"\u001B[39m\u001B[38;5;124mClient Address\u001B[39m\u001B[38;5;124m\"\u001B[39m, address)\n\u001B[1;32m---> 20\u001B[0m request_data \u001B[38;5;241m=\u001B[39m \u001B[43mclient_socket\u001B[49m\u001B[38;5;241;43m.\u001B[39;49m\u001B[43mrecv\u001B[49m\u001B[43m(\u001B[49m\u001B[38;5;241;43m1024\u001B[39;49m\u001B[43m)\u001B[49m\n\u001B[0;32m     21\u001B[0m request_data \u001B[38;5;241m=\u001B[39m request_data\u001B[38;5;241m.\u001B[39mdecode()\n\u001B[0;32m     22\u001B[0m \u001B[38;5;28mprint\u001B[39m()\n",
      "\u001B[1;31mKeyboardInterrupt\u001B[0m: "
     ]
    }
   ],
   "source": [
    "from socket import *\n",
    "\n",
    "\n",
    "HOST = \"localhost\"\n",
    "PORT = 8080\n",
    "\n",
    "server_socket = socket(AF_INET, SOCK_STREAM)\n",
    "server_socket.bind((\"localhost\", 8080))\n",
    "server_socket.listen(5)\n",
    "\n",
    "try:\n",
    "    server_socket = socket(AF_INET, SOCK_STREAM)\n",
    "    server_socket.bind((HOST, PORT))\n",
    "    server_socket.listen(5)\n",
    "\n",
    "    while True:\n",
    "        print(\"Server is ready to receive requests!\")\n",
    "        client_socket, address = server_socket.accept()\n",
    "        print(\"Client Address\", address)\n",
    "        request_data = client_socket.recv(1024)\n",
    "        request_data = request_data.decode()\n",
    "        print()\n",
    "        print(\"Request Data:\")\n",
    "        print(request_data)\n",
    "\n",
    "        response_data = \"HTTP/1.1 200 OK\\r\\n\"\n",
    "        response_data += \"Content-Type: text/html; charset=utf-8\\r\\n\\r\\n\"\n",
    "        response_data += \"<html><body><h1>Hello World!</h1></body></html>\\r\\n\\r\\n\"\n",
    "        response_data = response_data.encode()\n",
    "\n",
    "        client_socket.sendall(response_data)\n",
    "        client_socket.shutdown(SHUT_WR)\n",
    "except Exception as e:\n",
    "    print(e)"
   ],
   "metadata": {
    "collapsed": false,
    "ExecuteTime": {
     "start_time": "2023-04-19T01:06:57.172157Z",
     "end_time": "2023-04-19T01:06:57.197828Z"
    }
   }
  },
  {
   "cell_type": "code",
   "execution_count": 2,
   "outputs": [
    {
     "name": "stdout",
     "output_type": "stream",
     "text": [
      "Server loop running in thread:  Thread-5 (serve_forever)\n",
      "Received: Thread-6 (process_request_thread): Hello World 1\n",
      "Received: Thread-7 (process_request_thread): Hello World 2\n",
      "Received: Thread-8 (process_request_thread): Hello World 3\n"
     ]
    }
   ],
   "source": [
    "import socket\n",
    "import threading\n",
    "import socketserver\n",
    "\n",
    "\n",
    "class ThreadedTCPRequestHandler(socketserver.BaseRequestHandler):\n",
    "    def handle(self):\n",
    "        data = str(self.request.recv(1024), \"ascii\")\n",
    "        cur_thread = threading.current_thread()\n",
    "        response = bytes(\"{}: {}\".format(cur_thread.name, data), \"ascii\")\n",
    "        self.request.sendall(response)\n",
    "\n",
    "\n",
    "class ThreadedTCPServer(socketserver.ThreadingMixIn, socketserver.TCPServer):\n",
    "    pass\n",
    "\n",
    "\n",
    "def client(ip, port, message):\n",
    "    with socket.socket(socket.AF_INET, socket.SOCK_STREAM) as sock:\n",
    "        sock.connect((ip, port))\n",
    "        sock.sendall(bytes(message, \"ascii\"))\n",
    "        response = str(sock.recv(1024), \"ascii\")\n",
    "        print(\"Received: {}\".format(response))\n",
    "\n",
    "\n",
    "if __name__ == \"__main__\":\n",
    "    # Port 0 means to select an arbitrary unused port\n",
    "    HOST, PORT = \"localhost\", 0\n",
    "\n",
    "    server = ThreadedTCPServer((HOST, PORT), ThreadedTCPRequestHandler)\n",
    "\n",
    "    with server:\n",
    "        ip, port = server.server_address\n",
    "\n",
    "        # Start a thread with the server\n",
    "        # that thread will then start one\n",
    "        # more thread for each request\n",
    "        server_thread = threading.Thread(target = server.serve_forever)\n",
    "\n",
    "        # Exit the server thread when the main thread terminates\n",
    "        server_thread.daemon = True\n",
    "        server_thread.start()\n",
    "        print(\"Server loop running in thread: \", server_thread.name)\n",
    "\n",
    "        client(ip, port, \"Hello World 1\")\n",
    "        client(ip, port, \"Hello World 2\")\n",
    "        client(ip, port, \"Hello World 3\")\n",
    "\n",
    "        server.shutdown()"
   ],
   "metadata": {
    "collapsed": false,
    "ExecuteTime": {
     "start_time": "2023-04-19T14:09:55.808484Z",
     "end_time": "2023-04-19T14:09:56.350698Z"
    }
   }
  }
 ],
 "metadata": {
  "kernelspec": {
   "display_name": "Python 3",
   "language": "python",
   "name": "python3"
  },
  "language_info": {
   "codemirror_mode": {
    "name": "ipython",
    "version": 2
   },
   "file_extension": ".py",
   "mimetype": "text/x-python",
   "name": "python",
   "nbconvert_exporter": "python",
   "pygments_lexer": "ipython2",
   "version": "2.7.6"
  }
 },
 "nbformat": 4,
 "nbformat_minor": 0
}
