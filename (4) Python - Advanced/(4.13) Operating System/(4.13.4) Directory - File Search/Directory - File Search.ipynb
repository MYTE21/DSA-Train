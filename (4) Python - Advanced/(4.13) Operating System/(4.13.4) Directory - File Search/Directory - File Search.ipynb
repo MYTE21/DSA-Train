{
 "cells": [
  {
   "cell_type": "code",
   "execution_count": 1,
   "metadata": {
    "collapsed": true
   },
   "outputs": [],
   "source": [
    "import glob"
   ]
  },
  {
   "cell_type": "code",
   "execution_count": 8,
   "outputs": [],
   "source": [
    "file_list = glob.glob(\"../../(4.8) Type Hinting/*\")"
   ],
   "metadata": {
    "collapsed": false
   }
  },
  {
   "cell_type": "code",
   "execution_count": 9,
   "outputs": [
    {
     "name": "stdout",
     "output_type": "stream",
     "text": [
      "['../../(4.8) Type Hinting\\\\hello.py', '../../(4.8) Type Hinting\\\\Type  Hinting.ipynb']\n",
      "Total 2 files fount\n"
     ]
    }
   ],
   "source": [
    "print(file_list)\n",
    "print(\"Total\", len(file_list), \"files fount\")"
   ],
   "metadata": {
    "collapsed": false
   }
  },
  {
   "cell_type": "code",
   "execution_count": 10,
   "outputs": [],
   "source": [
    "file_list = glob.glob(\"../../(4.8) Type Hinting/*.py\")"
   ],
   "metadata": {
    "collapsed": false
   }
  },
  {
   "cell_type": "code",
   "execution_count": 11,
   "outputs": [
    {
     "name": "stdout",
     "output_type": "stream",
     "text": [
      "['../../(4.8) Type Hinting\\\\hello.py']\n",
      "Total 1 files fount\n"
     ]
    }
   ],
   "source": [
    "print(file_list)\n",
    "print(\"Total\", len(file_list), \"files fount\")"
   ],
   "metadata": {
    "collapsed": false
   }
  },
  {
   "cell_type": "code",
   "execution_count": 12,
   "outputs": [
    {
     "name": "stdout",
     "output_type": "stream",
     "text": [
      "['../..\\\\(4.12) Multi-Threading and Multi-Processing\\\\(4.12.2) Multi-Processing\\\\Multi-Processing.py', '../..\\\\(4.5) Python Library Function\\\\sample.py', '../..\\\\(4.8) Type Hinting\\\\hello.py']\n",
      "Total 3 files fount\n"
     ]
    }
   ],
   "source": [
    "import glob\n",
    "\n",
    "\n",
    "file_list = glob.glob(\"../../**/*.py\", recursive=True)\n",
    "\n",
    "print(file_list)\n",
    "print(\"Total\", len(file_list), \"files fount\")"
   ],
   "metadata": {
    "collapsed": false
   }
  }
 ],
 "metadata": {
  "kernelspec": {
   "display_name": "Python 3",
   "language": "python",
   "name": "python3"
  },
  "language_info": {
   "codemirror_mode": {
    "name": "ipython",
    "version": 2
   },
   "file_extension": ".py",
   "mimetype": "text/x-python",
   "name": "python",
   "nbconvert_exporter": "python",
   "pygments_lexer": "ipython2",
   "version": "2.7.6"
  }
 },
 "nbformat": 4,
 "nbformat_minor": 0
}
