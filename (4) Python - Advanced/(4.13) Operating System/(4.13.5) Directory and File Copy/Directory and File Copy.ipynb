{
 "cells": [
  {
   "cell_type": "code",
   "execution_count": 1,
   "metadata": {
    "collapsed": true
   },
   "outputs": [],
   "source": [
    "import shutil"
   ]
  },
  {
   "cell_type": "code",
   "execution_count": 3,
   "outputs": [],
   "source": [
    "source_directory = \"D:\\SQLite Practice\"\n",
    "destination_directory = \"D:\\SQLite Practice Copy\""
   ],
   "metadata": {
    "collapsed": false
   }
  },
  {
   "cell_type": "code",
   "execution_count": 4,
   "outputs": [],
   "source": [
    "try:\n",
    "    shutil.copytree(source_directory, destination_directory)\n",
    "except FileExistsError as error:\n",
    "    print(error)\n",
    "except:\n",
    "    print(\"Unknown error - terminating program\")\n",
    "    raise"
   ],
   "metadata": {
    "collapsed": false
   }
  },
  {
   "cell_type": "markdown",
   "source": [
    "Ignoring any file"
   ],
   "metadata": {
    "collapsed": false
   }
  },
  {
   "cell_type": "code",
   "execution_count": 5,
   "outputs": [],
   "source": [
    "try:\n",
    "    shutil.copytree(source_directory, destination_directory,\n",
    "                    ignore=shutil.ignore_patterns(\"*.py\"))\n",
    "except FileExistsError as error:\n",
    "    print(error)\n",
    "except:\n",
    "    print(\"Unknown error - terminating program\")\n",
    "    raise"
   ],
   "metadata": {
    "collapsed": false
   }
  }
 ],
 "metadata": {
  "kernelspec": {
   "display_name": "Python 3",
   "language": "python",
   "name": "python3"
  },
  "language_info": {
   "codemirror_mode": {
    "name": "ipython",
    "version": 2
   },
   "file_extension": ".py",
   "mimetype": "text/x-python",
   "name": "python",
   "nbconvert_exporter": "python",
   "pygments_lexer": "ipython2",
   "version": "2.7.6"
  }
 },
 "nbformat": 4,
 "nbformat_minor": 0
}
