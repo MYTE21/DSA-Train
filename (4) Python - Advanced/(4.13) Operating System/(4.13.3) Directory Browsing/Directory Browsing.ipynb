{
 "cells": [
  {
   "cell_type": "code",
   "execution_count": 1,
   "metadata": {
    "collapsed": true
   },
   "outputs": [],
   "source": [
    "import os"
   ]
  },
  {
   "cell_type": "code",
   "execution_count": 2,
   "outputs": [],
   "source": [
    "def get_files_and_directories(path):\n",
    "    files = []\n",
    "    dirs = []\n",
    "\n",
    "    with os.scandir(path) as it:\n",
    "        for entry in it:\n",
    "            if entry.name.startswith(\".\"):\n",
    "                continue\n",
    "            if entry.is_dir():\n",
    "                dirs.append(entry.path)\n",
    "            elif entry.is_file():\n",
    "                files.append(entry.path)\n",
    "\n",
    "    return files, dirs"
   ],
   "metadata": {
    "collapsed": false
   }
  },
  {
   "cell_type": "code",
   "execution_count": 7,
   "outputs": [],
   "source": [
    "files, dirs = get_files_and_directories(\"../../../../DSA.Train\")"
   ],
   "metadata": {
    "collapsed": false
   }
  },
  {
   "cell_type": "code",
   "execution_count": 9,
   "outputs": [
    {
     "name": "stdout",
     "output_type": "stream",
     "text": [
      "Files: ['../../../../DSA.Train\\\\LICENSE', '../../../../DSA.Train\\\\README.md', '../../../../DSA.Train\\\\requirements.txt']\n"
     ]
    }
   ],
   "source": [
    "print(\"Files:\", files)"
   ],
   "metadata": {
    "collapsed": false
   }
  },
  {
   "cell_type": "code",
   "execution_count": 10,
   "outputs": [
    {
     "name": "stdout",
     "output_type": "stream",
     "text": [
      "Directories: ['../../../../DSA.Train\\\\(3) Python - Data Structures and Algorithms', '../../../../DSA.Train\\\\(4) Python - Advanced', '../../../../DSA.Train\\\\assets', '../../../../DSA.Train\\\\venv']\n"
     ]
    }
   ],
   "source": [
    "print(\"Directories:\", dirs)"
   ],
   "metadata": {
    "collapsed": false
   }
  },
  {
   "cell_type": "code",
   "execution_count": 11,
   "outputs": [],
   "source": [
    "def traverse_dir(path):\n",
    "    all_files = []\n",
    "    all_dirs = [path]\n",
    "\n",
    "    while len(all_dirs) > 0:\n",
    "        d = all_dirs.pop()\n",
    "        print(\"Traversing Directory: \", d)\n",
    "        files, dirs = get_files_and_directories(d)\n",
    "        all_files.extend(files)\n",
    "        all_dirs.extend(dirs)\n",
    "\n",
    "    return all_files"
   ],
   "metadata": {
    "collapsed": false
   }
  },
  {
   "cell_type": "code",
   "execution_count": 15,
   "outputs": [
    {
     "name": "stdout",
     "output_type": "stream",
     "text": [
      "Traversing Directory:  ../../../(4) Python - Advanced\n",
      "Traversing Directory:  ../../../(4) Python - Advanced\\(4.9) More Object Oriented Programming\n",
      "Traversing Directory:  ../../../(4) Python - Advanced\\(4.9) More Object Oriented Programming\\(4.9.8) Composition\n",
      "Traversing Directory:  ../../../(4) Python - Advanced\\(4.9) More Object Oriented Programming\\(4.9.7) Mixin\n",
      "Traversing Directory:  ../../../(4) Python - Advanced\\(4.9) More Object Oriented Programming\\(4.9.6) Multiple Inheritance\n",
      "Traversing Directory:  ../../../(4) Python - Advanced\\(4.9) More Object Oriented Programming\\(4.9.5) Data Class\n",
      "Traversing Directory:  ../../../(4) Python - Advanced\\(4.9) More Object Oriented Programming\\(4.9.4) Static Method and Class Method\n",
      "Traversing Directory:  ../../../(4) Python - Advanced\\(4.9) More Object Oriented Programming\\(4.9.3) Abstract Class\n",
      "Traversing Directory:  ../../../(4) Python - Advanced\\(4.9) More Object Oriented Programming\\(4.9.2) Property Decorator\n",
      "Traversing Directory:  ../../../(4) Python - Advanced\\(4.9) More Object Oriented Programming\\(4.9.1) Magic Methods\n",
      "Traversing Directory:  ../../../(4) Python - Advanced\\(4.8) Type Hinting\n",
      "Traversing Directory:  ../../../(4) Python - Advanced\\(4.7) bisect Module\n",
      "Traversing Directory:  ../../../(4) Python - Advanced\\(4.6) Python and Unicode\n",
      "Traversing Directory:  ../../../(4) Python - Advanced\\(4.5) Python Library Function\n",
      "Traversing Directory:  ../../../(4) Python - Advanced\\(4.4) Sorting\n",
      "Traversing Directory:  ../../../(4) Python - Advanced\\(4.3) Decorator\n",
      "Traversing Directory:  ../../../(4) Python - Advanced\\(4.2) Function - Advanced\n",
      "Traversing Directory:  ../../../(4) Python - Advanced\\(4.2) Function - Advanced\\(4.2.8) args and kwargs\n",
      "Traversing Directory:  ../../../(4) Python - Advanced\\(4.2) Function - Advanced\\(4.2.7) Function Arguments\n",
      "Traversing Directory:  ../../../(4) Python - Advanced\\(4.2) Function - Advanced\\(4.2.6) Lambda\n",
      "Traversing Directory:  ../../../(4) Python - Advanced\\(4.2) Function - Advanced\\(4.2.5) Closure\n",
      "Traversing Directory:  ../../../(4) Python - Advanced\\(4.2) Function - Advanced\\(4.2.4) Function Return\n",
      "Traversing Directory:  ../../../(4) Python - Advanced\\(4.2) Function - Advanced\\(4.2.3) Nonlocal\n",
      "Traversing Directory:  ../../../(4) Python - Advanced\\(4.2) Function - Advanced\\(4.2.2) Function Inside Function\n",
      "Traversing Directory:  ../../../(4) Python - Advanced\\(4.2) Function - Advanced\\(4.2.1) Function itself is an object\n",
      "Traversing Directory:  ../../../(4) Python - Advanced\\(4.13) Operating System\n",
      "Traversing Directory:  ../../../(4) Python - Advanced\\(4.13) Operating System\\(4.13.3) Directory Browsing\n",
      "Traversing Directory:  ../../../(4) Python - Advanced\\(4.13) Operating System\\(4.13.2) Directory Create\n",
      "Traversing Directory:  ../../../(4) Python - Advanced\\(4.13) Operating System\\(4.13.1) os Module\n",
      "Traversing Directory:  ../../../(4) Python - Advanced\\(4.12) Multi-Threading and Multi-Processing\n",
      "Traversing Directory:  ../../../(4) Python - Advanced\\(4.12) Multi-Threading and Multi-Processing\\(4.12.2) Multi-Processing\n",
      "Traversing Directory:  ../../../(4) Python - Advanced\\(4.12) Multi-Threading and Multi-Processing\\(4.12.1) Multi-Threading\n",
      "Traversing Directory:  ../../../(4) Python - Advanced\\(4.11) More Data Structure\n",
      "Traversing Directory:  ../../../(4) Python - Advanced\\(4.11) More Data Structure\\(4.11.4) Heap and Priority Queue\n",
      "Traversing Directory:  ../../../(4) Python - Advanced\\(4.11) More Data Structure\\(4.11.4) Heap and Priority Queue\\(4.11.4.2) Priority Queue\n",
      "Traversing Directory:  ../../../(4) Python - Advanced\\(4.11) More Data Structure\\(4.11.4) Heap and Priority Queue\\(4.11.4.1) Heap\n",
      "Traversing Directory:  ../../../(4) Python - Advanced\\(4.11) More Data Structure\\(4.11.3) Deque\n",
      "Traversing Directory:  ../../../(4) Python - Advanced\\(4.11) More Data Structure\\(4.11.2) defaultdict and Counter\n",
      "Traversing Directory:  ../../../(4) Python - Advanced\\(4.11) More Data Structure\\(4.11.2) defaultdict and Counter\\(4.11.2.2) Counter\n",
      "Traversing Directory:  ../../../(4) Python - Advanced\\(4.11) More Data Structure\\(4.11.2) defaultdict and Counter\\(4.11.2.1) defaultdict\n",
      "Traversing Directory:  ../../../(4) Python - Advanced\\(4.11) More Data Structure\\(4.11.1) Array\n",
      "Traversing Directory:  ../../../(4) Python - Advanced\\(4.10) Database\n",
      "Traversing Directory:  ../../../(4) Python - Advanced\\(4.10) Database\\(4.10.2) Store Password - Database\n",
      "Traversing Directory:  ../../../(4) Python - Advanced\\(4.10) Database\\(4.10.1) Database\n",
      "Traversing Directory:  ../../../(4) Python - Advanced\\(4.1) Iterator & Generator\n",
      "Traversing Directory:  ../../../(4) Python - Advanced\\(4.1) Iterator & Generator\\(4.1.3) Generator\n",
      "Traversing Directory:  ../../../(4) Python - Advanced\\(4.1) Iterator & Generator\\(4.1.2) Iterator\n",
      "Traversing Directory:  ../../../(4) Python - Advanced\\(4.1) Iterator & Generator\\(4.1.2) Iterator\\Exercises Solution\n",
      "Traversing Directory:  ../../../(4) Python - Advanced\\(4.1) Iterator & Generator\\(4.1.1) Container\n",
      "All Files: ['../../../(4) Python - Advanced\\\\(4.9) More Object Oriented Programming\\\\(4.9.8) Composition\\\\Composition.ipynb', '../../../(4) Python - Advanced\\\\(4.9) More Object Oriented Programming\\\\(4.9.7) Mixin\\\\Mixin.ipynb', '../../../(4) Python - Advanced\\\\(4.9) More Object Oriented Programming\\\\(4.9.6) Multiple Inheritance\\\\Multiple Inheritance.ipynb', '../../../(4) Python - Advanced\\\\(4.9) More Object Oriented Programming\\\\(4.9.5) Data Class\\\\Data Class.ipynb', '../../../(4) Python - Advanced\\\\(4.9) More Object Oriented Programming\\\\(4.9.4) Static Method and Class Method\\\\Static Method and  Class  Method.ipynb', '../../../(4) Python - Advanced\\\\(4.9) More Object Oriented Programming\\\\(4.9.3) Abstract Class\\\\Abstract Class.ipynb', '../../../(4) Python - Advanced\\\\(4.9) More Object Oriented Programming\\\\(4.9.2) Property Decorator\\\\Property Decorator.ipynb', '../../../(4) Python - Advanced\\\\(4.9) More Object Oriented Programming\\\\(4.9.1) Magic Methods\\\\Magic Methods.ipynb', '../../../(4) Python - Advanced\\\\(4.8) Type Hinting\\\\hello.py', '../../../(4) Python - Advanced\\\\(4.8) Type Hinting\\\\Type  Hinting.ipynb', '../../../(4) Python - Advanced\\\\(4.7) bisect Module\\\\bisect Module.ipynb', '../../../(4) Python - Advanced\\\\(4.6) Python and Unicode\\\\Python and Unicode.ipynb', '../../../(4) Python - Advanced\\\\(4.5) Python Library Function\\\\Python Library Function.ipynb', '../../../(4) Python - Advanced\\\\(4.5) Python Library Function\\\\sample.py', '../../../(4) Python - Advanced\\\\(4.4) Sorting\\\\Sorting.ipynb', '../../../(4) Python - Advanced\\\\(4.3) Decorator\\\\Decorator.ipynb', '../../../(4) Python - Advanced\\\\(4.2) Function - Advanced\\\\(4.2.8) args and kwargs\\\\args and kwargs.ipynb', '../../../(4) Python - Advanced\\\\(4.2) Function - Advanced\\\\(4.2.7) Function Arguments\\\\Function Arguments.ipynb', '../../../(4) Python - Advanced\\\\(4.2) Function - Advanced\\\\(4.2.6) Lambda\\\\Lambda.ipynb', '../../../(4) Python - Advanced\\\\(4.2) Function - Advanced\\\\(4.2.5) Closure\\\\Closure.ipynb', '../../../(4) Python - Advanced\\\\(4.2) Function - Advanced\\\\(4.2.4) Function Return\\\\Function Return.ipynb', '../../../(4) Python - Advanced\\\\(4.2) Function - Advanced\\\\(4.2.3) Nonlocal\\\\Nonlocal.ipynb', '../../../(4) Python - Advanced\\\\(4.2) Function - Advanced\\\\(4.2.2) Function Inside Function\\\\Function Inside Function.ipynb', '../../../(4) Python - Advanced\\\\(4.2) Function - Advanced\\\\(4.2.1) Function itself is an object\\\\Function Object.ipynb', '../../../(4) Python - Advanced\\\\(4.13) Operating System\\\\(4.13.3) Directory Browsing\\\\Directory Browsing.ipynb', '../../../(4) Python - Advanced\\\\(4.13) Operating System\\\\(4.13.2) Directory Create\\\\Directory Create.ipynb', '../../../(4) Python - Advanced\\\\(4.13) Operating System\\\\(4.13.1) os Module\\\\os Module.ipynb', '../../../(4) Python - Advanced\\\\(4.12) Multi-Threading and Multi-Processing\\\\(4.12.2) Multi-Processing\\\\Multi-Processing.py', '../../../(4) Python - Advanced\\\\(4.12) Multi-Threading and Multi-Processing\\\\(4.12.1) Multi-Threading\\\\Multi-Threading.ipynb', '../../../(4) Python - Advanced\\\\(4.11) More Data Structure\\\\(4.11.4) Heap and Priority Queue\\\\(4.11.4.2) Priority Queue\\\\Priority Queue.ipynb', '../../../(4) Python - Advanced\\\\(4.11) More Data Structure\\\\(4.11.4) Heap and Priority Queue\\\\(4.11.4.1) Heap\\\\Heap.ipynb', '../../../(4) Python - Advanced\\\\(4.11) More Data Structure\\\\(4.11.3) Deque\\\\Deque.ipynb', '../../../(4) Python - Advanced\\\\(4.11) More Data Structure\\\\(4.11.2) defaultdict and Counter\\\\(4.11.2.2) Counter\\\\Counter.ipynb', '../../../(4) Python - Advanced\\\\(4.11) More Data Structure\\\\(4.11.2) defaultdict and Counter\\\\(4.11.2.1) defaultdict\\\\defaultdict.ipynb', '../../../(4) Python - Advanced\\\\(4.11) More Data Structure\\\\(4.11.1) Array\\\\Array.ipynb', '../../../(4) Python - Advanced\\\\(4.10) Database\\\\(4.10.2) Store Password - Database\\\\Store Password - Database.ipynb', '../../../(4) Python - Advanced\\\\(4.10) Database\\\\(4.10.1) Database\\\\Database.ipynb', '../../../(4) Python - Advanced\\\\(4.1) Iterator & Generator\\\\(4.1.3) Generator\\\\Generator.ipynb', '../../../(4) Python - Advanced\\\\(4.1) Iterator & Generator\\\\(4.1.2) Iterator\\\\Iterator.ipynb', '../../../(4) Python - Advanced\\\\(4.1) Iterator & Generator\\\\(4.1.2) Iterator\\\\Exercises Solution\\\\(1) My Range.ipynb', '../../../(4) Python - Advanced\\\\(4.1) Iterator & Generator\\\\(4.1.2) Iterator\\\\Exercises Solution\\\\(2) Sum Arguments.ipynb', '../../../(4) Python - Advanced\\\\(4.1) Iterator & Generator\\\\(4.1.1) Container\\\\Container.ipynb']\n"
     ]
    }
   ],
   "source": [
    "if __name__ == \"__main__\":\n",
    "    path = \"../../../(4) Python - Advanced\"\n",
    "    files = traverse_dir(path)\n",
    "    print(\"All Files:\", files)"
   ],
   "metadata": {
    "collapsed": false
   }
  }
 ],
 "metadata": {
  "kernelspec": {
   "display_name": "Python 3",
   "language": "python",
   "name": "python3"
  },
  "language_info": {
   "codemirror_mode": {
    "name": "ipython",
    "version": 2
   },
   "file_extension": ".py",
   "mimetype": "text/x-python",
   "name": "python",
   "nbconvert_exporter": "python",
   "pygments_lexer": "ipython2",
   "version": "2.7.6"
  }
 },
 "nbformat": 4,
 "nbformat_minor": 0
}
