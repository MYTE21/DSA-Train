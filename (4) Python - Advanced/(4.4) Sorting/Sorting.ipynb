{
 "cells": [
  {
   "cell_type": "code",
   "execution_count": 1,
   "outputs": [
    {
     "name": "stdout",
     "output_type": "stream",
     "text": [
      "[1, 2, 3, 3, 4, 5, 6]\n"
     ]
    }
   ],
   "source": [
    "li = [1, 3, 4, 5, 6, 2, 3]\n",
    "li.sort()\n",
    "print(li)"
   ],
   "metadata": {
    "collapsed": false
   }
  },
  {
   "cell_type": "code",
   "execution_count": 2,
   "outputs": [
    {
     "name": "stdout",
     "output_type": "stream",
     "text": [
      "[6, 5, 4, 3, 3, 2, 1]\n"
     ]
    }
   ],
   "source": [
    "li = [1, 3, 4, 5, 6, 2, 3]\n",
    "li.sort(reverse=True)\n",
    "print(li)"
   ],
   "metadata": {
    "collapsed": false
   }
  },
  {
   "cell_type": "code",
   "execution_count": 3,
   "outputs": [
    {
     "name": "stdout",
     "output_type": "stream",
     "text": [
      "['Australia', 'Bangladesh', 'Canada', 'Japan', 'Singapore']\n"
     ]
    }
   ],
   "source": [
    "countries = [\"Bangladesh\", \"Japan\", \"Australia\", \"Canada\", \"Singapore\"]\n",
    "countries.sort()\n",
    "print(countries)"
   ],
   "metadata": {
    "collapsed": false
   }
  },
  {
   "cell_type": "code",
   "execution_count": 5,
   "outputs": [
    {
     "name": "stdout",
     "output_type": "stream",
     "text": [
      "nums: [1, 2, 3, 3, 4, 5, 6]\n",
      "li: [1, 3, 4, 5, 6, 2, 3]\n"
     ]
    }
   ],
   "source": [
    "li = [1, 3, 4, 5, 6, 2, 3]\n",
    "nums = sorted(li)\n",
    "print(\"nums:\", nums)\n",
    "print(\"li:\", li)"
   ],
   "metadata": {
    "collapsed": false
   }
  },
  {
   "cell_type": "code",
   "execution_count": 6,
   "outputs": [
    {
     "name": "stdout",
     "output_type": "stream",
     "text": [
      "result: [1, 2, 2, 4, 6, 8]\n",
      "tpl: (2, 8, 1, 4, 6, 2)\n"
     ]
    }
   ],
   "source": [
    "tpl = (2, 8, 1, 4, 6, 2)\n",
    "result = sorted(tpl)\n",
    "print(\"result:\", result)\n",
    "print(\"tpl:\", tpl)"
   ],
   "metadata": {
    "collapsed": false
   }
  },
  {
   "cell_type": "code",
   "execution_count": 27,
   "outputs": [
    {
     "name": "stdout",
     "output_type": "stream",
     "text": [
      "[('apple', 3), ('banana', 2), ('guava', 5), ('mango', 10), ('orange', 3)]\n"
     ]
    }
   ],
   "source": [
    "fruits = [(\"orange\", 3), (\"apple\", 3), (\"banana\", 2), (\"mango\", 10), (\"guava\", 5)]\n",
    "print(sorted(fruits))"
   ],
   "metadata": {
    "collapsed": false,
    "pycharm": {
     "name": "#%%\")\n"
    }
   }
  },
  {
   "cell_type": "code",
   "execution_count": 29,
   "outputs": [
    {
     "name": "stdout",
     "output_type": "stream",
     "text": [
      "[('banana', 2), ('orange', 3), ('apple', 3), ('guava', 5), ('mango', 10)]\n"
     ]
    }
   ],
   "source": [
    "def compare_fnc(item):\n",
    "    return item[1]\n",
    "\n",
    "\n",
    "fruits = [(\"orange\", 3), (\"apple\", 3), (\"banana\", 2), (\"mango\", 10), (\"guava\", 5)]\n",
    "print(sorted(fruits, key=compare_fnc))"
   ],
   "metadata": {
    "collapsed": false
   }
  },
  {
   "cell_type": "code",
   "execution_count": 31,
   "outputs": [
    {
     "name": "stdout",
     "output_type": "stream",
     "text": [
      "[('mango', 10), ('guava', 5), ('orange', 3), ('apple', 3), ('banana', 2)]\n"
     ]
    }
   ],
   "source": [
    "fruits = [(\"orange\", 3), (\"apple\", 3), (\"banana\", 2), (\"mango\", 10), (\"guava\", 5)]\n",
    "print(sorted(fruits, key=compare_fnc, reverse=True))"
   ],
   "metadata": {
    "collapsed": false
   }
  },
  {
   "cell_type": "code",
   "execution_count": 30,
   "outputs": [
    {
     "name": "stdout",
     "output_type": "stream",
     "text": [
      "[('banana', 2), ('orange', 3), ('apple', 3), ('guava', 5), ('mango', 10)]\n"
     ]
    }
   ],
   "source": [
    "from operator import itemgetter\n",
    "\n",
    "\n",
    "fruits = [(\"orange\", 3), (\"apple\", 3), (\"banana\", 2), (\"mango\", 10), (\"guava\", 5)]\n",
    "print(sorted(fruits, key=itemgetter(1)))"
   ],
   "metadata": {
    "collapsed": false
   }
  },
  {
   "cell_type": "code",
   "execution_count": 32,
   "outputs": [
    {
     "name": "stdout",
     "output_type": "stream",
     "text": [
      "[('banana', 2), ('apple', 3), ('orange', 3), ('guava', 5), ('mango', 10)]\n"
     ]
    }
   ],
   "source": [
    "fruits = [(\"orange\", 3), (\"apple\", 3), (\"banana\", 2), (\"mango\", 10), (\"guava\", 5)]\n",
    "print(sorted(fruits, key=itemgetter(1, 0)))"
   ],
   "metadata": {
    "collapsed": false
   }
  },
  {
   "cell_type": "code",
   "execution_count": 33,
   "outputs": [
    {
     "name": "stdout",
     "output_type": "stream",
     "text": [
      "[('orange', 3), ('apple', 3), ('banana', 2), ('mango', 10), ('guava', 5)]\n",
      "[('apple', 3), ('banana', 2), ('guava', 5), ('mango', 10), ('orange', 3)]\n",
      "[('mango', 10), ('guava', 5), ('apple', 3), ('orange', 3), ('banana', 2)]\n"
     ]
    }
   ],
   "source": [
    "fruits = [(\"orange\", 3), (\"apple\", 3), (\"banana\", 2), (\"mango\", 10), (\"guava\", 5)]\n",
    "print(fruits)\n",
    "\n",
    "fruits = sorted(fruits, key=itemgetter(0))\n",
    "print(fruits)\n",
    "\n",
    "fruits = sorted(fruits, key=itemgetter(1), reverse=True)\n",
    "print(fruits)"
   ],
   "metadata": {
    "collapsed": false
   }
  }
 ],
 "metadata": {
  "kernelspec": {
   "display_name": "Python 3",
   "language": "python",
   "name": "python3"
  },
  "language_info": {
   "codemirror_mode": {
    "name": "ipython",
    "version": 2
   },
   "file_extension": ".py",
   "mimetype": "text/x-python",
   "name": "python",
   "nbconvert_exporter": "python",
   "pygments_lexer": "ipython2",
   "version": "2.7.6"
  }
 },
 "nbformat": 4,
 "nbformat_minor": 0
}
