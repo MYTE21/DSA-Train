{
 "cells": [
  {
   "cell_type": "code",
   "execution_count": 1,
   "metadata": {
    "collapsed": true
   },
   "outputs": [
    {
     "name": "stdout",
     "output_type": "stream",
     "text": [
      "I am fnc1\n",
      "I am fnc2\n"
     ]
    }
   ],
   "source": [
    "def fnc1():\n",
    "    print(\"I am fnc1\")\n",
    "    def fnc2():\n",
    "        print(\"I am fnc2\")\n",
    "    fnc2()\n",
    "\n",
    "\n",
    "fnc1()"
   ]
  },
  {
   "cell_type": "markdown",
   "source": [
    "Nested Function ⬆️"
   ],
   "metadata": {
    "collapsed": false
   }
  }
 ],
 "metadata": {
  "kernelspec": {
   "display_name": "Python 3",
   "language": "python",
   "name": "python3"
  },
  "language_info": {
   "codemirror_mode": {
    "name": "ipython",
    "version": 2
   },
   "file_extension": ".py",
   "mimetype": "text/x-python",
   "name": "python",
   "nbconvert_exporter": "python",
   "pygments_lexer": "ipython2",
   "version": "2.7.6"
  }
 },
 "nbformat": 4,
 "nbformat_minor": 0
}
