{
 "cells": [
  {
   "cell_type": "code",
   "execution_count": 3,
   "metadata": {
    "collapsed": true
   },
   "outputs": [
    {
     "name": "stdout",
     "output_type": "stream",
     "text": [
      "<function addition.<locals>.add at 0x000001CE356176D0>\n",
      "<class 'function'>\n",
      "30\n"
     ]
    }
   ],
   "source": [
    "def addition(n1, n2):\n",
    "    def add():\n",
    "        return n1 + n2\n",
    "\n",
    "    return add\n",
    "\n",
    "\n",
    "if __name__ == \"__main__\":\n",
    "    fnc = addition(10, 20)\n",
    "    print(fnc)\n",
    "    print(type(fnc))\n",
    "    print(fnc())"
   ]
  }
 ],
 "metadata": {
  "kernelspec": {
   "display_name": "Python 3",
   "language": "python",
   "name": "python3"
  },
  "language_info": {
   "codemirror_mode": {
    "name": "ipython",
    "version": 2
   },
   "file_extension": ".py",
   "mimetype": "text/x-python",
   "name": "python",
   "nbconvert_exporter": "python",
   "pygments_lexer": "ipython2",
   "version": "2.7.6"
  }
 },
 "nbformat": 4,
 "nbformat_minor": 0
}
