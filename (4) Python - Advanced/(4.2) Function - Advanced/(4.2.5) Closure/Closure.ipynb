{
 "cells": [
  {
   "cell_type": "code",
   "execution_count": 1,
   "metadata": {
    "collapsed": true
   },
   "outputs": [
    {
     "name": "stdout",
     "output_type": "stream",
     "text": [
      "15\n",
      "120\n"
     ]
    }
   ],
   "source": [
    "def addition(n1):\n",
    "    def add(n2):\n",
    "        return n1 + n2\n",
    "    return add\n",
    "\n",
    "\n",
    "if __name__ == \"__main__\":\n",
    "    ten_plus = addition(10)\n",
    "    hundred_plus = addition(100)\n",
    "\n",
    "    print(ten_plus(5))\n",
    "    print(hundred_plus(20))"
   ]
  },
  {
   "cell_type": "code",
   "execution_count": 2,
   "outputs": [
    {
     "name": "stdout",
     "output_type": "stream",
     "text": [
      "2\n",
      "3\n",
      "6\n"
     ]
    }
   ],
   "source": [
    "one_plus = addition(1)\n",
    "\n",
    "print(one_plus(1))\n",
    "print(one_plus(2))\n",
    "print(one_plus(5))"
   ],
   "metadata": {
    "collapsed": false
   }
  },
  {
   "cell_type": "code",
   "execution_count": 3,
   "outputs": [
    {
     "name": "stdout",
     "output_type": "stream",
     "text": [
      "11\n",
      "(<cell at 0x00000235A6830280: int object at 0x000002359FE600F0>,)\n",
      "None\n"
     ]
    }
   ],
   "source": [
    "def addition(n1):\n",
    "    def add(n2):\n",
    "        return n1 + n2\n",
    "    return add\n",
    "\n",
    "\n",
    "if __name__ == \"__main__\":\n",
    "    one_plus = addition(1)\n",
    "    print(one_plus(10))\n",
    "    print(one_plus.__closure__)\n",
    "    print(addition.__closure__)"
   ],
   "metadata": {
    "collapsed": false
   }
  },
  {
   "cell_type": "code",
   "execution_count": 4,
   "outputs": [
    {
     "name": "stdout",
     "output_type": "stream",
     "text": [
      "11\n",
      "None\n"
     ]
    }
   ],
   "source": [
    " def addition(n1):\n",
    "    def add(n2):\n",
    "        return 1 + n2\n",
    "    return add\n",
    "\n",
    "\n",
    "if __name__ == \"__main__\":\n",
    "    one_plus = addition(1)\n",
    "    print(one_plus(10))\n",
    "    print(one_plus.__closure__)"
   ],
   "metadata": {
    "collapsed": false
   }
  }
 ],
 "metadata": {
  "kernelspec": {
   "display_name": "Python 3",
   "language": "python",
   "name": "python3"
  },
  "language_info": {
   "codemirror_mode": {
    "name": "ipython",
    "version": 2
   },
   "file_extension": ".py",
   "mimetype": "text/x-python",
   "name": "python",
   "nbconvert_exporter": "python",
   "pygments_lexer": "ipython2",
   "version": "2.7.6"
  }
 },
 "nbformat": 4,
 "nbformat_minor": 0
}
