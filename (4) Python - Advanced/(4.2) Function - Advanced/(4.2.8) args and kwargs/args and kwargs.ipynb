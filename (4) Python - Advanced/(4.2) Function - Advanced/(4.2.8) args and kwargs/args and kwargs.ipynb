{
 "cells": [
  {
   "cell_type": "code",
   "execution_count": 1,
   "metadata": {
    "collapsed": true
   },
   "outputs": [
    {
     "name": "stdout",
     "output_type": "stream",
     "text": [
      "(1, 10, 100)\n",
      "111\n"
     ]
    }
   ],
   "source": [
    "def addition(*args):\n",
    "    print(args)\n",
    "    total = 0\n",
    "    for item in args:\n",
    "        total += int(item)\n",
    "    return total\n",
    "\n",
    "\n",
    "if __name__ == \"__main__\":\n",
    "    value = addition(1, 10, 100)\n",
    "    print(value)"
   ]
  },
  {
   "cell_type": "code",
   "execution_count": 2,
   "outputs": [
    {
     "name": "stdout",
     "output_type": "stream",
     "text": [
      "{'a': 1, 'b': 10, 'c': 100, 'd': [1, 2, 3]}\n"
     ]
    }
   ],
   "source": [
    "def foo(**kwargs):\n",
    "    print(kwargs)\n",
    "\n",
    "\n",
    "foo(a = 1, b = 10, c = 100, d = [1, 2, 3])"
   ],
   "metadata": {
    "collapsed": false
   }
  },
  {
   "cell_type": "code",
   "execution_count": 3,
   "outputs": [
    {
     "name": "stdout",
     "output_type": "stream",
     "text": [
      "(1, 2, 3)\n",
      "{'a': 1, 'b': 2, 'c': 3}\n"
     ]
    }
   ],
   "source": [
    "def foo(*args, **kwargs):\n",
    "    print(args)\n",
    "    print(kwargs)\n",
    "\n",
    "\n",
    "foo(1, 2, 3, a = 1, b = 2 , c = 3)"
   ],
   "metadata": {
    "collapsed": false
   }
  }
 ],
 "metadata": {
  "kernelspec": {
   "display_name": "Python 3",
   "language": "python",
   "name": "python3"
  },
  "language_info": {
   "codemirror_mode": {
    "name": "ipython",
    "version": 2
   },
   "file_extension": ".py",
   "mimetype": "text/x-python",
   "name": "python",
   "nbconvert_exporter": "python",
   "pygments_lexer": "ipython2",
   "version": "2.7.6"
  }
 },
 "nbformat": 4,
 "nbformat_minor": 0
}
