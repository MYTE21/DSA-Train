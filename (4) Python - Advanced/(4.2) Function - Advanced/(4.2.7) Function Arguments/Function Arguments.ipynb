{
 "cells": [
  {
   "cell_type": "code",
   "execution_count": 1,
   "metadata": {
    "collapsed": true
   },
   "outputs": [],
   "source": [
    "def foo(a, b, c):\n",
    "    print(\"Value of a: \", a)\n",
    "    print(\"Value of b: \", b)\n",
    "    print(\"Value of c: \", c)"
   ]
  },
  {
   "cell_type": "code",
   "execution_count": 5,
   "outputs": [
    {
     "name": "stdout",
     "output_type": "stream",
     "text": [
      "Running foo(1, 2, 3):\n",
      "Value of a:  1\n",
      "Value of b:  2\n",
      "Value of c:  3\n",
      "\n",
      "Running foo(b = 2, c = 3, a = 1):\n",
      "Value of a:  1\n",
      "Value of b:  2\n",
      "Value of c:  3\n",
      "\n",
      "Running foo(1, 2, c = 3):\n",
      "Value of a:  1\n",
      "Value of b:  2\n",
      "Value of c:  3\n",
      "\n",
      "Running foo(1, b = 2, c = 3):\n",
      "Value of a:  1\n",
      "Value of b:  2\n",
      "Value of c:  3\n"
     ]
    }
   ],
   "source": [
    "if __name__ == \"__main__\":\n",
    "    print(\"Running foo(1, 2, 3):\")\n",
    "    foo(1, 2, 3)\n",
    "    print(\"\\nRunning foo(b = 2, c = 3, a = 1):\")\n",
    "    foo(b = 2, c = 3, a = 1)\n",
    "\n",
    "    print(\"\\nRunning foo(1, 2, c = 3):\")\n",
    "    foo(1, 2, c = 3)\n",
    "    print(\"\\nRunning foo(1, b = 2, c = 3):\")\n",
    "    foo(1, b = 2, c = 3)"
   ],
   "metadata": {
    "collapsed": false
   }
  },
  {
   "cell_type": "code",
   "execution_count": 6,
   "outputs": [
    {
     "ename": "SyntaxError",
     "evalue": "positional argument follows keyword argument (1132061174.py, line 3)",
     "output_type": "error",
     "traceback": [
      "\u001B[1;36m  Cell \u001B[1;32mIn[6], line 3\u001B[1;36m\u001B[0m\n\u001B[1;33m    foo(a = 1, 2, 3)\u001B[0m\n\u001B[1;37m                   ^\u001B[0m\n\u001B[1;31mSyntaxError\u001B[0m\u001B[1;31m:\u001B[0m positional argument follows keyword argument\n"
     ]
    }
   ],
   "source": [
    "# Positional arguments can't be after keyword arguments\n",
    "if __name__ == \"__main__\":\n",
    "    print(\"Running foo(a = 1, 2, 3):\")\n",
    "    foo(a = 1, 2, 3)"
   ],
   "metadata": {
    "collapsed": false
   }
  }
 ],
 "metadata": {
  "kernelspec": {
   "display_name": "Python 3",
   "language": "python",
   "name": "python3"
  },
  "language_info": {
   "codemirror_mode": {
    "name": "ipython",
    "version": 2
   },
   "file_extension": ".py",
   "mimetype": "text/x-python",
   "name": "python",
   "nbconvert_exporter": "python",
   "pygments_lexer": "ipython2",
   "version": "2.7.6"
  }
 },
 "nbformat": 4,
 "nbformat_minor": 0
}
