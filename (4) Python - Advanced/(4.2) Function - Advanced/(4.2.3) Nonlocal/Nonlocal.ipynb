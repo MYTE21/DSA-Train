{
 "cells": [
  {
   "cell_type": "code",
   "execution_count": 1,
   "metadata": {
    "collapsed": true
   },
   "outputs": [
    {
     "name": "stdout",
     "output_type": "stream",
     "text": [
      "Inside add() function, result:  15\n"
     ]
    }
   ],
   "source": [
    "def addition(n1, n2):\n",
    "    def add():\n",
    "        result = n1 + n2\n",
    "        print(\"Inside add() function, result: \", result)\n",
    "\n",
    "    add()\n",
    "\n",
    "\n",
    "if __name__ == \"__main__\":\n",
    "    n1, n2 = 10, 5\n",
    "    addition(n1, n2)"
   ]
  },
  {
   "cell_type": "code",
   "execution_count": 2,
   "outputs": [
    {
     "name": "stdout",
     "output_type": "stream",
     "text": [
      "Inside add() function, result:  15\n",
      "Result:  0\n"
     ]
    }
   ],
   "source": [
    "def addition(n1, n2):\n",
    "    result = 0\n",
    "\n",
    "    def add():\n",
    "        result = n1 + n2\n",
    "        print(\"Inside add() function, result: \", result)\n",
    "\n",
    "    add()\n",
    "\n",
    "    print(\"Result: \", result)\n",
    "\n",
    "\n",
    "if __name__ == \"__main__\":\n",
    "    n1, n2 = 10, 5\n",
    "    addition(n1, n2)"
   ],
   "metadata": {
    "collapsed": false
   }
  },
  {
   "cell_type": "code",
   "execution_count": 3,
   "outputs": [
    {
     "name": "stdout",
     "output_type": "stream",
     "text": [
      "Inside add() function, result:  15\n",
      "Result:  15\n"
     ]
    }
   ],
   "source": [
    "def addition(n1, n2):\n",
    "    result = 0\n",
    "\n",
    "    def add():\n",
    "        nonlocal result\n",
    "        result = n1 + n2\n",
    "        print(\"Inside add() function, result: \", result)\n",
    "\n",
    "    add()\n",
    "\n",
    "    print(\"Result: \", result)\n",
    "\n",
    "\n",
    "if __name__ == \"__main__\":\n",
    "    n1, n2 = 10, 5\n",
    "    addition(n1, n2)"
   ],
   "metadata": {
    "collapsed": false
   }
  }
 ],
 "metadata": {
  "kernelspec": {
   "display_name": "Python 3",
   "language": "python",
   "name": "python3"
  },
  "language_info": {
   "codemirror_mode": {
    "name": "ipython",
    "version": 2
   },
   "file_extension": ".py",
   "mimetype": "text/x-python",
   "name": "python",
   "nbconvert_exporter": "python",
   "pygments_lexer": "ipython2",
   "version": "2.7.6"
  }
 },
 "nbformat": 4,
 "nbformat_minor": 0
}
