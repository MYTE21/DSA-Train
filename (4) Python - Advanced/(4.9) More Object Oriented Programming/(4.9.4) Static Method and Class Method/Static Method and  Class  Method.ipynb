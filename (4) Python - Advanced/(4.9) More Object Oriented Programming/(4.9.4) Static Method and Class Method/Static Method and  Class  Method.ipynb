{
 "cells": [
  {
   "cell_type": "markdown",
   "source": [
    "# Static Method"
   ],
   "metadata": {
    "collapsed": false
   }
  },
  {
   "cell_type": "code",
   "execution_count": 2,
   "metadata": {
    "collapsed": true
   },
   "outputs": [
    {
     "name": "stdout",
     "output_type": "stream",
     "text": [
      "50000\n"
     ]
    }
   ],
   "source": [
    "class Car:\n",
    "    def __init__(self, name, manufacturer, color, year):\n",
    "        print(\"Creating a Car\")\n",
    "        self.name = name\n",
    "        self.manufacturer = manufacturer\n",
    "        self.color = color\n",
    "        self.year = year\n",
    "\n",
    "    def change_gear(self, gear):\n",
    "        print(\"Changing gear to\", gear)\n",
    "\n",
    "    @staticmethod\n",
    "    def latest_price(location, manufacturer, name):\n",
    "        return 50000\n",
    "\n",
    "\n",
    "if __name__ == \"__main__\":\n",
    "    price = Car.latest_price(\"Australia\", \"Toyota\", \"Camry\")\n",
    "    print(price)"
   ]
  },
  {
   "cell_type": "code",
   "execution_count": 3,
   "outputs": [
    {
     "name": "stdout",
     "output_type": "stream",
     "text": [
      "Creating a Car\n",
      "50000\n"
     ]
    }
   ],
   "source": [
    "if __name__ == \"__main__\":\n",
    "    my_car = Car(\"Camry\", \"Toyota\", \"White\", 2020)\n",
    "    price = my_car.latest_price(\"Australia\", \"Toyota\", \"Camry\")\n",
    "    print(price)"
   ],
   "metadata": {
    "collapsed": false
   }
  },
  {
   "cell_type": "markdown",
   "source": [
    "# Class Method"
   ],
   "metadata": {
    "collapsed": false
   }
  },
  {
   "cell_type": "code",
   "execution_count": 6,
   "outputs": [],
   "source": [
    "class Car:\n",
    "    count = 0\n",
    "\n",
    "    def __init__(self, name, manufacturer, color, year):\n",
    "        print(\"Creating a Car\")\n",
    "        self.name = name\n",
    "        self.manufacturer = manufacturer\n",
    "        self.color = color\n",
    "        self.year = year\n",
    "        Car.count += 1\n",
    "\n",
    "    def change_gear(self, gear):\n",
    "        print(\"Changing gear to\", gear)\n",
    "\n",
    "    @classmethod\n",
    "    def display_count(cls):\n",
    "        print(\"Car count:\", cls.count)\n",
    "\n",
    "    @classmethod\n",
    "    def reset_count(cls):\n",
    "        cls.count = 0\n",
    "\n",
    "    @classmethod\n",
    "    def reset_display_count(cls):\n",
    "        cls.reset_count()\n",
    "        cls.display_count()"
   ],
   "metadata": {
    "collapsed": false
   }
  },
  {
   "cell_type": "code",
   "execution_count": 9,
   "outputs": [
    {
     "name": "stdout",
     "output_type": "stream",
     "text": [
      "Creating a Car\n",
      "Creating a Car\n",
      "Creating a Car\n",
      "Car count: 3\n",
      "Car count: 0\n"
     ]
    }
   ],
   "source": [
    "if __name__ == \"__main__\":\n",
    "    my_car1 = Car(\"Camry\", \"Toyota\", \"White\", 2020)\n",
    "    my_car2 = Car(\"Camry\", \"Toyota\", \"White\", 2020)\n",
    "    my_car3 = Car(\"Camry\", \"Toyota\", \"White\", 2020)\n",
    "\n",
    "    Car.display_count()\n",
    "    Car.reset_count()\n",
    "    Car.display_count()"
   ],
   "metadata": {
    "collapsed": false
   }
  },
  {
   "cell_type": "code",
   "execution_count": 10,
   "outputs": [
    {
     "data": {
      "text/plain": "dict"
     },
     "execution_count": 10,
     "metadata": {},
     "output_type": "execute_result"
    }
   ],
   "source": [
    "x = dict()\n",
    "type(x)"
   ],
   "metadata": {
    "collapsed": false
   }
  },
  {
   "cell_type": "code",
   "execution_count": 11,
   "outputs": [
    {
     "data": {
      "text/plain": "dict"
     },
     "execution_count": 11,
     "metadata": {},
     "output_type": "execute_result"
    }
   ],
   "source": [
    "x = dict.fromkeys([1, 2, 3])\n",
    "type(x)"
   ],
   "metadata": {
    "collapsed": false
   }
  }
 ],
 "metadata": {
  "kernelspec": {
   "display_name": "Python 3",
   "language": "python",
   "name": "python3"
  },
  "language_info": {
   "codemirror_mode": {
    "name": "ipython",
    "version": 2
   },
   "file_extension": ".py",
   "mimetype": "text/x-python",
   "name": "python",
   "nbconvert_exporter": "python",
   "pygments_lexer": "ipython2",
   "version": "2.7.6"
  }
 },
 "nbformat": 4,
 "nbformat_minor": 0
}
