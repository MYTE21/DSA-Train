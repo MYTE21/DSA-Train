{
 "cells": [
  {
   "cell_type": "code",
   "execution_count": 10,
   "metadata": {
    "collapsed": true
   },
   "outputs": [],
   "source": [
    "class Car:\n",
    "    def __init__(self, name, manufacturer, year, price = None):\n",
    "        self.name = name\n",
    "        self.manufacturer = manufacturer\n",
    "        self.year = year\n",
    "        self._price = price\n",
    "\n",
    "    @property\n",
    "    def price(self):\n",
    "        return \"${:.2f}\".format(self._price) if self._price else \"Car didn't have a price\"\n",
    "\n",
    "    @price.setter\n",
    "    def price(self, new_price):\n",
    "        if not isinstance(new_price, (float, int)):\n",
    "            print(\"Invalid data for price\")\n",
    "        elif new_price < 0:\n",
    "            print(\"Price can't be negative\")\n",
    "        else:\n",
    "            self._price = new_price\n",
    "\n",
    "    @price.deleter\n",
    "    def price(self):\n",
    "        self._price = None"
   ]
  },
  {
   "cell_type": "code",
   "execution_count": 12,
   "outputs": [
    {
     "name": "stdout",
     "output_type": "stream",
     "text": [
      "$35000.00\n",
      "$38000.00\n",
      "Invalid data for price\n",
      "$38000.00\n",
      "Car didn't have a price\n",
      "$54000.00\n"
     ]
    }
   ],
   "source": [
    "if __name__ == \"__main__\":\n",
    "    car = Car(\"Camry\", \"Toyota\", 2022, 35000)\n",
    "    print(car.price)\n",
    "    car.price = 38000\n",
    "    print(car.price)\n",
    "    car.price = \"100\"\n",
    "    print(car.price)\n",
    "    del car.price\n",
    "    print(car.price)\n",
    "    car.price = 54000\n",
    "    print(car.price)"
   ],
   "metadata": {
    "collapsed": false
   }
  }
 ],
 "metadata": {
  "kernelspec": {
   "display_name": "Python 3",
   "language": "python",
   "name": "python3"
  },
  "language_info": {
   "codemirror_mode": {
    "name": "ipython",
    "version": 2
   },
   "file_extension": ".py",
   "mimetype": "text/x-python",
   "name": "python",
   "nbconvert_exporter": "python",
   "pygments_lexer": "ipython2",
   "version": "2.7.6"
  }
 },
 "nbformat": 4,
 "nbformat_minor": 0
}
