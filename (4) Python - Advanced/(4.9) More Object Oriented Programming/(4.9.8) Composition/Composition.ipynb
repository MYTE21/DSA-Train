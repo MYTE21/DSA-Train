{
 "cells": [
  {
   "cell_type": "code",
   "execution_count": 2,
   "outputs": [],
   "source": [
    "class Nonte:\n",
    "    def math_marks(self):\n",
    "        print(\"Math mark of Nonte: 100\")"
   ],
   "metadata": {
    "collapsed": false
   }
  },
  {
   "cell_type": "code",
   "execution_count": 3,
   "outputs": [],
   "source": [
    "class Fonte:\n",
    "    def science_marks(self):\n",
    "        print(\"Science mark of Fonte: 90\")"
   ],
   "metadata": {
    "collapsed": false
   }
  },
  {
   "cell_type": "code",
   "execution_count": 4,
   "outputs": [],
   "source": [
    "class Monte:\n",
    "    def english_marks(self):\n",
    "        print(\"English mark of Monte: 86\")"
   ],
   "metadata": {
    "collapsed": false
   }
  },
  {
   "cell_type": "code",
   "execution_count": 9,
   "metadata": {
    "collapsed": true
   },
   "outputs": [],
   "source": [
    "class Jhontu:\n",
    "    def __init__(self):\n",
    "        self.n = Nonte()\n",
    "        self.f = Fonte()\n",
    "        self.m = Monte()\n",
    "\n",
    "    def math_marks(self):\n",
    "        return self.n.math_marks()\n",
    "\n",
    "    def english_marks(self):\n",
    "        return self.m.english_marks()\n",
    "\n",
    "    def science_marks(self):\n",
    "        return self.f.science_marks()"
   ]
  },
  {
   "cell_type": "code",
   "execution_count": 10,
   "outputs": [],
   "source": [
    "j = Jhontu()"
   ],
   "metadata": {
    "collapsed": false
   }
  },
  {
   "cell_type": "code",
   "execution_count": 11,
   "outputs": [
    {
     "name": "stdout",
     "output_type": "stream",
     "text": [
      "Math mark of Nonte: 100\n"
     ]
    }
   ],
   "source": [
    "j.math_marks()"
   ],
   "metadata": {
    "collapsed": false
   }
  },
  {
   "cell_type": "code",
   "execution_count": 12,
   "outputs": [
    {
     "name": "stdout",
     "output_type": "stream",
     "text": [
      "English mark of Monte: 86\n"
     ]
    }
   ],
   "source": [
    "j.english_marks()"
   ],
   "metadata": {
    "collapsed": false
   }
  },
  {
   "cell_type": "code",
   "execution_count": 13,
   "outputs": [
    {
     "name": "stdout",
     "output_type": "stream",
     "text": [
      "Science mark of Fonte: 90\n"
     ]
    }
   ],
   "source": [
    "j.science_marks()"
   ],
   "metadata": {
    "collapsed": false
   }
  }
 ],
 "metadata": {
  "kernelspec": {
   "display_name": "Python 3",
   "language": "python",
   "name": "python3"
  },
  "language_info": {
   "codemirror_mode": {
    "name": "ipython",
    "version": 2
   },
   "file_extension": ".py",
   "mimetype": "text/x-python",
   "name": "python",
   "nbconvert_exporter": "python",
   "pygments_lexer": "ipython2",
   "version": "2.7.6"
  }
 },
 "nbformat": 4,
 "nbformat_minor": 0
}
