{
 "cells": [
  {
   "cell_type": "code",
   "execution_count": 1,
   "metadata": {
    "collapsed": true
   },
   "outputs": [],
   "source": [
    "from dataclasses import dataclass\n",
    "\n",
    "\n",
    "@dataclass\n",
    "class Car:\n",
    "    name: str\n",
    "    manufacturer: str\n",
    "    year: int\n",
    "    price: int"
   ]
  },
  {
   "cell_type": "code",
   "execution_count": 2,
   "outputs": [
    {
     "name": "stdout",
     "output_type": "stream",
     "text": [
      "Car(name='Camry', manufacturer='Toyota', year=2020, price=35000)\n"
     ]
    }
   ],
   "source": [
    "if __name__ == \"__main__\":\n",
    "    car1 = Car(\"Camry\", \"Toyota\", 2020, 35000)\n",
    "    print(car1)"
   ],
   "metadata": {
    "collapsed": false
   }
  },
  {
   "cell_type": "code",
   "execution_count": 3,
   "outputs": [
    {
     "name": "stdout",
     "output_type": "stream",
     "text": [
      "False\n",
      "True\n"
     ]
    }
   ],
   "source": [
    "if __name__ == \"__main__\":\n",
    "    car1 = Car(\"Camry\", \"Toyota\", 2020, 35000)\n",
    "    car2 = Car(\"Camry\", \"Toyota\", 2021, 35000)\n",
    "    car3 = Car(\"Camry\", \"Toyota\", 2021, 35000)\n",
    "    print(car1 == car2)\n",
    "    print(car2 == car3)"
   ],
   "metadata": {
    "collapsed": false
   }
  },
  {
   "cell_type": "code",
   "execution_count": 4,
   "outputs": [],
   "source": [
    "from dataclasses import dataclass, field\n",
    "\n",
    "\n",
    "@dataclass(order = True)\n",
    "class Car:\n",
    "    sort_index: int = field(init=False, repr=False)\n",
    "    name: str\n",
    "    manufacturer: str\n",
    "    year: int\n",
    "    price: int\n",
    "\n",
    "    def __post_init__(self):\n",
    "        self.sort_index = self.price"
   ],
   "metadata": {
    "collapsed": false
   }
  },
  {
   "cell_type": "code",
   "execution_count": 5,
   "outputs": [
    {
     "name": "stdout",
     "output_type": "stream",
     "text": [
      "Car(name='Camry', manufacturer='Toyota', year=2020, price=38000)\n",
      "Car(name='Prado', manufacturer='Toyota', year=2021, price=70000)\n",
      "Car(name='Corolla', manufacturer='Toyota', year=2021, price=32000)\n",
      "False\n",
      "True\n"
     ]
    }
   ],
   "source": [
    "if __name__ == \"__main__\":\n",
    "    car1 = Car(\"Camry\", \"Toyota\", 2020, 38000)\n",
    "    car2 = Car(\"Prado\", \"Toyota\", 2021, 70000)\n",
    "    car3 = Car(\"Corolla\", \"Toyota\", 2021, 32000)\n",
    "\n",
    "    print(car1)\n",
    "    print(car2)\n",
    "    print(car3)\n",
    "\n",
    "    print(car1 > car2)\n",
    "    print(car2 > car3)"
   ],
   "metadata": {
    "collapsed": false
   }
  },
  {
   "cell_type": "code",
   "execution_count": 12,
   "outputs": [],
   "source": [
    "def compare_price(item):\n",
    "    return item.price"
   ],
   "metadata": {
    "collapsed": false
   }
  },
  {
   "cell_type": "code",
   "execution_count": 17,
   "outputs": [
    {
     "name": "stdout",
     "output_type": "stream",
     "text": [
      "Car list:  [Car(name='Camry', manufacturer='Toyota', year=2020, price=38000), Car(name='Prado', manufacturer='Toyota', year=2021, price=70000), Car(name='Corolla', manufacturer='Toyota', year=2021, price=32000), Car(name='Prado', manufacturer='Toyota', year=2022, price=33000), Car(name='Corolla', manufacturer='Toyota', year=2020, price=54000)]\n",
      "\n",
      "Car list (After Sorting):  [Car(name='Corolla', manufacturer='Toyota', year=2021, price=32000), Car(name='Prado', manufacturer='Toyota', year=2022, price=33000), Car(name='Camry', manufacturer='Toyota', year=2020, price=38000), Car(name='Corolla', manufacturer='Toyota', year=2020, price=54000), Car(name='Prado', manufacturer='Toyota', year=2021, price=70000)]\n"
     ]
    }
   ],
   "source": [
    "if __name__ == \"__main__\":\n",
    "    car1 = Car(\"Camry\", \"Toyota\", 2020, 38000)\n",
    "    car2 = Car(\"Prado\", \"Toyota\", 2021, 70000)\n",
    "    car3 = Car(\"Corolla\", \"Toyota\", 2021, 32000)\n",
    "    car4 = Car(\"Prado\", \"Toyota\", 2022, 33000)\n",
    "    car5 = Car(\"Corolla\", \"Toyota\", 2020, 54000)\n",
    "\n",
    "    car_list = [car1, car2, car3, car4, car5]\n",
    "    print(\"Car list: \", car_list)\n",
    "    print()\n",
    "    print(\"Car list (After Sorting): \", sorted(car_list, key=compare_price))"
   ],
   "metadata": {
    "collapsed": false
   }
  },
  {
   "cell_type": "code",
   "execution_count": 18,
   "outputs": [
    {
     "name": "stdout",
     "output_type": "stream",
     "text": [
      "Car Dictionary:  {'sort_index': 38000, 'name': 'Camry', 'manufacturer': 'Toyota', 'year': 2020, 'price': 38000}\n",
      "\n",
      "Car Tuple:  (38000, 'Camry', 'Toyota', 2020, 38000)\n"
     ]
    }
   ],
   "source": [
    "from dataclasses import asdict, astuple\n",
    "\n",
    "\n",
    "car1 = Car(\"Camry\", \"Toyota\", 2020, 38000)\n",
    "\n",
    "car_dt = asdict(car1)\n",
    "print(\"Car Dictionary: \", car_dt)\n",
    "\n",
    "print()\n",
    "\n",
    "car_tpl = astuple(car1)\n",
    "print(\"Car Tuple: \", car_tpl)"
   ],
   "metadata": {
    "collapsed": false
   }
  }
 ],
 "metadata": {
  "kernelspec": {
   "display_name": "Python 3",
   "language": "python",
   "name": "python3"
  },
  "language_info": {
   "codemirror_mode": {
    "name": "ipython",
    "version": 2
   },
   "file_extension": ".py",
   "mimetype": "text/x-python",
   "name": "python",
   "nbconvert_exporter": "python",
   "pygments_lexer": "ipython2",
   "version": "2.7.6"
  }
 },
 "nbformat": 4,
 "nbformat_minor": 0
}
