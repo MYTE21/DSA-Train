{
 "cells": [
  {
   "cell_type": "code",
   "execution_count": 2,
   "metadata": {
    "collapsed": true
   },
   "outputs": [],
   "source": [
    "from abc import ABC, abstractmethod"
   ]
  },
  {
   "cell_type": "code",
   "execution_count": 3,
   "outputs": [],
   "source": [
    "class Vehicle(ABC):\n",
    "    def __init__(self, name, manufacturer, color):\n",
    "        self.name = name\n",
    "        self.manufacturer = manufacturer\n",
    "        self.color = color\n",
    "\n",
    "    def turn(self, direction):\n",
    "        print(\"Turning\", self.name, \"to\", direction)\n",
    "\n",
    "    @abstractmethod\n",
    "    def change_gear(self, gear):\n",
    "        pass"
   ],
   "metadata": {
    "collapsed": false
   }
  },
  {
   "cell_type": "code",
   "execution_count": 6,
   "outputs": [],
   "source": [
    "class Car(Vehicle):\n",
    "    def __init__(self, name, manufacturer, color, year):\n",
    "        print(\"Creating a Car\")\n",
    "        super().__init__(name, manufacturer, color)\n",
    "        self.year = year\n",
    "\n",
    "    def change_gear(self, gear):\n",
    "        print(\"Changing gear to\", gear)"
   ],
   "metadata": {
    "collapsed": false
   }
  },
  {
   "cell_type": "code",
   "execution_count": 7,
   "outputs": [
    {
     "name": "stdout",
     "output_type": "stream",
     "text": [
      "Creating a Car\n",
      "Camry\n",
      "Turning Camry to left\n",
      "Changing gear to D\n"
     ]
    }
   ],
   "source": [
    "if __name__ == \"__main__\":\n",
    "    my_car = Car(\"Camry\", \"Toyota\", \"White\", 2020)\n",
    "    print(my_car.name)\n",
    "    my_car.turn(\"left\")\n",
    "    my_car.change_gear(\"D\")"
   ],
   "metadata": {
    "collapsed": false
   }
  }
 ],
 "metadata": {
  "kernelspec": {
   "display_name": "Python 3",
   "language": "python",
   "name": "python3"
  },
  "language_info": {
   "codemirror_mode": {
    "name": "ipython",
    "version": 2
   },
   "file_extension": ".py",
   "mimetype": "text/x-python",
   "name": "python",
   "nbconvert_exporter": "python",
   "pygments_lexer": "ipython2",
   "version": "2.7.6"
  }
 },
 "nbformat": 4,
 "nbformat_minor": 0
}
