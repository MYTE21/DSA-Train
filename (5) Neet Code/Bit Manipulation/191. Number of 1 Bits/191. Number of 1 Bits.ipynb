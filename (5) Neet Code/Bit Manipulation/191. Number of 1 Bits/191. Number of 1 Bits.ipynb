{
 "cells": [
  {
   "attachments": {},
   "cell_type": "markdown",
   "metadata": {
    "collapsed": false
   },
   "source": [
    "# 191. Number of 1 Bits\n",
    "Problem Link: [191. Number of 1 Bits](https://leetcode.com/problems/number-of-1-bits/description/)\n",
    "\n",
    "Solution: [YouTube Solution of 191. Number of 1 Bits](https://www.youtube.com/watch?v=5Km3utixwZs)\n"
   ]
  },
  {
   "cell_type": "markdown",
   "metadata": {
    "collapsed": false
   },
   "source": [
    "## Solution - 1"
   ]
  },
  {
   "cell_type": "code",
   "execution_count": 1,
   "metadata": {
    "collapsed": true
   },
   "outputs": [],
   "source": [
    "class Solution:\n",
    "    def hammingWeight(self, n: int) -> int:\n",
    "        result = 0\n",
    "        while n:\n",
    "            result += n % 2\n",
    "            n = n >> 1\n",
    "\n",
    "        return result"
   ]
  },
  {
   "attachments": {},
   "cell_type": "markdown",
   "metadata": {},
   "source": [
    "## Solution - 2"
   ]
  },
  {
   "cell_type": "code",
   "execution_count": 2,
   "metadata": {
    "collapsed": false
   },
   "outputs": [],
   "source": [
    "class Solution:\n",
    "    def hammingWeight(self, n: int) -> int:\n",
    "        result = 0\n",
    "        while n:\n",
    "            n &= (n - 1)\n",
    "            result += 1\n",
    "\n",
    "        return result"
   ]
  }
 ],
 "metadata": {
  "kernelspec": {
   "display_name": "cubone",
   "language": "python",
   "name": "python3"
  },
  "language_info": {
   "codemirror_mode": {
    "name": "ipython",
    "version": 3
   },
   "file_extension": ".py",
   "mimetype": "text/x-python",
   "name": "python",
   "nbconvert_exporter": "python",
   "pygments_lexer": "ipython3",
   "version": "3.10.8"
  },
  "vscode": {
   "interpreter": {
    "hash": "c6842b79019607ed6b7c8fb2d2fdca23605660dfa99fb418c9781a30d680e217"
   }
  }
 },
 "nbformat": 4,
 "nbformat_minor": 0
}
